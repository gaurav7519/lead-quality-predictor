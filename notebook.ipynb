  {
   "cell_type": "markdown",
   "id": "9fef8238-046b-4f95-8c6d-88936961e1e1",
   "metadata": {},
   "source": [
    "\n",
    "---\n",
    "\n",
    "# 🎯 Lead Quality Prediction – Fizcon Inc\n",
    "\n",
    "Fizcon Inc is an IT solutions provider offering both on-premises and SaaS-based software. A large portion of their potential customers (leads) comes through digital platforms, especially their website.\n",
    "\n",
    "Recently, Fizcon has seen a **drop in sales**, and the sales team is overwhelmed with managing a high number of incoming leads — many of which may not convert.\n",
    "\n",
    "## 📌 Project Objective\n",
    "\n",
    "To address this issue, the goal is to use **Machine Learning** to automatically **predict the quality of a lead** as soon as it arrives. This will allow the sales team to focus more on **high-potential leads**, improving efficiency and increasing conversion rates.\n",
    "\n",
    "---\n",
    "\n",
    "## 🔍 Project Goals\n",
    "\n",
    "* 📊 **Explore data** to uncover insights related to sales effectiveness.\n",
    "* 🤖 **Develop a machine learning model** to classify leads as:\n",
    "\n",
    "  * `High Potential`\n",
    "  * `Low Potential`\n",
    "\n",
    "---\n",
    "\n",
    "## 🧩 Project Steps\n",
    "\n",
    "1. **Fetching Data from Database**\n",
    "   Extracting raw leads data stored in company databases.\n",
    "\n",
    "2. **Domain Analysis**\n",
    "   Understanding the lead generation process and sales funnel at Fizcon.\n",
    "\n",
    "3. **Exploratory Data Analysis (EDA)**\n",
    "   Analyzing patterns, trends, and anomalies in the lead data.\n",
    "\n",
    "4. **Data Preprocessing & Feature Engineering**\n",
    "   Cleaning the data, handling missing values, and creating meaningful features.\n",
    "\n",
    "5. **Feature Selection**\n",
    "   Choosing the most relevant features for the prediction task.\n",
    "\n",
    "6. **Model Creation**\n",
    "   Building machine learning models to classify leads.\n",
    "\n",
    "7. **Model Evaluation**\n",
    "   Assessing model performance using accuracy, precision, recall, etc.\n",
    "\n",
    "---\n",
    "\n",
    "## 🚀 Outcome\n",
    "\n",
    "A ready-to-deploy ML model capable of classifying leads into `High Potential` and `Low Potential`, helping Fizcon’s sales team to focus their efforts where it matters most.\n",
    "\n",
    "---\n",
    "\n"
   ]
  },
  {
   "cell_type": "markdown",
   "id": "2d26c7c9-d3af-4d36-905f-d0686f65c68c",
   "metadata": {
    "jp-MarkdownHeadingCollapsed": true
   },
   "source": [
    "### Importing library"
   ]
  },
  {
   "cell_type": "code",
   "execution_count": 5,
   "id": "aec068d0-cb06-4676-bfaa-93afb8840e23",
   "metadata": {},
   "outputs": [],
   "source": [
    "import pandas as pd\n",
    "import numpy as np\n",
    "import plotly.express as px\n",
    "import matplotlib.pyplot as plt\n",
    "import seaborn as sns\n",
    "%matplotlib inline\n",
    "import warnings \n",
    "warnings.filterwarnings('ignore')"
   ]
  },
  {
   "cell_type": "markdown",
   "id": "30265d04-6600-442e-b63d-bce1d79f93f9",
   "metadata": {
    "jp-MarkdownHeadingCollapsed": true
   },
   "source": [
    "### 1. FEACHING DATA FROM DATA-BASE."
   ]
  },
  {
   "cell_type": "markdown",
   "id": "53768a06-02a9-47ab-9a80-67d00dda9b36",
   "metadata": {},
   "source": [
    "- Using MySQL Workbench deta fenched from data-base into CSV file.\n",
    "- CSV file tranfered into Dataframe."
   ]
  },
  {
   "cell_type": "code",
   "execution_count": 8,
   "id": "ea3d46ed-3a3c-4783-b18d-0b673b183618",
   "metadata": {},
   "outputs": [],
   "source": [
    "df = pd.read_csv(\"sales.csv\")"
   ]
  },
  {
   "cell_type": "code",
   "execution_count": 9,
   "id": "a4eaab86-564a-404c-b76d-59e1481c8339",
   "metadata": {},
   "outputs": [
    {
     "data": {
      "text/html": [
       "<div>\n",
       "<style scoped>\n",
       "    .dataframe tbody tr th:only-of-type {\n",
       "        vertical-align: middle;\n",
       "    }\n",
       "\n",
       "    .dataframe tbody tr th {\n",
       "        vertical-align: top;\n",
       "    }\n",
       "\n",
       "    .dataframe thead th {\n",
       "        text-align: right;\n",
       "    }\n",
       "</style>\n",
       "<table border=\"1\" class=\"dataframe\">\n",
       "  <thead>\n",
       "    <tr style=\"text-align: right;\">\n",
       "      <th></th>\n",
       "      <th>Created</th>\n",
       "      <th>Product_ID</th>\n",
       "      <th>Source</th>\n",
       "      <th>Mobile</th>\n",
       "      <th>EMAIL</th>\n",
       "      <th>Sales_Agent</th>\n",
       "      <th>Location</th>\n",
       "      <th>Delivery_Mode</th>\n",
       "      <th>Status</th>\n",
       "    </tr>\n",
       "  </thead>\n",
       "  <tbody>\n",
       "    <tr>\n",
       "      <th>0</th>\n",
       "      <td>14-11-2018 10:05</td>\n",
       "      <td>NaN</td>\n",
       "      <td>Website</td>\n",
       "      <td>984XXXXXXX</td>\n",
       "      <td>aXXXXXXX@gmail.com</td>\n",
       "      <td>Sales-Agent-11</td>\n",
       "      <td>NaN</td>\n",
       "      <td>Mode-5</td>\n",
       "      <td>Open</td>\n",
       "    </tr>\n",
       "    <tr>\n",
       "      <th>1</th>\n",
       "      <td>14-11-2018 09:22</td>\n",
       "      <td>NaN</td>\n",
       "      <td>Website</td>\n",
       "      <td>XXXXXXX</td>\n",
       "      <td>#VALUE!</td>\n",
       "      <td>Sales-Agent-10</td>\n",
       "      <td>NaN</td>\n",
       "      <td>Mode-5</td>\n",
       "      <td>Open</td>\n",
       "    </tr>\n",
       "    <tr>\n",
       "      <th>2</th>\n",
       "      <td>14-11-2018 09:21</td>\n",
       "      <td>NaN</td>\n",
       "      <td>Website</td>\n",
       "      <td>XXXXXXX</td>\n",
       "      <td>dXXXXXXX@yahoo.com</td>\n",
       "      <td>Sales-Agent-10</td>\n",
       "      <td>NaN</td>\n",
       "      <td>Mode-5</td>\n",
       "      <td>Open</td>\n",
       "    </tr>\n",
       "    <tr>\n",
       "      <th>3</th>\n",
       "      <td>14-11-2018 08:46</td>\n",
       "      <td>NaN</td>\n",
       "      <td>Website</td>\n",
       "      <td>XXXXXXX</td>\n",
       "      <td>wXXXXXXX@gmail.com</td>\n",
       "      <td>Sales-Agent-10</td>\n",
       "      <td>NaN</td>\n",
       "      <td>Mode-5</td>\n",
       "      <td>Open</td>\n",
       "    </tr>\n",
       "    <tr>\n",
       "      <th>4</th>\n",
       "      <td>14-11-2018 07:34</td>\n",
       "      <td>NaN</td>\n",
       "      <td>Website</td>\n",
       "      <td>XXXXXXX</td>\n",
       "      <td>cXXXXXXX@gmail.com</td>\n",
       "      <td>Sales-Agent-10</td>\n",
       "      <td>NaN</td>\n",
       "      <td>Mode-5</td>\n",
       "      <td>Open</td>\n",
       "    </tr>\n",
       "    <tr>\n",
       "      <th>...</th>\n",
       "      <td>...</td>\n",
       "      <td>...</td>\n",
       "      <td>...</td>\n",
       "      <td>...</td>\n",
       "      <td>...</td>\n",
       "      <td>...</td>\n",
       "      <td>...</td>\n",
       "      <td>...</td>\n",
       "      <td>...</td>\n",
       "    </tr>\n",
       "    <tr>\n",
       "      <th>7417</th>\n",
       "      <td>28-04-2018 09:45</td>\n",
       "      <td>9.0</td>\n",
       "      <td>Call</td>\n",
       "      <td>NaN</td>\n",
       "      <td>aXXXXXXX@gmail.com</td>\n",
       "      <td>Sales-Agent-6</td>\n",
       "      <td>Mumbai</td>\n",
       "      <td>Mode-4</td>\n",
       "      <td>LOST</td>\n",
       "    </tr>\n",
       "    <tr>\n",
       "      <th>7418</th>\n",
       "      <td>28-04-2018 09:43</td>\n",
       "      <td>15.0</td>\n",
       "      <td>Call</td>\n",
       "      <td>NaN</td>\n",
       "      <td>#VALUE!</td>\n",
       "      <td>Sales-Agent-12</td>\n",
       "      <td>Other Locations</td>\n",
       "      <td>Mode-5</td>\n",
       "      <td>LOST</td>\n",
       "    </tr>\n",
       "    <tr>\n",
       "      <th>7419</th>\n",
       "      <td>28-04-2018 09:20</td>\n",
       "      <td>5.0</td>\n",
       "      <td>Live Chat-Direct</td>\n",
       "      <td>NaN</td>\n",
       "      <td>sXXXXXXX@gmail.com</td>\n",
       "      <td>Sales-Agent-11</td>\n",
       "      <td>Bangalore</td>\n",
       "      <td>Mode-1</td>\n",
       "      <td>Not Responding</td>\n",
       "    </tr>\n",
       "    <tr>\n",
       "      <th>7420</th>\n",
       "      <td>28-04-2018 08:04</td>\n",
       "      <td>21.0</td>\n",
       "      <td>CRM form</td>\n",
       "      <td>NaN</td>\n",
       "      <td>YXXXXXXX@gmail.com</td>\n",
       "      <td>Sales-Agent-4</td>\n",
       "      <td>Other Locations</td>\n",
       "      <td>Mode-1</td>\n",
       "      <td>Just Enquiry</td>\n",
       "    </tr>\n",
       "    <tr>\n",
       "      <th>7421</th>\n",
       "      <td>28-04-2018 07:54</td>\n",
       "      <td>25.0</td>\n",
       "      <td>Website</td>\n",
       "      <td>NaN</td>\n",
       "      <td>cXXXXXXX@gmail.com</td>\n",
       "      <td>Sales-Agent-3</td>\n",
       "      <td>Chennai</td>\n",
       "      <td>Mode-1</td>\n",
       "      <td>CONVERTED</td>\n",
       "    </tr>\n",
       "  </tbody>\n",
       "</table>\n",
       "<p>7422 rows × 9 columns</p>\n",
       "</div>"
      ],
      "text/plain": [
       "               Created  Product_ID            Source      Mobile  \\\n",
       "0     14-11-2018 10:05         NaN           Website  984XXXXXXX   \n",
       "1     14-11-2018 09:22         NaN           Website     XXXXXXX   \n",
       "2     14-11-2018 09:21         NaN           Website     XXXXXXX   \n",
       "3     14-11-2018 08:46         NaN           Website     XXXXXXX   \n",
       "4     14-11-2018 07:34         NaN           Website     XXXXXXX   \n",
       "...                ...         ...               ...         ...   \n",
       "7417  28-04-2018 09:45         9.0              Call         NaN   \n",
       "7418  28-04-2018 09:43        15.0              Call         NaN   \n",
       "7419  28-04-2018 09:20         5.0  Live Chat-Direct         NaN   \n",
       "7420  28-04-2018 08:04        21.0          CRM form         NaN   \n",
       "7421  28-04-2018 07:54        25.0           Website         NaN   \n",
       "\n",
       "                   EMAIL     Sales_Agent         Location Delivery_Mode  \\\n",
       "0     aXXXXXXX@gmail.com  Sales-Agent-11              NaN        Mode-5   \n",
       "1                #VALUE!  Sales-Agent-10              NaN        Mode-5   \n",
       "2     dXXXXXXX@yahoo.com  Sales-Agent-10              NaN        Mode-5   \n",
       "3     wXXXXXXX@gmail.com  Sales-Agent-10              NaN        Mode-5   \n",
       "4     cXXXXXXX@gmail.com  Sales-Agent-10              NaN        Mode-5   \n",
       "...                  ...             ...              ...           ...   \n",
       "7417  aXXXXXXX@gmail.com   Sales-Agent-6           Mumbai        Mode-4   \n",
       "7418             #VALUE!  Sales-Agent-12  Other Locations        Mode-5   \n",
       "7419  sXXXXXXX@gmail.com  Sales-Agent-11        Bangalore        Mode-1   \n",
       "7420  YXXXXXXX@gmail.com   Sales-Agent-4  Other Locations        Mode-1   \n",
       "7421  cXXXXXXX@gmail.com   Sales-Agent-3          Chennai        Mode-1   \n",
       "\n",
       "              Status  \n",
       "0               Open  \n",
       "1               Open  \n",
       "2               Open  \n",
       "3               Open  \n",
       "4               Open  \n",
       "...              ...  \n",
       "7417            LOST  \n",
       "7418            LOST  \n",
       "7419  Not Responding  \n",
       "7420    Just Enquiry  \n",
       "7421       CONVERTED  \n",
       "\n",
       "[7422 rows x 9 columns]"
      ]
     },
     "execution_count": 9,
     "metadata": {},
     "output_type": "execute_result"
    }
   ],
   "source": [
    "df"
   ]
  },
  {
   "cell_type": "markdown",
   "id": "306aa6c8-7f9c-45f3-9d14-fa6a029f32f5",
   "metadata": {
    "jp-MarkdownHeadingCollapsed": true
   },
   "source": [
    "### BASIC CHECK."
   ]
  },
  {
   "cell_type": "code",
   "execution_count": 11,
   "id": "23aa2b46-ecc8-4516-a0a7-a64ca04bce21",
   "metadata": {},
   "outputs": [
    {
     "data": {
      "text/html": [
       "<div>\n",
       "<style scoped>\n",
       "    .dataframe tbody tr th:only-of-type {\n",
       "        vertical-align: middle;\n",
       "    }\n",
       "\n",
       "    .dataframe tbody tr th {\n",
       "        vertical-align: top;\n",
       "    }\n",
       "\n",
       "    .dataframe thead th {\n",
       "        text-align: right;\n",
       "    }\n",
       "</style>\n",
       "<table border=\"1\" class=\"dataframe\">\n",
       "  <thead>\n",
       "    <tr style=\"text-align: right;\">\n",
       "      <th></th>\n",
       "      <th>Created</th>\n",
       "      <th>Product_ID</th>\n",
       "      <th>Source</th>\n",
       "      <th>Mobile</th>\n",
       "      <th>EMAIL</th>\n",
       "      <th>Sales_Agent</th>\n",
       "      <th>Location</th>\n",
       "      <th>Delivery_Mode</th>\n",
       "      <th>Status</th>\n",
       "    </tr>\n",
       "  </thead>\n",
       "  <tbody>\n",
       "    <tr>\n",
       "      <th>0</th>\n",
       "      <td>14-11-2018 10:05</td>\n",
       "      <td>NaN</td>\n",
       "      <td>Website</td>\n",
       "      <td>984XXXXXXX</td>\n",
       "      <td>aXXXXXXX@gmail.com</td>\n",
       "      <td>Sales-Agent-11</td>\n",
       "      <td>NaN</td>\n",
       "      <td>Mode-5</td>\n",
       "      <td>Open</td>\n",
       "    </tr>\n",
       "    <tr>\n",
       "      <th>1</th>\n",
       "      <td>14-11-2018 09:22</td>\n",
       "      <td>NaN</td>\n",
       "      <td>Website</td>\n",
       "      <td>XXXXXXX</td>\n",
       "      <td>#VALUE!</td>\n",
       "      <td>Sales-Agent-10</td>\n",
       "      <td>NaN</td>\n",
       "      <td>Mode-5</td>\n",
       "      <td>Open</td>\n",
       "    </tr>\n",
       "    <tr>\n",
       "      <th>2</th>\n",
       "      <td>14-11-2018 09:21</td>\n",
       "      <td>NaN</td>\n",
       "      <td>Website</td>\n",
       "      <td>XXXXXXX</td>\n",
       "      <td>dXXXXXXX@yahoo.com</td>\n",
       "      <td>Sales-Agent-10</td>\n",
       "      <td>NaN</td>\n",
       "      <td>Mode-5</td>\n",
       "      <td>Open</td>\n",
       "    </tr>\n",
       "    <tr>\n",
       "      <th>3</th>\n",
       "      <td>14-11-2018 08:46</td>\n",
       "      <td>NaN</td>\n",
       "      <td>Website</td>\n",
       "      <td>XXXXXXX</td>\n",
       "      <td>wXXXXXXX@gmail.com</td>\n",
       "      <td>Sales-Agent-10</td>\n",
       "      <td>NaN</td>\n",
       "      <td>Mode-5</td>\n",
       "      <td>Open</td>\n",
       "    </tr>\n",
       "    <tr>\n",
       "      <th>4</th>\n",
       "      <td>14-11-2018 07:34</td>\n",
       "      <td>NaN</td>\n",
       "      <td>Website</td>\n",
       "      <td>XXXXXXX</td>\n",
       "      <td>cXXXXXXX@gmail.com</td>\n",
       "      <td>Sales-Agent-10</td>\n",
       "      <td>NaN</td>\n",
       "      <td>Mode-5</td>\n",
       "      <td>Open</td>\n",
       "    </tr>\n",
       "  </tbody>\n",
       "</table>\n",
       "</div>"
      ],
      "text/plain": [
       "            Created  Product_ID   Source      Mobile               EMAIL  \\\n",
       "0  14-11-2018 10:05         NaN  Website  984XXXXXXX  aXXXXXXX@gmail.com   \n",
       "1  14-11-2018 09:22         NaN  Website     XXXXXXX             #VALUE!   \n",
       "2  14-11-2018 09:21         NaN  Website     XXXXXXX  dXXXXXXX@yahoo.com   \n",
       "3  14-11-2018 08:46         NaN  Website     XXXXXXX  wXXXXXXX@gmail.com   \n",
       "4  14-11-2018 07:34         NaN  Website     XXXXXXX  cXXXXXXX@gmail.com   \n",
       "\n",
       "      Sales_Agent Location Delivery_Mode Status  \n",
       "0  Sales-Agent-11      NaN        Mode-5   Open  \n",
       "1  Sales-Agent-10      NaN        Mode-5   Open  \n",
       "2  Sales-Agent-10      NaN        Mode-5   Open  \n",
       "3  Sales-Agent-10      NaN        Mode-5   Open  \n",
       "4  Sales-Agent-10      NaN        Mode-5   Open  "
      ]
     },
     "execution_count": 11,
     "metadata": {},
     "output_type": "execute_result"
    }
   ],
   "source": [
    "df.head()"
   ]
  },
  {
   "cell_type": "code",
   "execution_count": 12,
   "id": "14e0aebc-42df-4c33-a929-98b883797f34",
   "metadata": {},
   "outputs": [
    {
     "data": {
      "text/html": [
       "<div>\n",
       "<style scoped>\n",
       "    .dataframe tbody tr th:only-of-type {\n",
       "        vertical-align: middle;\n",
       "    }\n",
       "\n",
       "    .dataframe tbody tr th {\n",
       "        vertical-align: top;\n",
       "    }\n",
       "\n",
       "    .dataframe thead th {\n",
       "        text-align: right;\n",
       "    }\n",
       "</style>\n",
       "<table border=\"1\" class=\"dataframe\">\n",
       "  <thead>\n",
       "    <tr style=\"text-align: right;\">\n",
       "      <th></th>\n",
       "      <th>Created</th>\n",
       "      <th>Product_ID</th>\n",
       "      <th>Source</th>\n",
       "      <th>Mobile</th>\n",
       "      <th>EMAIL</th>\n",
       "      <th>Sales_Agent</th>\n",
       "      <th>Location</th>\n",
       "      <th>Delivery_Mode</th>\n",
       "      <th>Status</th>\n",
       "    </tr>\n",
       "  </thead>\n",
       "  <tbody>\n",
       "    <tr>\n",
       "      <th>7417</th>\n",
       "      <td>28-04-2018 09:45</td>\n",
       "      <td>9.0</td>\n",
       "      <td>Call</td>\n",
       "      <td>NaN</td>\n",
       "      <td>aXXXXXXX@gmail.com</td>\n",
       "      <td>Sales-Agent-6</td>\n",
       "      <td>Mumbai</td>\n",
       "      <td>Mode-4</td>\n",
       "      <td>LOST</td>\n",
       "    </tr>\n",
       "    <tr>\n",
       "      <th>7418</th>\n",
       "      <td>28-04-2018 09:43</td>\n",
       "      <td>15.0</td>\n",
       "      <td>Call</td>\n",
       "      <td>NaN</td>\n",
       "      <td>#VALUE!</td>\n",
       "      <td>Sales-Agent-12</td>\n",
       "      <td>Other Locations</td>\n",
       "      <td>Mode-5</td>\n",
       "      <td>LOST</td>\n",
       "    </tr>\n",
       "    <tr>\n",
       "      <th>7419</th>\n",
       "      <td>28-04-2018 09:20</td>\n",
       "      <td>5.0</td>\n",
       "      <td>Live Chat-Direct</td>\n",
       "      <td>NaN</td>\n",
       "      <td>sXXXXXXX@gmail.com</td>\n",
       "      <td>Sales-Agent-11</td>\n",
       "      <td>Bangalore</td>\n",
       "      <td>Mode-1</td>\n",
       "      <td>Not Responding</td>\n",
       "    </tr>\n",
       "    <tr>\n",
       "      <th>7420</th>\n",
       "      <td>28-04-2018 08:04</td>\n",
       "      <td>21.0</td>\n",
       "      <td>CRM form</td>\n",
       "      <td>NaN</td>\n",
       "      <td>YXXXXXXX@gmail.com</td>\n",
       "      <td>Sales-Agent-4</td>\n",
       "      <td>Other Locations</td>\n",
       "      <td>Mode-1</td>\n",
       "      <td>Just Enquiry</td>\n",
       "    </tr>\n",
       "    <tr>\n",
       "      <th>7421</th>\n",
       "      <td>28-04-2018 07:54</td>\n",
       "      <td>25.0</td>\n",
       "      <td>Website</td>\n",
       "      <td>NaN</td>\n",
       "      <td>cXXXXXXX@gmail.com</td>\n",
       "      <td>Sales-Agent-3</td>\n",
       "      <td>Chennai</td>\n",
       "      <td>Mode-1</td>\n",
       "      <td>CONVERTED</td>\n",
       "    </tr>\n",
       "  </tbody>\n",
       "</table>\n",
       "</div>"
      ],
      "text/plain": [
       "               Created  Product_ID            Source Mobile  \\\n",
       "7417  28-04-2018 09:45         9.0              Call    NaN   \n",
       "7418  28-04-2018 09:43        15.0              Call    NaN   \n",
       "7419  28-04-2018 09:20         5.0  Live Chat-Direct    NaN   \n",
       "7420  28-04-2018 08:04        21.0          CRM form    NaN   \n",
       "7421  28-04-2018 07:54        25.0           Website    NaN   \n",
       "\n",
       "                   EMAIL     Sales_Agent         Location Delivery_Mode  \\\n",
       "7417  aXXXXXXX@gmail.com   Sales-Agent-6           Mumbai        Mode-4   \n",
       "7418             #VALUE!  Sales-Agent-12  Other Locations        Mode-5   \n",
       "7419  sXXXXXXX@gmail.com  Sales-Agent-11        Bangalore        Mode-1   \n",
       "7420  YXXXXXXX@gmail.com   Sales-Agent-4  Other Locations        Mode-1   \n",
       "7421  cXXXXXXX@gmail.com   Sales-Agent-3          Chennai        Mode-1   \n",
       "\n",
       "              Status  \n",
       "7417            LOST  \n",
       "7418            LOST  \n",
       "7419  Not Responding  \n",
       "7420    Just Enquiry  \n",
       "7421       CONVERTED  "
      ]
     },
     "execution_count": 12,
     "metadata": {},
     "output_type": "execute_result"
    }
   ],
   "source": [
    "df.tail()"
   ]
  },
  {
   "cell_type": "code",
   "execution_count": 13,
   "id": "b20b8523-e558-4f87-8743-7879630c99e9",
   "metadata": {},
   "outputs": [
    {
     "data": {
      "text/plain": [
       "Index(['Created', 'Product_ID', 'Source', 'Mobile', 'EMAIL', 'Sales_Agent',\n",
       "       'Location', 'Delivery_Mode', 'Status'],\n",
       "      dtype='object')"
      ]
     },
     "execution_count": 13,
     "metadata": {},
     "output_type": "execute_result"
    }
   ],
   "source": [
    "df.columns"
   ]
  },
  {
   "cell_type": "markdown",
   "id": "c53e47a0-443c-42f4-9b24-9a0bede9a54a",
   "metadata": {},
   "source": [
    "- In this data total 9 Features with 3 unique feature"
   ]
  },
  {
   "cell_type": "code",
   "execution_count": 15,
   "id": "bb4a3f81-f67f-436c-ab98-2fd243fad55a",
   "metadata": {},
   "outputs": [
    {
     "data": {
      "text/plain": [
       "(7422, 9)"
      ]
     },
     "execution_count": 15,
     "metadata": {},
     "output_type": "execute_result"
    }
   ],
   "source": [
    "df.shape"
   ]
  },
  {
   "cell_type": "markdown",
   "id": "c7d572f3-bcad-4fb6-bec2-8e3341e52327",
   "metadata": {},
   "source": [
    "- Total 7422 observation with 9 feature"
   ]
  },
  {
   "cell_type": "code",
   "execution_count": 17,
   "id": "f32f762c-8155-46af-9cb4-a311ca7d15d8",
   "metadata": {},
   "outputs": [
    {
     "name": "stdout",
     "output_type": "stream",
     "text": [
      "<class 'pandas.core.frame.DataFrame'>\n",
      "RangeIndex: 7422 entries, 0 to 7421\n",
      "Data columns (total 9 columns):\n",
      " #   Column         Non-Null Count  Dtype  \n",
      "---  ------         --------------  -----  \n",
      " 0   Created        7422 non-null   object \n",
      " 1   Product_ID     7364 non-null   float64\n",
      " 2   Source         7405 non-null   object \n",
      " 3   Mobile         5612 non-null   object \n",
      " 4   EMAIL          7422 non-null   object \n",
      " 5   Sales_Agent    7399 non-null   object \n",
      " 6   Location       7364 non-null   object \n",
      " 7   Delivery_Mode  7422 non-null   object \n",
      " 8   Status         7422 non-null   object \n",
      "dtypes: float64(1), object(8)\n",
      "memory usage: 522.0+ KB\n"
     ]
    }
   ],
   "source": [
    "df.info()"
   ]
  },
  {
   "cell_type": "markdown",
   "id": "4b24934c-9ffc-4b4f-b2d5-689bdec602ac",
   "metadata": {},
   "source": [
    "- All feature data type is object"
   ]
  },
  {
   "cell_type": "code",
   "execution_count": 19,
   "id": "cdcd1130-2037-4452-98d2-e856bce21ecb",
   "metadata": {},
   "outputs": [
    {
     "data": {
      "text/html": [
       "<div>\n",
       "<style scoped>\n",
       "    .dataframe tbody tr th:only-of-type {\n",
       "        vertical-align: middle;\n",
       "    }\n",
       "\n",
       "    .dataframe tbody tr th {\n",
       "        vertical-align: top;\n",
       "    }\n",
       "\n",
       "    .dataframe thead th {\n",
       "        text-align: right;\n",
       "    }\n",
       "</style>\n",
       "<table border=\"1\" class=\"dataframe\">\n",
       "  <thead>\n",
       "    <tr style=\"text-align: right;\">\n",
       "      <th></th>\n",
       "      <th>Created</th>\n",
       "      <th>Source</th>\n",
       "      <th>Mobile</th>\n",
       "      <th>EMAIL</th>\n",
       "      <th>Sales_Agent</th>\n",
       "      <th>Location</th>\n",
       "      <th>Delivery_Mode</th>\n",
       "      <th>Status</th>\n",
       "    </tr>\n",
       "  </thead>\n",
       "  <tbody>\n",
       "    <tr>\n",
       "      <th>count</th>\n",
       "      <td>7422</td>\n",
       "      <td>7405</td>\n",
       "      <td>5612</td>\n",
       "      <td>7422</td>\n",
       "      <td>7399</td>\n",
       "      <td>7364</td>\n",
       "      <td>7422</td>\n",
       "      <td>7422</td>\n",
       "    </tr>\n",
       "    <tr>\n",
       "      <th>unique</th>\n",
       "      <td>6752</td>\n",
       "      <td>25</td>\n",
       "      <td>486</td>\n",
       "      <td>883</td>\n",
       "      <td>12</td>\n",
       "      <td>17</td>\n",
       "      <td>5</td>\n",
       "      <td>11</td>\n",
       "    </tr>\n",
       "    <tr>\n",
       "      <th>top</th>\n",
       "      <td>26-09-2018 11:30</td>\n",
       "      <td>Call</td>\n",
       "      <td>XXXXXXX</td>\n",
       "      <td>#VALUE!</td>\n",
       "      <td>Sales-Agent-4</td>\n",
       "      <td>Other Locations</td>\n",
       "      <td>Mode-5</td>\n",
       "      <td>Junk Lead</td>\n",
       "    </tr>\n",
       "    <tr>\n",
       "      <th>freq</th>\n",
       "      <td>4</td>\n",
       "      <td>2547</td>\n",
       "      <td>222</td>\n",
       "      <td>1701</td>\n",
       "      <td>1500</td>\n",
       "      <td>2500</td>\n",
       "      <td>2975</td>\n",
       "      <td>1536</td>\n",
       "    </tr>\n",
       "  </tbody>\n",
       "</table>\n",
       "</div>"
      ],
      "text/plain": [
       "                 Created Source   Mobile    EMAIL    Sales_Agent  \\\n",
       "count               7422   7405     5612     7422           7399   \n",
       "unique              6752     25      486      883             12   \n",
       "top     26-09-2018 11:30   Call  XXXXXXX  #VALUE!  Sales-Agent-4   \n",
       "freq                   4   2547      222     1701           1500   \n",
       "\n",
       "               Location Delivery_Mode     Status  \n",
       "count              7364          7422       7422  \n",
       "unique               17             5         11  \n",
       "top     Other Locations        Mode-5  Junk Lead  \n",
       "freq               2500          2975       1536  "
      ]
     },
     "execution_count": 19,
     "metadata": {},
     "output_type": "execute_result"
    }
   ],
   "source": [
    "df.describe(include='O')"
   ]
  },
  {
   "cell_type": "markdown",
   "id": "c44bac58-1c30-459b-8b6d-cad56aa726ef",
   "metadata": {},
   "source": [
    "- No costant feature is available"
   ]
  },
  {
   "cell_type": "markdown",
   "id": "756dfe4c-8c93-4b9b-9c13-6b83225d60e7",
   "metadata": {
    "jp-MarkdownHeadingCollapsed": true
   },
   "source": [
    "### 2. DOMAIN ANALYSIS."
   ]
  },
  {
   "cell_type": "markdown",
   "id": "fc441237-68ed-43d5-98dd-6372a48b8add",
   "metadata": {},
   "source": [
    "#### Fizcon Inc\n",
    "- Fizcon Inc is a company that provides IT solutions. They sell both software that runs on customer computers(on-premises) and online software (SaaS). most of their potential customers (leads) come through digital platforms, especially their website. \n",
    "- Fizcon is facing drop in sales.\n",
    "- Fizcon now wants to use Machine Learning to automatically predict how good a lead os as soon as it comes in. THis way sales team can focus more on high qaulity leads.\n",
    "#### Target Variable\n",
    "- Target variable shows lead status\n",
    "- In target veriable 11 labels are present (Junk Lead,Not Responding,CONVERTED,Just Enquiry,Potential,Long Term,In Progress Positive,In Progress Negative,LOST,Open,converted )\n",
    "- This all labels is tell about the customer lead category [high potential, low potential]\n",
    "#### Indepedant Varaible\n",
    "##### 1.Created:\r",
    "- This feature data tell about activity related to the selling in certain date as well as time.\n",
    "##### 2.Product_ID:\n",
    "- Id of particular product.\n",
    "##### 3.Source:\n",
    "- The source is contain imformation about the customer systematic search like call, live chats, and campaign.\r\n",
    "##### 4.Mobile\n",
    "- This is a unique feature contain a Mobile no of customer.\r",
    "##### 5.EMAIL:\n",
    "- This also unique feature contain a Email-id of customer.\n",
    "##### 6.Sales_Agent:\n",
    "- Sales agent is a front line customer service, A person or a company that acts as a sales agent on behalf of the exporting company ( principal ), introducing its products to potential buyers in the external market, in exchange for a commission based on the value of the business deals arranged and paid to the principal.\n",
    "##### 7.Location:\n",
    "- The Location of sale field always has the main business address in it and has to be changed manually. This also means that the sales tax is computed based on the main business address and not the actual location of the sale.\n",
    "- vThis feature contain lots of different location.\n",
    "##### 8.Delivery_Mode:\n",
    "- Modes of Delivery of goods Delivery of goods may be made in any of the following three ways:\n",
    "    - Actual Delivery: Also known as physical delivery, actual delivery takes place when the goods are physically handed over by the seller or his/her authorized agent to the buyer or his/her agent authorized to take possession of the goods.\n",
    "\n",
    "    - Symbolic Delivery: Where the goods are bulky and heavy and it is not possible to physically hand them over to the buyer, delivery thereof may be made by indicating or giving a symbol. Here the goods itself are not delivered, but the means of obtaining possession of goods is delivered.\n",
    "    - Constructive Delivery: In this case neither physical nor symbolic delivery is made. In constructive delivery the individual possessing the products recognizes that he holds the merchandise for the benefit of, and at the disposal of the purchaser. Constructive delivery is also called attornment.me## 9.Status: \n",
    "\n",
    "\n",
    "\r\n"
   ]
  },
  {
   "cell_type": "markdown",
   "id": "088d3a90-69ac-48bf-ada9-272972b8637f",
   "metadata": {
    "jp-MarkdownHeadingCollapsed": true
   },
   "source": [
    "### 3. EDA."
   ]
  },
  {
   "cell_type": "markdown",
   "id": "e2223f00-de5c-4293-a54e-7d731b413dbd",
   "metadata": {},
   "source": [
    "- The data is supervised and categorical as well as all feature is nominal including target variable.\n",
    "- In this data three feature are unique so we can not perform any analysis on this feature.\n",
    "- In this data some feature contain blank spaces so we need to replace with NAN values.\n",
    "- No scaling required as well as no need to handle outlier."
   ]
  },
  {
   "cell_type": "code",
   "execution_count": 25,
   "id": "9313d3cf-cc5e-484b-b5cf-725a25ac2601",
   "metadata": {},
   "outputs": [
    {
     "data": {
      "text/html": [
       "<div>\n",
       "<style scoped>\n",
       "    .dataframe tbody tr th:only-of-type {\n",
       "        vertical-align: middle;\n",
       "    }\n",
       "\n",
       "    .dataframe tbody tr th {\n",
       "        vertical-align: top;\n",
       "    }\n",
       "\n",
       "    .dataframe thead th {\n",
       "        text-align: right;\n",
       "    }\n",
       "</style>\n",
       "<table border=\"1\" class=\"dataframe\">\n",
       "  <thead>\n",
       "    <tr style=\"text-align: right;\">\n",
       "      <th></th>\n",
       "      <th>Created</th>\n",
       "      <th>Product_ID</th>\n",
       "      <th>Source</th>\n",
       "      <th>Mobile</th>\n",
       "      <th>EMAIL</th>\n",
       "      <th>Sales_Agent</th>\n",
       "      <th>Location</th>\n",
       "      <th>Delivery_Mode</th>\n",
       "      <th>Status</th>\n",
       "    </tr>\n",
       "  </thead>\n",
       "  <tbody>\n",
       "    <tr>\n",
       "      <th>0</th>\n",
       "      <td>14-11-2018 10:05</td>\n",
       "      <td>NaN</td>\n",
       "      <td>Website</td>\n",
       "      <td>984XXXXXXX</td>\n",
       "      <td>aXXXXXXX@gmail.com</td>\n",
       "      <td>Sales-Agent-11</td>\n",
       "      <td>NaN</td>\n",
       "      <td>Mode-5</td>\n",
       "      <td>Open</td>\n",
       "    </tr>\n",
       "    <tr>\n",
       "      <th>1</th>\n",
       "      <td>14-11-2018 09:22</td>\n",
       "      <td>NaN</td>\n",
       "      <td>Website</td>\n",
       "      <td>XXXXXXX</td>\n",
       "      <td>#VALUE!</td>\n",
       "      <td>Sales-Agent-10</td>\n",
       "      <td>NaN</td>\n",
       "      <td>Mode-5</td>\n",
       "      <td>Open</td>\n",
       "    </tr>\n",
       "    <tr>\n",
       "      <th>2</th>\n",
       "      <td>14-11-2018 09:21</td>\n",
       "      <td>NaN</td>\n",
       "      <td>Website</td>\n",
       "      <td>XXXXXXX</td>\n",
       "      <td>dXXXXXXX@yahoo.com</td>\n",
       "      <td>Sales-Agent-10</td>\n",
       "      <td>NaN</td>\n",
       "      <td>Mode-5</td>\n",
       "      <td>Open</td>\n",
       "    </tr>\n",
       "    <tr>\n",
       "      <th>3</th>\n",
       "      <td>14-11-2018 08:46</td>\n",
       "      <td>NaN</td>\n",
       "      <td>Website</td>\n",
       "      <td>XXXXXXX</td>\n",
       "      <td>wXXXXXXX@gmail.com</td>\n",
       "      <td>Sales-Agent-10</td>\n",
       "      <td>NaN</td>\n",
       "      <td>Mode-5</td>\n",
       "      <td>Open</td>\n",
       "    </tr>\n",
       "    <tr>\n",
       "      <th>4</th>\n",
       "      <td>14-11-2018 07:34</td>\n",
       "      <td>NaN</td>\n",
       "      <td>Website</td>\n",
       "      <td>XXXXXXX</td>\n",
       "      <td>cXXXXXXX@gmail.com</td>\n",
       "      <td>Sales-Agent-10</td>\n",
       "      <td>NaN</td>\n",
       "      <td>Mode-5</td>\n",
       "      <td>Open</td>\n",
       "    </tr>\n",
       "    <tr>\n",
       "      <th>...</th>\n",
       "      <td>...</td>\n",
       "      <td>...</td>\n",
       "      <td>...</td>\n",
       "      <td>...</td>\n",
       "      <td>...</td>\n",
       "      <td>...</td>\n",
       "      <td>...</td>\n",
       "      <td>...</td>\n",
       "      <td>...</td>\n",
       "    </tr>\n",
       "    <tr>\n",
       "      <th>7417</th>\n",
       "      <td>28-04-2018 09:45</td>\n",
       "      <td>9.0</td>\n",
       "      <td>Call</td>\n",
       "      <td>NaN</td>\n",
       "      <td>aXXXXXXX@gmail.com</td>\n",
       "      <td>Sales-Agent-6</td>\n",
       "      <td>Mumbai</td>\n",
       "      <td>Mode-4</td>\n",
       "      <td>LOST</td>\n",
       "    </tr>\n",
       "    <tr>\n",
       "      <th>7418</th>\n",
       "      <td>28-04-2018 09:43</td>\n",
       "      <td>15.0</td>\n",
       "      <td>Call</td>\n",
       "      <td>NaN</td>\n",
       "      <td>#VALUE!</td>\n",
       "      <td>Sales-Agent-12</td>\n",
       "      <td>Other Locations</td>\n",
       "      <td>Mode-5</td>\n",
       "      <td>LOST</td>\n",
       "    </tr>\n",
       "    <tr>\n",
       "      <th>7419</th>\n",
       "      <td>28-04-2018 09:20</td>\n",
       "      <td>5.0</td>\n",
       "      <td>Live Chat-Direct</td>\n",
       "      <td>NaN</td>\n",
       "      <td>sXXXXXXX@gmail.com</td>\n",
       "      <td>Sales-Agent-11</td>\n",
       "      <td>Bangalore</td>\n",
       "      <td>Mode-1</td>\n",
       "      <td>Not Responding</td>\n",
       "    </tr>\n",
       "    <tr>\n",
       "      <th>7420</th>\n",
       "      <td>28-04-2018 08:04</td>\n",
       "      <td>21.0</td>\n",
       "      <td>CRM form</td>\n",
       "      <td>NaN</td>\n",
       "      <td>YXXXXXXX@gmail.com</td>\n",
       "      <td>Sales-Agent-4</td>\n",
       "      <td>Other Locations</td>\n",
       "      <td>Mode-1</td>\n",
       "      <td>Just Enquiry</td>\n",
       "    </tr>\n",
       "    <tr>\n",
       "      <th>7421</th>\n",
       "      <td>28-04-2018 07:54</td>\n",
       "      <td>25.0</td>\n",
       "      <td>Website</td>\n",
       "      <td>NaN</td>\n",
       "      <td>cXXXXXXX@gmail.com</td>\n",
       "      <td>Sales-Agent-3</td>\n",
       "      <td>Chennai</td>\n",
       "      <td>Mode-1</td>\n",
       "      <td>CONVERTED</td>\n",
       "    </tr>\n",
       "  </tbody>\n",
       "</table>\n",
       "<p>7422 rows × 9 columns</p>\n",
       "</div>"
      ],
      "text/plain": [
       "               Created  Product_ID            Source      Mobile  \\\n",
       "0     14-11-2018 10:05         NaN           Website  984XXXXXXX   \n",
       "1     14-11-2018 09:22         NaN           Website     XXXXXXX   \n",
       "2     14-11-2018 09:21         NaN           Website     XXXXXXX   \n",
       "3     14-11-2018 08:46         NaN           Website     XXXXXXX   \n",
       "4     14-11-2018 07:34         NaN           Website     XXXXXXX   \n",
       "...                ...         ...               ...         ...   \n",
       "7417  28-04-2018 09:45         9.0              Call         NaN   \n",
       "7418  28-04-2018 09:43        15.0              Call         NaN   \n",
       "7419  28-04-2018 09:20         5.0  Live Chat-Direct         NaN   \n",
       "7420  28-04-2018 08:04        21.0          CRM form         NaN   \n",
       "7421  28-04-2018 07:54        25.0           Website         NaN   \n",
       "\n",
       "                   EMAIL     Sales_Agent         Location Delivery_Mode  \\\n",
       "0     aXXXXXXX@gmail.com  Sales-Agent-11              NaN        Mode-5   \n",
       "1                #VALUE!  Sales-Agent-10              NaN        Mode-5   \n",
       "2     dXXXXXXX@yahoo.com  Sales-Agent-10              NaN        Mode-5   \n",
       "3     wXXXXXXX@gmail.com  Sales-Agent-10              NaN        Mode-5   \n",
       "4     cXXXXXXX@gmail.com  Sales-Agent-10              NaN        Mode-5   \n",
       "...                  ...             ...              ...           ...   \n",
       "7417  aXXXXXXX@gmail.com   Sales-Agent-6           Mumbai        Mode-4   \n",
       "7418             #VALUE!  Sales-Agent-12  Other Locations        Mode-5   \n",
       "7419  sXXXXXXX@gmail.com  Sales-Agent-11        Bangalore        Mode-1   \n",
       "7420  YXXXXXXX@gmail.com   Sales-Agent-4  Other Locations        Mode-1   \n",
       "7421  cXXXXXXX@gmail.com   Sales-Agent-3          Chennai        Mode-1   \n",
       "\n",
       "              Status  \n",
       "0               Open  \n",
       "1               Open  \n",
       "2               Open  \n",
       "3               Open  \n",
       "4               Open  \n",
       "...              ...  \n",
       "7417            LOST  \n",
       "7418            LOST  \n",
       "7419  Not Responding  \n",
       "7420    Just Enquiry  \n",
       "7421       CONVERTED  \n",
       "\n",
       "[7422 rows x 9 columns]"
      ]
     },
     "execution_count": 25,
     "metadata": {},
     "output_type": "execute_result"
    }
   ],
   "source": [
    "df"
   ]
  },
  {
   "cell_type": "markdown",
   "id": "b3d17dc5-dd77-4d73-bbc2-564a196825da",
   "metadata": {},
   "source": [
    "##### 1.Product ID"
   ]
  },
  {
   "cell_type": "code",
   "execution_count": 27,
   "id": "e3e77dc4-825c-442b-9631-28e80c8b0c3f",
   "metadata": {},
   "outputs": [
    {
     "data": {
      "image/png": "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",
      "text/plain": [
       "<Figure size 1200x700 with 1 Axes>"
      ]
     },
     "metadata": {},
     "output_type": "display_data"
    },
    {
     "data": {
      "text/plain": [
       "Product_ID\n",
       "18.0    1711\n",
       "15.0    1518\n",
       "19.0    1189\n",
       "9.0      992\n",
       "27.0     739\n",
       "5.0      487\n",
       "10.0     168\n",
       "1.0      105\n",
       "20.0     102\n",
       "25.0      90\n",
       "21.0      66\n",
       "2.0       38\n",
       "12.0      36\n",
       "26.0      31\n",
       "14.0      27\n",
       "11.0      12\n",
       "22.0       8\n",
       "3.0        7\n",
       "17.0       7\n",
       "6.0        7\n",
       "8.0        6\n",
       "13.0       5\n",
       "24.0       3\n",
       "16.0       3\n",
       "23.0       2\n",
       "0.0        2\n",
       "28.0       1\n",
       "7.0        1\n",
       "4.0        1\n",
       "Name: count, dtype: int64"
      ]
     },
     "execution_count": 27,
     "metadata": {},
     "output_type": "execute_result"
    }
   ],
   "source": [
    "plt.figure(figsize=(12,7))\n",
    "order=df['Product_ID'].value_counts(ascending=False).index\n",
    "sns.countplot(data=df, x='Product_ID', palette='hls',order=order)\n",
    "plt.show()\n",
    "df['Product_ID'].value_counts(ascending=False)"
   ]
  },
  {
   "cell_type": "markdown",
   "id": "e33ef1bc-31d4-4c6e-bf7a-4fe9d5922c81",
   "metadata": {},
   "source": [
    "- In this plot 18,15,19,9,27,5 product id is more sold.\n",
    "- Remaining id has less sales"
   ]
  },
  {
   "cell_type": "markdown",
   "id": "6f1cabe3-0bae-42bd-83ea-9236c8a6fc95",
   "metadata": {},
   "source": [
    "##### 2.Source"
   ]
  },
  {
   "cell_type": "code",
   "execution_count": 30,
   "id": "cd7dd707-2761-45a0-ba53-48c400d198d1",
   "metadata": {},
   "outputs": [
    {
     "data": {
      "image/png": "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",
      "text/plain": [
       "<Figure size 1200x700 with 1 Axes>"
      ]
     },
     "metadata": {},
     "output_type": "display_data"
    },
    {
     "data": {
      "text/plain": [
       "Source\n",
       "Call                             2547\n",
       "Live Chat-Direct                 1834\n",
       "Website                          1594\n",
       "Live Chat-Google Organic          274\n",
       "Live Chat -PPC                    249\n",
       "Live Chat-Blog                    237\n",
       "Customer Referral                 180\n",
       "US Website                        137\n",
       "Just Dial                          56\n",
       "Existing Client                    51\n",
       "Personal Contact                   50\n",
       "Live Chat-CPC                      50\n",
       "By Recommendation                  32\n",
       "CRM form                           23\n",
       "Existing Customer                  22\n",
       "Live Chat-Google Ads               21\n",
       "Campaign                           19\n",
       "E-mail Campaign                    12\n",
       "Live Chat-Adwords Remarketing       7\n",
       "Live Chat-Quora                     2\n",
       "Other                               2\n",
       "SMS Campaign                        2\n",
       "Live Chat-Youtube                   2\n",
       "E-Mail Message                      1\n",
       "Live Chat-Justdial                  1\n",
       "Name: count, dtype: int64"
      ]
     },
     "execution_count": 30,
     "metadata": {},
     "output_type": "execute_result"
    }
   ],
   "source": [
    "plt.figure(figsize=(12,7))\n",
    "plt.xticks(rotation=90)\n",
    "order=df['Source'].value_counts(ascending=False).index\n",
    "sns.countplot(data=df, x='Source', palette='hls',order=order)\n",
    "plt.show()\n",
    "df['Source'].value_counts(ascending=False)"
   ]
  },
  {
   "cell_type": "markdown",
   "id": "40fe64d1-331a-4c23-8c0f-492963153294",
   "metadata": {},
   "source": [
    "- Most of the sales has Call,Live Chat-Direct,Website source."
   ]
  },
  {
   "cell_type": "markdown",
   "id": "f6197938-8c26-48ee-93fc-1fd0bbfa288b",
   "metadata": {},
   "source": [
    "##### 3.Sales_Agent"
   ]
  },
  {
   "cell_type": "code",
   "execution_count": 33,
   "id": "0569a483-d7ae-4bf2-bc38-ce0809a1f2dc",
   "metadata": {},
   "outputs": [
    {
     "data": {
      "image/png": "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",
      "text/plain": [
       "<Figure size 1200x700 with 1 Axes>"
      ]
     },
     "metadata": {},
     "output_type": "display_data"
    },
    {
     "data": {
      "text/plain": [
       "Sales_Agent\n",
       "Sales-Agent-4     1500\n",
       "Sales-Agent-11    1420\n",
       "Sales-Agent-5     1190\n",
       "Sales-Agent-9      879\n",
       "Sales-Agent-3      781\n",
       "Sales-Agent-7      736\n",
       "Sales-Agent-2      389\n",
       "Sales-Agent-12     269\n",
       "Sales-Agent-6      114\n",
       "Sales-Agent-8       68\n",
       "Sales-Agent-10      49\n",
       "Sales-Agent-1        4\n",
       "Name: count, dtype: int64"
      ]
     },
     "execution_count": 33,
     "metadata": {},
     "output_type": "execute_result"
    }
   ],
   "source": [
    "plt.figure(figsize=(12,7))\n",
    "plt.xticks(rotation=90)\n",
    "order=df['Sales_Agent'].value_counts(ascending=False).index\n",
    "sns.countplot(data=df, x='Sales_Agent', palette='hls',order=order)\n",
    "plt.show()\n",
    "df['Sales_Agent'].value_counts(ascending=False)"
   ]
  },
  {
   "cell_type": "markdown",
   "id": "9b2e3d67-896b-41f6-9bf3-1ed5fe3e0ac0",
   "metadata": {},
   "source": [
    "- 12 sales agent.\n",
    "- Sales agent 4,11,5 done most sells.\n",
    "- Sales agent 9,3,7 has bellow than 850 sale"
   ]
  },
  {
   "cell_type": "markdown",
   "id": "6b9c1585-fa3f-41de-896a-14d0024a4240",
   "metadata": {},
   "source": [
    "##### 4.Location"
   ]
  },
  {
   "cell_type": "code",
   "execution_count": 36,
   "id": "8f278ba2-c8f0-4b34-bc2c-8dfb8a5063c1",
   "metadata": {},
   "outputs": [
    {
     "data": {
      "image/png": "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",
      "text/plain": [
       "<Figure size 1200x700 with 1 Axes>"
      ]
     },
     "metadata": {},
     "output_type": "display_data"
    },
    {
     "data": {
      "text/plain": [
       "Location\n",
       "Other Locations    2500\n",
       "Bangalore          2084\n",
       "Chennai             909\n",
       "Hyderabad           528\n",
       "Delhi               471\n",
       "Mumbai              402\n",
       "Pune                142\n",
       "UAE                  79\n",
       "Trivandrum           58\n",
       "Kolkata              55\n",
       "USA                  45\n",
       "UK                   41\n",
       "AUSTRALIA            25\n",
       "Singapore            17\n",
       "Malaysia              4\n",
       "EUROPE                3\n",
       "Howrah                1\n",
       "Name: count, dtype: int64"
      ]
     },
     "execution_count": 36,
     "metadata": {},
     "output_type": "execute_result"
    }
   ],
   "source": [
    "plt.figure(figsize=(12,7))\n",
    "plt.xticks(rotation=90)\n",
    "order=df['Location'].value_counts(ascending=False).index\n",
    "sns.countplot(data=df, x='Location', palette='hls',order=order)\n",
    "plt.show()\n",
    "df['Location'].value_counts(ascending=False)"
   ]
  },
  {
   "cell_type": "markdown",
   "id": "561cc546-4a80-4aa3-a949-3dc8ca85d029",
   "metadata": {},
   "source": [
    "- Total 17 location sales including foreign and indian city.\n",
    "- Banglore and other location has most sales.\n",
    "- Chennai,\n",
    "Hyderaba,\r\n",
    "Del,1\r\n",
    "Mumbcity sales less than Banglore and other location.\n",
    "- other location have very less sales.ai "
   ]
  },
  {
   "cell_type": "markdown",
   "id": "09e1c941-d42a-40dd-addf-7bf5198e27cd",
   "metadata": {},
   "source": [
    "##### 5.Delivery_Mode\t"
   ]
  },
  {
   "cell_type": "code",
   "execution_count": 39,
   "id": "9c24848f-7ba5-42f7-92e2-6ba51b08aca0",
   "metadata": {},
   "outputs": [
    {
     "data": {
      "image/png": "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",
      "text/plain": [
       "<Figure size 1200x700 with 1 Axes>"
      ]
     },
     "metadata": {},
     "output_type": "display_data"
    },
    {
     "data": {
      "text/plain": [
       "Delivery_Mode\n",
       "Mode-5    2975\n",
       "Mode-1    2627\n",
       "Mode-3    1688\n",
       "Mode-4     121\n",
       "Mode-2      11\n",
       "Name: count, dtype: int64"
      ]
     },
     "execution_count": 39,
     "metadata": {},
     "output_type": "execute_result"
    }
   ],
   "source": [
    "plt.figure(figsize=(12,7))\n",
    "plt.xticks(rotation=90)\n",
    "order=df['Delivery_Mode'].value_counts(ascending=False).index\n",
    "sns.countplot(data=df, x='Delivery_Mode', palette='hls',order=order)\n",
    "plt.show()\n",
    "df['Delivery_Mode'].value_counts(ascending=False)"
   ]
  },
  {
   "cell_type": "markdown",
   "id": "ce245453-b0b8-41a5-a20f-c5e89ac9af10",
   "metadata": {},
   "source": [
    "- five types of delivery mode.\n",
    "- Delivery Mode 5 has maximum use as well as highest count.\n",
    "- Mode 1 & Mode 3 has less use than mode 5. \n",
    "- Mode 2 & 4 is minimum use for delivery."
   ]
  },
  {
   "cell_type": "markdown",
   "id": "c2419fd8-77a5-44d1-b200-2204ae64435b",
   "metadata": {},
   "source": [
    "##### 6.Status"
   ]
  },
  {
   "cell_type": "code",
   "execution_count": 42,
   "id": "e5a0cd6e-282c-470a-9819-ee8432317726",
   "metadata": {},
   "outputs": [
    {
     "data": {
      "image/png": "iVBORw0KGgoAAAANSUhEUgAAA/YAAALcCAYAAABNWCuwAAAAOXRFWHRTb2Z0d2FyZQBNYXRwbG90bGliIHZlcnNpb24zLjguNCwgaHR0cHM6Ly9tYXRwbG90bGliLm9yZy8fJSN1AAAACXBIWXMAAA9hAAAPYQGoP6dpAACAwElEQVR4nOzdd3yN5+P/8fdJIgMRYiRC7BRBW6M0dKk9q/oxarZUqdaOVTVLlLYo2lK1Va2WDqo2tWrGDIoYrYRWIzEiITm/P/p1fj1ihXDnSl/PxyOPj3PfV+J97k9x3ve4LpvdbrcLAAAAAAAYycXqAAAAAAAA4P5R7AEAAAAAMBjFHgAAAAAAg1HsAQAAAAAwGMUeAAAAAACDUewBAAAAADAYxR4AAAAAAINR7AEAAAAAMJib1QFMkZycrDNnzsjb21s2m83qOAAAAACADM5ut+vixYsKCAiQi8vtr8tT7O/RmTNnFBgYaHUMAAAAAMB/zOnTp5U/f/7b7re02G/YsEEffvihdu7cqaioKC1evFiNGjVyGhMREaG+fftq/fr1Sk5OVqlSpbRgwQIVKFBAkpSQkKDQ0FB9/fXXio+PV7Vq1fTZZ585vemYmBh17dpV33//vSSpYcOGmjBhgrJnz37PWb29vSX9c0CzZcv2YG8cAAAAAIC7iIuLU2BgoKOP3o6lxf7y5ct64okn9Prrr+uVV15Jsf/YsWN65pln1L59ew0dOlQ+Pj6KiIiQp6enY0z37t31ww8/aN68ecqZM6d69eql+vXra+fOnXJ1dZUktWjRQr///ruWL18uSXrzzTfVunVr/fDDD/ec9cbt99myZaPYAwAAAAAembs9Dm6z2+32R5Tljmw2W4or9s2bN1emTJk0e/bsW35PbGyscufOrdmzZ6tZs2aS/v8t88uWLVOtWrUUERGh4OBgbd26VZUqVZIkbd26VSEhITp06JCKFy9+T/ni4uLk4+Oj2NhYij0AAAAA4KG71x6abmfFT05O1tKlS/XYY4+pVq1aypMnjypVqqQlS5Y4xuzcuVPXrl1TzZo1HdsCAgJUunRpbd68WZK0ZcsW+fj4OEq9JD399NPy8fFxjLmVhIQExcXFOX0BAAAAAJDepNtif+7cOV26dEkffPCBateurRUrVujll19W48aNtX79eklSdHS03N3dlSNHDqfv9fPzU3R0tGNMnjx5Uvz8PHnyOMbcysiRI+Xj4+P4YuI8AAAAAEB6lG6LfXJysiTppZdeUo8ePfTkk0+qX79+ql+/viZNmnTH77Xb7U7PINzqeYSbx9ysf//+io2NdXydPn36Pt8JAAAAAAAPT7ot9rly5ZKbm5uCg4OdtpcsWVKnTp2SJPn7+ysxMVExMTFOY86dOyc/Pz/HmLNnz6b4+X/++adjzK14eHg4JspjwjwAAAAAQHqVbou9u7u7nnrqKR0+fNhp+5EjR1SwYEFJUvny5ZUpUyatXLnSsT8qKkr79+9X5cqVJUkhISGKjY3Vtm3bHGN+/fVXxcbGOsYAAAAAAGAqS5e7u3Tpko4ePep4HRkZqfDwcPn6+qpAgQLq3bu3mjVrpueee05Vq1bV8uXL9cMPP2jdunWSJB8fH7Vv3169evVSzpw55evrq9DQUJUpU0bVq1eX9M8V/tq1a6tDhw6aPHmypH+Wu6tfv/49z4gPAAAAAEB6Zelyd+vWrVPVqlVTbG/btq1mzJghSZo2bZpGjhyp33//XcWLF9fQoUP10ksvOcZevXpVvXv31ty5cxUfH69q1arps88+c5rs7u+//1bXrl31/fffS5IaNmyoiRMnKnv27PecleXuAAAAAACP0r320HSzjn16R7EHAAAAADxKxq9jDwAAAAAA7o5iDwAAAACAwSj2AAAAAAAYjGIPAAAAAIDBKPYAAAAAABiMYg8AAAAAgMEo9gAAAAAAGIxiDwAAAACAwSj2AAAAAAAYjGIPAAAAAIDBKPYAAAAAABiMYg8AAAAAgMEo9gAAAAAAGIxiDwAAAACAwdysDpCR7OjayeoI6UqF8ZOsjgAAAAAAGR5X7AEAAAAAMBjFHgAAAAAAg1HsAQAAAAAwGMUeAAAAAACDUewBAAAAADAYxR4AAAAAAINR7AEAAAAAMBjFHgAAAAAAg1HsAQAAAAAwGMUeAAAAAACDUewBAAAAADAYxR4AAAAAAINR7AEAAAAAMBjFHgAAAAAAg1HsAQAAAAAwGMUeAAAAAACDUewBAAAAADAYxR4AAAAAAINR7AEAAAAAMBjFHgAAAAAAg1HsAQAAAAAwGMUeAAAAAACDUewBAAAAADAYxR4AAAAAAINR7AEAAAAAMBjFHgAAAAAAg1HsAQAAAAAwGMUeAAAAAACDUewBAAAAADAYxR4AAAAAAINR7AEAAAAAMBjFHgAAAAAAg1HsAQAAAAAwGMUeAAAAAACDUewBAAAAADAYxR4AAAAAAINR7AEAAAAAMBjFHgAAAAAAg1HsAQAAAAAwGMUeAAAAAACDUewBAAAAADCYpcV+w4YNatCggQICAmSz2bRkyZLbju3YsaNsNpvGjRvntD0hIUFdunRRrly5lCVLFjVs2FC///6705iYmBi1bt1aPj4+8vHxUevWrXXhwoW0f0MAAAAAADxilhb7y5cv64knntDEiRPvOG7JkiX69ddfFRAQkGJf9+7dtXjxYs2bN08bN27UpUuXVL9+fSUlJTnGtGjRQuHh4Vq+fLmWL1+u8PBwtW7dOs3fDwAAAAAAj5qblb95nTp1VKdOnTuO+eOPP/TOO+/o559/Vr169Zz2xcbGaurUqZo9e7aqV68uSZozZ44CAwO1atUq1apVSxEREVq+fLm2bt2qSpUqSZKmTJmikJAQHT58WMWLF7/l75uQkKCEhATH67i4uAd5qwAAAAAAPBTp+hn75ORktW7dWr1791apUqVS7N+5c6euXbummjVrOrYFBASodOnS2rx5syRpy5Yt8vHxcZR6SXr66afl4+PjGHMrI0eOdNy67+Pjo8DAwDR8ZwAAAAAApI10XexHjRolNzc3de3a9Zb7o6Oj5e7urhw5cjht9/PzU3R0tGNMnjx5Unxvnjx5HGNupX///oqNjXV8nT59+gHeCQAAAAAAD4elt+Lfyc6dO/XJJ59o165dstlsqfpeu93u9D23+v6bx9zMw8NDHh4eqfp9AQAAAAB41NLtFftffvlF586dU4ECBeTm5iY3NzedPHlSvXr1UqFChSRJ/v7+SkxMVExMjNP3njt3Tn5+fo4xZ8+eTfHz//zzT8cYAAAAAABMlW6LfevWrbV3716Fh4c7vgICAtS7d2/9/PPPkqTy5csrU6ZMWrlypeP7oqKitH//flWuXFmSFBISotjYWG3bts0x5tdff1VsbKxjDAAAAAAAprL0VvxLly7p6NGjjteRkZEKDw+Xr6+vChQooJw5czqNz5Qpk/z9/R0z2fv4+Kh9+/bq1auXcubMKV9fX4WGhqpMmTKOWfJLliyp2rVrq0OHDpo8ebIk6c0331T9+vVvOyM+AAAAAACmsLTY79ixQ1WrVnW87tmzpySpbdu2mjFjxj39jLFjx8rNzU1NmzZVfHy8qlWrphkzZsjV1dUx5quvvlLXrl0ds+c3bNhQEydOTLs3AgAAAACARWx2u91udQgTxMXFycfHR7GxscqWLdstx+zo2ukRp0rfKoyfZHUEAAAAADDWvfRQKR0/Yw8AAAAAAO6OYg8AAAAAgMEo9gAAAAAAGIxiDwAAAACAwSj2AAAAAAAYjGIPAAAAAIDBKPYAAAAAABiMYg8AAAAAgMEo9gAAAAAAGIxiDwAAAACAwSj2AAAAAAAYjGIPAAAAAIDBKPYAAAAAABiMYg8AAAAAgMEo9gAAAAAAGIxiDwAAAACAwSj2AAAAAAAYjGIPAAAAAIDBKPYAAAAAABiMYg8AAAAAgMEo9gAAAAAAGIxiDwAAAACAwSj2AAAAAAAYjGIPAAAAAIDBKPYAAAAAABiMYg8AAAAAgMEo9gAAAAAAGIxiDwAAAACAwSj2AAAAAAAYjGIPAAAAAIDBKPYAAAAAABiMYg8AAAAAgMEo9gAAAAAAGIxiDwAAAACAwSj2AAAAAAAYjGIPAAAAAIDBKPYAAAAAABiMYg8AAAAAgMEo9gAAAAAAGIxiDwAAAACAwSj2AAAAAAAYjGIPAAAAAIDBKPYAAAAAABiMYg8AAAAAgMEo9gAAAAAAGIxiDwAAAACAwSj2AAAAAAAYjGIPAAAAAIDBKPYAAAAAABiMYg8AAAAAgMEo9gAAAAAAGIxiDwAAAACAwSj2AAAAAAAYjGIPAAAAAIDBKPYAAAAAABiMYg8AAAAAgMEsLfYbNmxQgwYNFBAQIJvNpiVLljj2Xbt2TX379lWZMmWUJUsWBQQEqE2bNjpz5ozTz0hISFCXLl2UK1cuZcmSRQ0bNtTvv//uNCYmJkatW7eWj4+PfHx81Lp1a124cOERvEMAAAAAAB4uS4v95cuX9cQTT2jixIkp9l25ckW7du3SwIEDtWvXLn377bc6cuSIGjZs6DSue/fuWrx4sebNm6eNGzfq0qVLql+/vpKSkhxjWrRoofDwcC1fvlzLly9XeHi4Wrdu/dDfHwAAAAAAD5vNbrfbrQ4hSTabTYsXL1ajRo1uO2b79u2qWLGiTp48qQIFCig2Nla5c+fW7Nmz1axZM0nSmTNnFBgYqGXLlqlWrVqKiIhQcHCwtm7dqkqVKkmStm7dqpCQEB06dEjFixe/5e+VkJCghIQEx+u4uDgFBgYqNjZW2bJlu+X37Oja6T7ffcZUYfwkqyMAAAAAgLHi4uLk4+Nzxx4qGfaMfWxsrGw2m7Jnzy5J2rlzp65du6aaNWs6xgQEBKh06dLavHmzJGnLli3y8fFxlHpJevrpp+Xj4+MYcysjR4503Lrv4+OjwMDAh/OmAAAAAAB4AMYU+6tXr6pfv35q0aKF40xFdHS03N3dlSNHDqexfn5+io6OdozJkydPip+XJ08ex5hb6d+/v2JjYx1fp0+fTsN3AwAAAABA2nCzOsC9uHbtmpo3b67k5GR99tlndx1vt9tls9kcr//969uNuZmHh4c8PDzuLzAAAAAAAI9Iur9if+3aNTVt2lSRkZFauXKl03MF/v7+SkxMVExMjNP3nDt3Tn5+fo4xZ8+eTfFz//zzT8cYAAAAAABMla6L/Y1S/9tvv2nVqlXKmTOn0/7y5csrU6ZMWrlypWNbVFSU9u/fr8qVK0uSQkJCFBsbq23btjnG/Prrr4qNjXWMAQAAAADAVJbein/p0iUdPXrU8ToyMlLh4eHy9fVVQECA/ve//2nXrl368ccflZSU5Hgm3tfXV+7u7vLx8VH79u3Vq1cv5cyZU76+vgoNDVWZMmVUvXp1SVLJkiVVu3ZtdejQQZMnT5Ykvfnmm6pfv/5tZ8QHAAAAAMAUlhb7HTt2qGrVqo7XPXv2lCS1bdtWQ4YM0ffffy9JevLJJ52+b+3atXrhhRckSWPHjpWbm5uaNm2q+Ph4VatWTTNmzJCrq6tj/FdffaWuXbs6Zs9v2LChJk6c+BDfGQAAAAAAj0a6Wcc+vbuX9QNZx94Z69gDAAAAwP3LkOvYAwAAAAAAZxR7AAAAAAAMRrEHAAAAAMBgFHsAAAAAAAxGsQcAAAAAwGAUewAAAAAADEaxBwAAAADAYBR7AAAAAAAMRrEHAAAAAMBgFHsAAAAAAAxGsQcAAAAAwGAUewAAAAAADEaxBwAAAADAYBR7AAAAAAAMRrEHAAAAAMBgFHsAAAAAAAzmZnUA4E52zOlkdYR0o0KrSVZHAAAAAJAOccUeAAAAAACDUewBAAAAADAYxR4AAAAAAINR7AEAAAAAMBjFHgAAAAAAg1HsAQAAAAAwGMUeAAAAAACDUewBAAAAADAYxR4AAAAAAINR7AEAAAAAMBjFHgAAAAAAg1HsAQAAAAAwGMUeAAAAAACDUewBAAAAADAYxR4AAAAAAINR7AEAAAAAMBjFHgAAAAAAg1HsAQAAAAAwGMUeAAAAAACDUewBAAAAADAYxR4AAAAAAINR7AEAAAAAMBjFHgAAAAAAg1HsAQAAAAAwGMUeAAAAAACDUewBAAAAADAYxR4AAAAAAINR7AEAAAAAMBjFHgAAAAAAg1HsAQAAAAAwGMUeAAAAAACDUewBAAAAADAYxR4AAAAAAINR7AEAAAAAMBjFHgAAAAAAg1HsAQAAAAAwGMUeAAAAAACDUewBAAAAADAYxR4AAAAAAINZWuw3bNigBg0aKCAgQDabTUuWLHHab7fbNWTIEAUEBMjLy0svvPCCDhw44DQmISFBXbp0Ua5cuZQlSxY1bNhQv//+u9OYmJgYtW7dWj4+PvLx8VHr1q114cKFh/zuAAAAAAB4+Cwt9pcvX9YTTzyhiRMn3nL/6NGjNWbMGE2cOFHbt2+Xv7+/atSooYsXLzrGdO/eXYsXL9a8efO0ceNGXbp0SfXr11dSUpJjTIsWLRQeHq7ly5dr+fLlCg8PV+vWrR/6+wMAAAAA4GFzs/I3r1OnjurUqXPLfXa7XePGjdOAAQPUuHFjSdLMmTPl5+enuXPnqmPHjoqNjdXUqVM1e/ZsVa9eXZI0Z84cBQYGatWqVapVq5YiIiK0fPlybd26VZUqVZIkTZkyRSEhITp8+LCKFy9+y98/ISFBCQkJjtdxcXFp+dYBAAAAAEgT6fYZ+8jISEVHR6tmzZqObR4eHnr++ee1efNmSdLOnTt17do1pzEBAQEqXbq0Y8yWLVvk4+PjKPWS9PTTT8vHx8cx5lZGjhzpuHXfx8dHgYGBaf0WAQAAAAB4YOm22EdHR0uS/Pz8nLb7+fk59kVHR8vd3V05cuS445g8efKk+Pl58uRxjLmV/v37KzY21vF1+vTpB3o/AAAAAAA8DJbein8vbDab02u73Z5i281uHnOr8Xf7OR4eHvLw8EhlWgAAAAAAHq10e8Xe399fklJcVT937pzjKr6/v78SExMVExNzxzFnz55N8fP//PPPFHcDAAAAAABgmnRb7AsXLix/f3+tXLnSsS0xMVHr169X5cqVJUnly5dXpkyZnMZERUVp//79jjEhISGKjY3Vtm3bHGN+/fVXxcbGOsYAAAAAAGAqS2/Fv3Tpko4ePep4HRkZqfDwcPn6+qpAgQLq3r27wsLCFBQUpKCgIIWFhSlz5sxq0aKFJMnHx0ft27dXr169lDNnTvn6+io0NFRlypRxzJJfsmRJ1a5dWx06dNDkyZMlSW+++abq169/2xnxAQAAAAAwhaXFfseOHapatarjdc+ePSVJbdu21YwZM9SnTx/Fx8erc+fOiomJUaVKlbRixQp5e3s7vmfs2LFyc3NT06ZNFR8fr2rVqmnGjBlydXV1jPnqq6/UtWtXx+z5DRs21MSJEx/RuwQAAAAA4OGx2e12u9UhTBAXFycfHx/FxsYqW7Zstxyzo2unR5wqfaswftID/4wdczimN1Ro9eDHEwAAAIA57qWHSun4GXsAAAAAAHB3FHsAAAAAAAxGsQcAAAAAwGAUewAAAAAADEaxBwAAAADAYBR7AAAAAAAMRrEHAAAAAMBgFHsAAAAAAAxGsQcAAAAAwGAUewAAAAAADEaxBwAAAADAYBR7AAAAAAAMRrEHAAAAAMBgFHsAAAAAAAxGsQcAAAAAwGAUewAAAAAADEaxBwAAAADAYBR7AAAAAAAMRrEHAAAAAMBgFHsAAAAAAAxGsQcAAAAAwGAUewAAAAAADEaxBwAAAADAYBR7AAAAAAAMRrEHAAAAAMBgFHsAAAAAAAxGsQcAAAAAwGAUewAAAAAADEaxBwAAAADAYBR7AAAAAAAMRrEHAAAAAMBgFHsAAAAAAAxGsQcAAAAAwGAUewAAAAAADEaxBwAAAADAYBR7AAAAAAAMRrEHAAAAAMBgFHsAAAAAAAxGsQcAAAAAwGAUewAAAAAADHZfxf7FF1/UhQsXUmyPi4vTiy+++KCZAAAAAADAPbqvYr9u3TolJiam2H716lX98ssvDxwKAAAAAADcG7fUDN67d6/j1wcPHlR0dLTjdVJSkpYvX658+fKlXToAAAAAAHBHqSr2Tz75pGw2m2w22y1vuffy8tKECRPSLBwAAAAAALizVBX7yMhI2e12FSlSRNu2bVPu3Lkd+9zd3ZUnTx65urqmeUgAAAAAAHBrqSr2BQsWlCQlJyc/lDAAAAAAACB1UlXs/+3IkSNat26dzp07l6LoDxo06IGDAQAAAACAu7uvYj9lyhS99dZbypUrl/z9/WWz2Rz7bDYbxR4AAAAAgEfkvor98OHDNWLECPXt2zet8wB4iFbv6GR1hHSlWoVJVkcAAAAAHth9rWMfExOjJk2apHUWAAAAAACQSvdV7Js0aaIVK1akdRYAAAAAAJBK93UrfrFixTRw4EBt3bpVZcqUUaZMmZz2d+3aNU3CAQAAAACAO7uvYv/FF18oa9asWr9+vdavX++0z2azUewBAAAAAHhE7qvYR0ZGpnUOAAAAAABwH+7rGXsAAAAAAJA+3NcV+3bt2t1x/7Rp0+4rzM2uX7+uIUOG6KuvvlJ0dLTy5s2r1157Te+9955cXP45J2G32zV06FB98cUXiomJUaVKlfTpp5+qVKlSjp+TkJCg0NBQff3114qPj1e1atX02WefKX/+/GmSEwAAAAAAq9z3cnf//jp37pzWrFmjb7/9VhcuXEizcKNGjdKkSZM0ceJERUREaPTo0frwww81YcIEx5jRo0drzJgxmjhxorZv3y5/f3/VqFFDFy9edIzp3r27Fi9erHnz5mnjxo26dOmS6tevr6SkpDTLCgAAAACAFe7riv3ixYtTbEtOTlbnzp1VpEiRBw51w5YtW/TSSy+pXr16kqRChQrp66+/1o4dOyT9c7V+3LhxGjBggBo3bixJmjlzpvz8/DR37lx17NhRsbGxmjp1qmbPnq3q1atLkubMmaPAwECtWrVKtWrVSrO8AAAAAAA8amn2jL2Li4t69OihsWPHptWP1DPPPKPVq1fryJEjkqQ9e/Zo48aNqlu3rqR/JvGLjo5WzZo1Hd/j4eGh559/Xps3b5Yk7dy5U9euXXMaExAQoNKlSzvG3EpCQoLi4uKcvgAAAAAASG/u64r97Rw7dkzXr19Ps5/Xt29fxcbGqkSJEnJ1dVVSUpJGjBihV199VZIUHR0tSfLz83P6Pj8/P508edIxxt3dXTly5Egx5sb338rIkSM1dOjQNHsvAAAAAAA8DPdV7Hv27On02m63KyoqSkuXLlXbtm3TJJgkzZ8/X3PmzNHcuXNVqlQphYeHq3v37goICHD6fWw2W4o8N2+72d3G9O/f3+l9xsXFKTAw8D7fCQAAAAAAD8d9Ffvdu3c7vXZxcVHu3Ln18ccf33XG/NTo3bu3+vXrp+bNm0uSypQpo5MnT2rkyJFq27at/P39JckxY/4N586dc1zF9/f3V2JiomJiYpyu2p87d06VK1e+7e/t4eEhDw+PNHsvAAAAAAA8DPdV7NeuXZvWOW7pypUrjmXtbnB1dVVycrIkqXDhwvL399fKlStVtmxZSVJiYqLWr1+vUaNGSZLKly+vTJkyaeXKlWratKkkKSoqSvv379fo0aMfyfsAAAAAAOBheaBn7P/8808dPnxYNptNjz32mHLnzp1WuSRJDRo00IgRI1SgQAGVKlVKu3fv1pgxYxx3BdhsNnXv3l1hYWEKCgpSUFCQwsLClDlzZrVo0UKS5OPjo/bt26tXr17KmTOnfH19FRoaqjJlyjhmyQcAAAAAwFT3VewvX76sLl26aNasWY6r566urmrTpo0mTJigzJkzp0m4CRMmaODAgercubPOnTungIAAdezYUYMGDXKM6dOnj+Lj49W5c2fFxMSoUqVKWrFihby9vR1jxo4dKzc3NzVt2lTx8fGqVq2aZsyYIVdX1zTJCQAAAACAVWx2u92e2m/q2LGjVq1apYkTJ6pKlSqSpI0bN6pr166qUaOGPv/88zQParW4uDj5+PgoNjZW2bJlu+WYHV07PeJU6VuF8ZMe+GfsmMMxvaFCqwc/nqt3cDz/rVqFBz+mAAAAwMNyLz1Uus8r9t98840WLVqkF154wbGtbt268vLyUtOmTTNksQcAAAAAID1yufuQlK5cuZJi7XhJypMnj65cufLAoQAAAAAAwL25r2IfEhKiwYMH6+rVq45t8fHxGjp0qEJCQtIsHAAAAAAAuLP7uhV/3LhxqlOnjvLnz68nnnhCNptN4eHh8vDw0IoVK9I6IwAAAAAAuI37KvZlypTRb7/9pjlz5ujQoUOy2+1q3ry5WrZsKS8vr7TOCAAAAAAAbuO+iv3IkSPl5+enDh06OG2fNm2a/vzzT/Xt2zdNwgEAAAAAgDu7r2I/efJkzZ07N8X2UqVKqXnz5hR7AP8ZYSwh6ORdlhAEAAB45O5r8rzo6GjlzZs3xfbcuXMrKirqgUMBAAAAAIB7c1/FPjAwUJs2bUqxfdOmTQoICHjgUAAAAAAA4N7c1634b7zxhrp3765r167pxRdflCStXr1affr0Ua9evdI0IAAAAAAAuL37KvZ9+vTR33//rc6dOysxMVGS5Onpqb59+6p///5pGhAAAAAAANzefRV7m82mUaNGaeDAgYqIiJCXl5eCgoLk4eGR1vkAAAAAAMAd3FexvyFr1qx66qmn0ioLAAAAAABIpfuaPA8AAAAAAKQPFHsAAAAAAAxGsQcAAAAAwGAUewAAAAAADEaxBwAAAADAYBR7AAAAAAAMRrEHAAAAAMBgFHsAAAAAAAxGsQcAAAAAwGAUewAAAAAADEaxBwAAAADAYG5WBwAA4IZOO4ZYHSFdmVRhiNURAACAAbhiDwAAAACAwSj2AAAAAAAYjGIPAAAAAIDBKPYAAAAAABiMYg8AAAAAgMEo9gAAAAAAGIxiDwAAAACAwSj2AAAAAAAYjGIPAAAAAIDBKPYAAAAAABiMYg8AAAAAgMEo9gAAAAAAGIxiDwAAAACAwSj2AAAAAAAYjGIPAAAAAIDBKPYAAAAAABiMYg8AAAAAgMEo9gAAAAAAGIxiDwAAAACAwdysDgAAAB6eTjt+sjpCujKpQh2rIwAAkOYo9gAAAKnQaeEOqyOkG5OaVLA6AgBA3IoPAAAAAIDRKPYAAAAAABiMYg8AAAAAgMEo9gAAAAAAGIxiDwAAAACAwZgVHwAAAJbpFMoqA/826SNWGgCQelyxBwAAAADAYBR7AAAAAAAMRrEHAAAAAMBgFHsAAAAAAAyW7ov9H3/8oVatWilnzpzKnDmznnzySe3cudOx3263a8iQIQoICJCXl5deeOEFHThwwOlnJCQkqEuXLsqVK5eyZMmihg0b6vfff3/UbwUAAAAAgDSXrot9TEyMqlSpokyZMumnn37SwYMH9fHHHyt79uyOMaNHj9aYMWM0ceJEbd++Xf7+/qpRo4YuXrzoGNO9e3ctXrxY8+bN08aNG3Xp0iXVr19fSUlJFrwrAAAAAADSTrpe7m7UqFEKDAzU9OnTHdsKFSrk+LXdbte4ceM0YMAANW7cWJI0c+ZM+fn5ae7cuerYsaNiY2M1depUzZ49W9WrV5ckzZkzR4GBgVq1apVq1ar1SN8TAAAAAABpKV1fsf/+++9VoUIFNWnSRHny5FHZsmU1ZcoUx/7IyEhFR0erZs2ajm0eHh56/vnntXnzZknSzp07de3aNacxAQEBKl26tGPMrSQkJCguLs7pCwAAAACA9CZdF/vjx4/r888/V1BQkH7++Wd16tRJXbt21axZsyRJ0dHRkiQ/Pz+n7/Pz83Psi46Olru7u3LkyHHbMbcycuRI+fj4OL4CAwPT8q0BAAAAAJAm0nWxT05OVrly5RQWFqayZcuqY8eO6tChgz7//HOncTabzem13W5Pse1mdxvTv39/xcbGOr5Onz59/28EAAAAAICHJF0X+7x58yo4ONhpW8mSJXXq1ClJkr+/vySluPJ+7tw5x1V8f39/JSYmKiYm5rZjbsXDw0PZsmVz+gIAAAAAIL1J18W+SpUqOnz4sNO2I0eOqGDBgpKkwoULy9/fXytXrnTsT0xM1Pr161W5cmVJUvny5ZUpUyanMVFRUdq/f79jDAAAAAAApkrXs+L36NFDlStXVlhYmJo2bapt27bpiy++0BdffCHpn1vwu3fvrrCwMAUFBSkoKEhhYWHKnDmzWrRoIUny8fFR+/bt1atXL+XMmVO+vr4KDQ1VmTJlHLPkAwAAAABgqnRd7J966iktXrxY/fv317Bhw1S4cGGNGzdOLVu2dIzp06eP4uPj1blzZ8XExKhSpUpasWKFvL29HWPGjh0rNzc3NW3aVPHx8apWrZpmzJghV1dXK94WAAAAAABpJl0Xe0mqX7++6tevf9v9NptNQ4YM0ZAhQ247xtPTUxMmTNCECRMeQkIAAAAAAKyTrp+xBwAAAAAAd0axBwAAAADAYBR7AAAAAAAMRrEHAAAAAMBgFHsAAAAAAAxGsQcAAAAAwGAUewAAAAAADEaxBwAAAADAYBR7AAAAAAAMRrEHAAAAAMBgFHsAAAAAAAxGsQcAAAAAwGAUewAAAAAADEaxBwAAAADAYBR7AAAAAAAMRrEHAAAAAMBgFHsAAAAAAAxGsQcAAAAAwGAUewAAAAAADEaxBwAAAADAYBR7AAAAAAAMRrEHAAAAAMBgFHsAAAAAAAxGsQcAAAAAwGAUewAAAAAADEaxBwAAAADAYBR7AAAAAAAMRrEHAAAAAMBgFHsAAAAAAAxGsQcAAAAAwGAUewAAAAAADEaxBwAAAADAYBR7AAAAAAAMRrEHAAAAAMBgFHsAAAAAAAxGsQcAAAAAwGAUewAAAAAADEaxBwAAAADAYBR7AAAAAAAMRrEHAAAAAMBgFHsAAAAAAAxGsQcAAAAAwGAUewAAAAAADEaxBwAAAADAYBR7AAAAAAAMRrEHAAAAAMBgblYHAAAAAJB2xnfaYXWEdKPrpApWRwAeCa7YAwAAAABgMIo9AAAAAAAGo9gDAAAAAGAwij0AAAAAAAaj2AMAAAAAYDCKPQAAAAAABqPYAwAAAABgMIo9AAAAAAAGo9gDAAAAAGAwo4r9yJEjZbPZ1L17d8c2u92uIUOGKCAgQF5eXnrhhRd04MABp+9LSEhQly5dlCtXLmXJkkUNGzbU77///ojTAwAAAACQ9owp9tu3b9cXX3yhxx9/3Gn76NGjNWbMGE2cOFHbt2+Xv7+/atSooYsXLzrGdO/eXYsXL9a8efO0ceNGXbp0SfXr11dSUtKjfhsAAAAAAKQpI4r9pUuX1LJlS02ZMkU5cuRwbLfb7Ro3bpwGDBigxo0bq3Tp0po5c6auXLmiuXPnSpJiY2M1depUffzxx6pevbrKli2rOXPmaN++fVq1apVVbwkAAAAAgDRhRLF/++23Va9ePVWvXt1pe2RkpKKjo1WzZk3HNg8PDz3//PPavHmzJGnnzp26du2a05iAgACVLl3aMeZWEhISFBcX5/QFAAAAAEB642Z1gLuZN2+edu3ape3bt6fYFx0dLUny8/Nz2u7n56eTJ086xri7uztd6b8x5sb338rIkSM1dOjQB40PAAAAAMBDla6v2J8+fVrdunXTnDlz5OnpedtxNpvN6bXdbk+x7WZ3G9O/f3/FxsY6vk6fPp268AAAAAAAPALputjv3LlT586dU/ny5eXm5iY3NzetX79e48ePl5ubm+NK/c1X3s+dO+fY5+/vr8TERMXExNx2zK14eHgoW7ZsTl8AAAAAAKQ36brYV6tWTfv27VN4eLjjq0KFCmrZsqXCw8NVpEgR+fv7a+XKlY7vSUxM1Pr161W5cmVJUvny5ZUpUyanMVFRUdq/f79jDAAAAAAApkrXz9h7e3urdOnSTtuyZMminDlzOrZ3795dYWFhCgoKUlBQkMLCwpQ5c2a1aNFCkuTj46P27durV69eypkzp3x9fRUaGqoyZcqkmIwPAAAAAADTpOtify/69Omj+Ph4de7cWTExMapUqZJWrFghb29vx5ixY8fKzc1NTZs2VXx8vKpVq6YZM2bI1dXVwuQAAAAAADw444r9unXrnF7bbDYNGTJEQ4YMue33eHp6asKECZowYcLDDQcAAAAAwCOWrp+xBwAAAAAAd0axBwAAAADAYBR7AAAAAAAMRrEHAAAAAMBgFHsAAAAAAAxGsQcAAAAAwGAUewAAAAAADEaxBwAAAADAYBR7AAAAAAAMRrEHAAAAAMBgFHsAAAAAAAxGsQcAAAAAwGAUewAAAAAADEaxBwAAAADAYBR7AAAAAAAMRrEHAAAAAMBgFHsAAAAAAAxGsQcAAAAAwGAUewAAAAAADEaxBwAAAADAYBR7AAAAAAAMRrEHAAAAAMBgFHsAAAAAAAxGsQcAAAAAwGAUewAAAAAADEaxBwAAAADAYBR7AAAAAAAMRrEHAAAAAMBgFHsAAAAAAAxGsQcAAAAAwGAUewAAAAAADEaxBwAAAADAYBR7AAAAAAAMRrEHAAAAAMBgFHsAAAAAAAxGsQcAAAAAwGAUewAAAAAADEaxBwAAAADAYBR7AAAAAAAMRrEHAAAAAMBgFHsAAAAAAAxGsQcAAAAAwGAUewAAAAAADEaxBwAAAADAYBR7AAAAAAAMRrEHAAAAAMBgFHsAAAAAAAxGsQcAAAAAwGAUewAAAAAADEaxBwAAAADAYBR7AAAAAAAMRrEHAAAAAMBgFHsAAAAAAAxGsQcAAAAAwGAUewAAAAAADEaxBwAAAADAYOm62I8cOVJPPfWUvL29lSdPHjVq1EiHDx92GmO32zVkyBAFBATIy8tLL7zwgg4cOOA0JiEhQV26dFGuXLmUJUsWNWzYUL///vujfCsAAAAAADwU6brYr1+/Xm+//ba2bt2qlStX6vr166pZs6YuX77sGDN69GiNGTNGEydO1Pbt2+Xv768aNWro4sWLjjHdu3fX4sWLNW/ePG3cuFGXLl1S/fr1lZSUZMXbAgAAAAAgzbhZHeBOli9f7vR6+vTpypMnj3bu3KnnnntOdrtd48aN04ABA9S4cWNJ0syZM+Xn56e5c+eqY8eOio2N1dSpUzV79mxVr15dkjRnzhwFBgZq1apVqlWr1iN/XwAAAAAApJV0fcX+ZrGxsZIkX19fSVJkZKSio6NVs2ZNxxgPDw89//zz2rx5syRp586dunbtmtOYgIAAlS5d2jHmVhISEhQXF+f0BQAAAABAemNMsbfb7erZs6eeeeYZlS5dWpIUHR0tSfLz83Ma6+fn59gXHR0td3d35ciR47ZjbmXkyJHy8fFxfAUGBqbl2wEAAAAAIE0YU+zfeecd7d27V19//XWKfTabzem13W5Pse1mdxvTv39/xcbGOr5Onz59f8EBAAAAAHiIjCj2Xbp00ffff6+1a9cqf/78ju3+/v6SlOLK+7lz5xxX8f39/ZWYmKiYmJjbjrkVDw8PZcuWzekLAAAAAID0Jl0Xe7vdrnfeeUfffvut1qxZo8KFCzvtL1y4sPz9/bVy5UrHtsTERK1fv16VK1eWJJUvX16ZMmVyGhMVFaX9+/c7xgAAAAAAYKp0PSv+22+/rblz5+q7776Tt7e348q8j4+PvLy8ZLPZ1L17d4WFhSkoKEhBQUEKCwtT5syZ1aJFC8fY9u3bq1evXsqZM6d8fX0VGhqqMmXKOGbJBwAAAADAVOm62H/++eeSpBdeeMFp+/Tp0/Xaa69Jkvr06aP4+Hh17txZMTExqlSpklasWCFvb2/H+LFjx8rNzU1NmzZVfHy8qlWrphkzZsjV1fVRvRUAAAAAAB6KdF3s7Xb7XcfYbDYNGTJEQ4YMue0YT09PTZgwQRMmTEjDdAAAAAAAWC9dP2MPAAAAAADujGIPAAAAAIDBKPYAAAAAABiMYg8AAAAAgMEo9gAAAAAAGIxiDwAAAACAwSj2AAAAAAAYjGIPAAAAAIDBKPYAAAAAABiMYg8AAAAAgMEo9gAAAAAAGIxiDwAAAACAwSj2AAAAAAAYjGIPAAAAAIDBKPYAAAAAABiMYg8AAAAAgMEo9gAAAAAAGIxiDwAAAACAwSj2AAAAAAAYjGIPAAAAAIDBKPYAAAAAABiMYg8AAAAAgMEo9gAAAAAAGIxiDwAAAACAwSj2AAAAAAAYjGIPAAAAAIDBKPYAAAAAABiMYg8AAAAAgMEo9gAAAAAAGIxiDwAAAACAwSj2AAAAAAAYjGIPAAAAAIDB3KwOAAAAAADp1a+ddlgdIV2pNKmC1RFwC1yxBwAAAADAYBR7AAAAAAAMRrEHAAAAAMBgFHsAAAAAAAxGsQcAAAAAwGAUewAAAAAADEaxBwAAAADAYBR7AAAAAAAMRrEHAAAAAMBgFHsAAAAAAAxGsQcAAAAAwGAUewAAAAAADEaxBwAAAADAYBR7AAAAAAAMRrEHAAAAAMBgFHsAAAAAAAxGsQcAAAAAwGAUewAAAAAADEaxBwAAAADAYBR7AAAAAAAM5mZ1AAAAAADAf8eOTpOtjpBuVJjUMU1+DlfsAQAAAAAwGMUeAAAAAACD/aeK/WeffabChQvL09NT5cuX1y+//GJ1JAAAAAAAHsh/ptjPnz9f3bt314ABA7R79249++yzqlOnjk6dOmV1NAAAAAAA7tt/ZvK8MWPGqH379nrjjTckSePGjdPPP/+szz//XCNHjkwxPiEhQQkJCY7XsbGxkqS4uLjb/h6XEhPTOLXZ7nSs7tWleI7pDWlxPC9f4nj+W1oc06scUycPekwTLyXcfdB/SFr8N5p46UoaJMk40uSYXrmUBkkyhjQ5ngkcz39Lk3+bEjmmN6TJ5yeOp5M0+YyfGJ8GSTKGux3PG/vtdvsdx9nsdxuRASQmJipz5sxauHChXn75Zcf2bt26KTw8XOvXr0/xPUOGDNHQoUMfZUwAAAAAAFI4ffq08ufPf9v9/4kr9n/99ZeSkpLk5+fntN3Pz0/R0dG3/J7+/furZ8+ejtfJycn6+++/lTNnTtlstoea90HExcUpMDBQp0+fVrZs2ayOkyFwTNMWxzPtcUzTFscz7XFM0xbHM+1xTNMWxzPtcUzTninH1G636+LFiwoICLjjuP9Esb/h5kJut9tvW9I9PDzk4eHhtC179uwPK1qay5YtW7r+D9REHNO0xfFMexzTtMXxTHsc07TF8Ux7HNO0xfFMexzTtGfCMfXx8bnrmP/E5Hm5cuWSq6triqvz586dS3EVHwAAAAAAk/wnir27u7vKly+vlStXOm1fuXKlKleubFEqAAAAAAAe3H/mVvyePXuqdevWqlChgkJCQvTFF1/o1KlT6tSpk9XR0pSHh4cGDx6c4jEC3D+OadrieKY9jmna4nimPY5p2uJ4pj2OadrieKY9jmnay2jH9D8xK/4Nn332mUaPHq2oqCiVLl1aY8eO1XPPPWd1LAAAAAAA7tt/qtgDAAAAAJDR/CeesQcAAAAAIKOi2AMAAAAAYDCKPQAAAAAABqPYAwAAAABgsP/McncZxd69e+957OOPP/4QkwCwQmRkpAoXLmx1DACP2C+//KLJkyfr2LFjWrRokfLly6fZs2ercOHCeuaZZ6yOZ6Rjx45p+vTpOnbsmD755BPlyZNHy5cvV2BgoEqVKmV1PABIFYq9YZ588knZbDbZ7XbZbLY7jk1KSnpEqTKWl19++ZbH1mazydPTU8WKFVOLFi1UvHhxC9KZ66+//tKJEydks9lUqFAh5cyZ0+pIRipWrJiee+45tW/fXv/73//k6elpdSTglrZt26Z169bp3LlzSk5Odto3ZswYi1KZ6ZtvvlHr1q3VsmVL7d69WwkJCZKkixcvKiwsTMuWLbM4oXnWr1+vOnXqqEqVKtqwYYNGjBihPHnyaO/evfryyy+1aNEiqyMaZdiwYQoNDVXmzJmtjgL8Z7HcnWFOnjzp+PXu3bsVGhqq3r17KyQkRJK0ZcsWffzxxxo9erQaNWpkUUqzvfbaa1qyZImyZ8+u8uXLy263a/fu3bpw4YJq1qypPXv26MSJE1q9erWqVKliddx078CBA3rrrbe0adMmp+3PP/+8Pv/8c06QpNL+/fs1bdo0ffXVV0pISFCzZs3Uvn17VaxY0epogENYWJjee+89FS9eXH5+fk4nS202m9asWWNhOvOULVtWPXr0UJs2beTt7a09e/aoSJEiCg8PV+3atRUdHW11ROOEhISoSZMm6tmzp9Mx3b59uxo1aqQ//vjD6ohGcXV1VVRUlPLkyWN1lAzl8uXL+uCDD7R69epbniQ9fvy4RcnMkSNHjrteDL3h77//fshpHi6KvcEqVqyoIUOGqG7duk7bly1bpoEDB2rnzp0WJTNbv379FBcXp4kTJ8rF5Z9pKJKTk9WtWzd5e3trxIgR6tSpkw4cOKCNGzdanDZ9i46OVunSpZU7d2516tRJJUqUkN1u18GDBzVlyhSdP39e+/fv54PAfbh+/bp++OEHzZgxQz/99JOCgoLUvn17tW7dWrlz57Y6njHKli17z//g79q16yGnyTj8/Pw0atQovfbaa1ZHyRAyZ86sgwcPqlChQk4l9Pjx4woODtbVq1etjmicrFmzat++fSpcuLDTMT1x4oRKlCjBMU0lFxcXRUdH8+95Gnv11Ve1fv16tW7dWnnz5k3x71W3bt0sSmaOmTNnOn59/vx5DR8+XLVq1XK6KPrzzz9r4MCB6tGjh1Ux0wTF3mBeXl7atWuXSpYs6bQ9IiJC5cqVU3x8vEXJzJY7d25t2rRJjz32mNP2I0eOqHLlyvrrr7+0b98+Pfvss7pw4YI1IQ3Rt29frVq1Sps2bUpxy3h8fLyeeeYZ1axZUyNHjrQoofkSEhL02WefqX///kpMTFSmTJnUrFkzjRo1Snnz5rU6Xro3dOjQex47ePDgh5gkY8mbN682bNigoKAgq6NkCEWLFtXkyZNVvXp1pxI6a9YsffDBBzp48KDVEY2TP39+LViwQJUrV3Y6posXL1ZoaKiOHTtmdUSjuLi46OzZs5xYTmPZs2fX0qVLuUM0jbzyyiuqWrWq3nnnHaftEydO1KpVq7RkyRJrgqURnrE3WMmSJTV8+HBNnTrVUZoSEhI0fPjwFGUf9+769es6dOhQimJ/6NAhx7wFnp6e93yV779s5cqV6tev3y2fA/fy8lLv3r01evRoiv192LFjh6ZNm6Z58+YpS5YsCg0NVfv27XXmzBkNGjRIL730krZt22Z1zHSPsv5w9OjRQ59++qnGjRtndZQMoWPHjurWrZumTZsmm82mM2fOaMuWLQoNDdWgQYOsjmekFi1aqG/fvlq4cKFsNpuSk5O1adMmhYaGqk2bNlbHM1K1atXk5nbnasGdT6mTI0cO+fr6Wh0jw/j55581atSoFNtr1aqlfv36WZAobVHsDTZp0iQ1aNBAgYGBeuKJJyRJe/bskc1m048//mhxOnO1bt1a7du317vvvqunnnpKNptN27ZtU1hYmOMf+/Xr1zNj7j04fvy4ypUrd9v9FSpU4PmwVBozZoymT5+uw4cPq27dupo1a5bq1q3reGykcOHCmjx5skqUKGFxUvyXhYaGql69eipatKiCg4OVKVMmp/3ffvutRcnM1KdPH8XGxqpq1aq6evWqnnvuOXl4eCg0NDTFlSfcmxEjRui1115Tvnz5ZLfbFRwcrKSkJLVo0ULvvfee1fGMVKtWLWXNmtXqGBnK+++/r0GDBmnmzJlMTJgGcubMqcWLF6t3795O25csWZIhJnXmVnzDXblyRXPmzNGhQ4cc/zC1aNFCWbJksTqasZKSkvTBBx9o4sSJOnv2rKR/nhft0qWL+vbtK1dXV506dUouLi7Knz+/xWnTt7tNpnP27Fnly5dP169ff8TJzBUUFKR27drp9ddfl7+//y3HJCYm6uuvv1bbtm0fcTqzJSUlaezYsVqwYIFOnTqlxMREp/2mT6rzKL399tuaOnWqqlatmmLyPEmaPn26RcnMduXKFR08eFDJyckKDg6mRKWBY8eOaffu3UpOTlbZsmV5fOQ+8Yz9w1G2bFkdO3ZMdrtdhQoVSnGSlDsgUmfGjBlq3769ateu7XjGfuvWrVq+fLm+/PJL4+eFodgDdxAXFydJypYtm8VJzOTq6qojR47c9pm7s2fPqkSJEizNeI+uX7+u4cOHq3379goMDLQ6ToYzaNAgffnll+rZs6cGDhyoAQMG6MSJE1qyZIkGDRqkrl27Wh3RGN7e3po3b57q1atndZQMYebMmfrf//7HSfs0tH79ej3//PNWx8gwmBX/4bjbPDA8TpZ6v/76q8aPH6+IiAjHRdGuXbuqUqVKVkd7YBT7DODgwYO3vLrUsGFDixIB/3BxcbnjXAR2u102m41inwre3t7at2+fChUqZHWUDKdo0aIaP3686tWrJ29vb4WHhzu2bd26VXPnzrU6ojEKFiyon3/+mUdC0kju3Ll15coVNWjQQK1atVLt2rXv+iwz7szd3V3+/v5q0aKFWrVqpdKlS1sdyWhcsQesR7E32PHjx/Xyyy9r3759stlsuvF/5Y0iRVm6P2fPnlVoaKhjzdCb/4hwXO/d+vXr72kcV03uXaNGjdSoUSPjbxdLj7JkyaKIiAgVKFBAefPm1dKlS1WuXDkdP35cZcuWVWxsrNURjTF9+nQtX75c06dP57nQNHD9+nUtX75cX3/9tb777jt5eXmpSZMmatWqlSpXrmx1PCP99ddfmjdvnr7++mtt2bJFpUuXVqtWrdSiRQses7sPJ0+eVIECBVKczL9+/bquXr3KYyMP4MKFC1q0aJGOHTum3r17y9fXV7t27ZKfn5/y5ctndTzjHDt2TNOnT9fx48c1btw45cmTR8uXL1dgYKDx82dR7A3WoEEDubq6asqUKSpSpIi2bdum8+fPq1evXvroo4/07LPPWh3RSHXq1NGpU6f0zjvv3HLN0JdeesmiZIA0efJkDRkyRC1btlT58uVT3JrLnTr3r3jx4po1a5YqVaqkZ599VvXq1VO/fv00f/58denSRefOnbM6ojF4LvThuXLlihYvXqy5c+dq1apVyp8/P0uzPaDIyEjNnTtXX3/9tQ4dOqTnnntOa9assTqWUZYtW6bz58+rdevWjm0jRozQ+++/r+vXr+vFF1/U/PnzlSNHDgtTmmfv3r2qXr26fHx8dOLECR0+fFhFihTRwIEDdfLkSc2aNcvqiEZZv3696tSpoypVqmjDhg2KiIhQkSJFNHr0aG3btk2LFi2yOuIDodgbLFeuXFqzZo0ef/xx+fj4aNu2bSpevLjWrFmjXr16affu3VZHNJK3t7d++eUXPfnkk1ZHMd6CBQvUqFEjubu7S5JOnDihwMBAubq6SvrnA+rEiRPVp08fK2Ma5cbs97fCYw0Ppl+/fsqWLZveffddLVq0SK+++qoKFSqkU6dOqUePHvrggw+sjmgMngt9uG5cbZ40aZIiIiL4c58GkpKS9NNPP2ngwIHau3cvxzSVXnzxRb3yyit6++23JUmbN2/Ws88+q2HDhqlkyZIaMGCA6tSpozFjxlic1CzVq1dXuXLlNHr0aHl7e2vPnj0qUqSINm/erBYtWujEiRNWRzRKSEiImjRpop49ezodz+3bt6tRo0b6448/rI74QHhAy2BJSUmOW5ty5cqlM2fOqHjx4ipYsKAOHz5scTpzBQYGprj9Hvfn1VdfdZpM5/HHH1d4eLiKFCkiSbp48aL69+9PsU+F5ORkqyNkWP8u7v/73/+UP39+bd68WcWKFeNOiFS4scpFu3btmOQxDd24Uv/VV19p1apVCgwM1KuvvqqFCxdaHc1omzZt0ldffaVFixbp6tWratiwocLCwqyOZZz9+/fr448/drxetGiRatSooQEDBkiSPD091a1bN4p9Km3fvl2TJ09OsT1fvnyKjo62IJHZ9u3bd8v5cnLnzq3z589bkChtUewNVrp0ae3du1dFihRRpUqVNHr0aLm7u+uLL75wFCek3rhx49SvXz9NnjyZCcoe0M0nSDhhApM8/fTTevrpp62OYRw3Nzd99NFHLLeYhl599VX98MMPypw5s5o0aaJ169bxbP0Devfdd/X111/rzJkzql69usaNG6dGjRoxJ8R9unjxotM64Bs3btT//vc/x+tSpUrpzJkzVkQzmqenp2OFpn87fPjwbVccwu1lz55dUVFRKly4sNP23bt3Z4j5Cij2Bnvvvfd0+fJlSdLw4cNVv359Pfvss8qZM6fmz59vcTpzNWvWTFeuXFHRokWVOXPmFM+GspY1HrXx48frzTfflKenp8aPH3/HsSzJljrff/+96tSpo0yZMun777+/41iu2t+7atWqad26dUzymEZsNpvmz5+vWrVqMRt+Glm3bp1CQ0PVrFkz5cqVy+o4xgsICHBMPnrp0iXt2bNHY8eOdew/f/48J03uw0svvaRhw4ZpwYIFkv75u+DUqVPq16+fXnnlFYvTmadFixbq27evFi5cKJvNpuTkZG3atEmhoaFq06aN1fEeGM/YZzB///23cuTIccclxnBnM2fOvON+rkLdu5uXv/n380zSPysQBAQE8CzjXRQuXFg7duxQzpw5U5xl/jebzabjx48/wmTm+/d/o8xfkHaY5BH4b+nbt6++//57vfvuu1q2bJk2b96s48ePO+bU+eKLLzRr1ixt3LjR4qRmiYuLU926dXXgwAFdvHhRAQEBio6OVkhIiJYtW5bi71bc2bVr1/Taa69p3rx5stvtcnNzU1JSklq0aKEZM2Y4/ns1FcU+Azh69KiOHTum5557Tl5eXo61wQGrubi4aObMmfLx8ZH0z+2k48aNk5+fn6R/lnB5/fXXKUxABsNJkgfHnTppjzt0Hp4rV66oY8eO+vHHH+Xv768vvvjCaXWmqlWrqnbt2urbt6+FKc21Zs0a7dq1S8nJySpXrpyqV69udSSjHT9+3HE8y5Ytq6CgIKsjpQmKvcHOnz+vpk2bau3atbLZbPrtt99UpEgRtW/fXtmzZ3eaxAR3FhcXp2zZsjl+fSc3xuHu7vTh/gY+5CO9mDVrlpo1ayYPDw+n7YmJiZo3b16GuE0P5uBOnbTHHTrAf9uwYcMUGhqa4rGQ+Ph4ffjhhxo0aJBFydIGxd5gbdq00blz5/Tll1+qZMmSjlucV6xYoR49eujAgQNWRzSGq6urY/Z2FxeXW97xcONOCP6xh5XatWt3x/3Tpk17REkynn//PfBv58+fV548efizf5+uXr0qT09Pq2MAeET27t2rI0eOyGazKSgoSI8//rjVkYy2evVqjR07VhEREbLZbCpRooS6d+/OVfv7kNH/nb/75TSkWytWrNCoUaOUP39+p+1BQUE6efKkRanMtGbNGvn6+kqS1q5dqzVr1qT4urEd965du3a6ePGi1TEylJiYGKevc+fOac2aNfr222914cIFq+MZ7XaPMf3++++Ox0lwb5KSkvT+++8rX758ypo1q+OK8sCBAzV16lSL05ln2LBhunLlSort8fHxGjZsmAWJzDdr1iwlJCSk2J6YmKhZs2ZZkMh827ZtU5kyZVS2bFk1bdpUTZo0UdmyZfX4449r+/btVscz0sSJE1W7dm15e3urW7du6tq1q7Jly6a6detq4sSJVsczzu3+nd+zZ4+jB5iMK/YG8/b21q5duxQUFOQ0Kdn27dtVu3btDLEeI8x2uzOjSFvJycnq3LmzihQpoj59+lgdxzhly5aVzWbTnj17VKpUKadZx5OSkhQZGanatWs7ZiXG3Q0bNkwzZ87UsGHD1KFDB+3fv19FihTRggULNHbsWG3ZssXqiEbJ6FeZrMAxTVsHDx5UpUqVVLJkSfXo0UMlS5aU3W5XRESExo4dq8OHD2vr1q0KDg62OqpR8uXLp/79++udd95x2v7pp59qxIgRLCF4j25MLB4bG6ts2bI5lfukpCRdunRJnTp10qeffmphygdHsTdYvXr1VK5cOb3//vvy9vbW3r17VbBgQTVv3lzJyclatGiR1RGNsXfv3nseyy1l9+7mWfHx8Bw+fFgvvPCCoqKirI5inKFDhzr+t1evXsqaNatjn7u7uwoVKqRXXnlF7u7uVkU0TrFixTR58mRVq1bN6cTzoUOHFBISopiYGKsjGsXFxUVnz55NsW71mjVr1KxZM/35558WJTPX7Y7pnj17VLVqVZa2TaUmTZooKSlJ33zzTYorona7XY0bN1amTJk4QZpK3t7e2r17t4oVK+a0/bffflPZsmV16dIli5KZZebMmbLb7WrXrp3GjRvndBfejX/nQ0JCLEyYNlgM1WAffvihXnjhBe3YsUOJiYnq06ePDhw4oL///lubNm2yOp5RnnzySdlstntaUYCz+KnDCg2PxrFjx3T9+nWrYxhp8ODBkqRChQqpWbNmPA+eBv74448UH0Slf+4uuXbtmgWJzHTjKpPNZtNjjz1226tMuHc37tCx2WyqVq3abe/QQeqsW7dOP/300y3/zbfZbHr33XdVt25dC5KZrWHDhlq8eLF69+7ttP27775TgwYNLEplnrZt2zo+I1WvXj3FY8wZBcXeYMHBwdq7d68+//xzubq66vLly2rcuLHefvtt5c2b1+p4RomMjHT8evfu3QoNDVXv3r0dZ++2bNmijz/+WKNHj7YqorFu/jB6K1wZuXc9e/Z0em232xUVFaWlS5eqbdu2FqXKGG4cv8TERJ07d07JyclO+wsUKGBFLCOVKlVKv/zyiwoWLOi0feHChSpbtqxFqcwzbtw4x1WmoUOHZtirTI9So0aNJEnh4eGqVavWbe/QQepcvHjRsZTtrfj7+zPnzn0oWbKkRowYoXXr1jn+rG/dulWbNm1Sr169nJbCZNnLO3Nzc1Pnzp0VERFhdZSHhmJvOH9/f8dtpDecPn1a7dq1Y3bsVPj3h88mTZpo/PjxTmeWH3/8cQUGBmrgwIGODwW4Nzd/GMWD2b17t9NrFxcX5c6dWx9//PFdZ8zHnf32229q166dNm/e7LSdFTHuXbt27fTJJ59o8ODBat26tf744w8lJyfr22+/1eHDhzVr1iz9+OOPVsc0xo2TTYULF1blypWVKVMmixOZjzt0Ho5ChQpp27ZtCgwMvOX+X3/9NcWJPtzd1KlTlSNHDh08eFAHDx50bM+ePbvTRKQ2m41ifw8qVaqk3bt3Z9j/FnnGPgPas2ePypUrx4fQ++Tl5aVdu3apZMmSTtsjIiJUrlw5xcfHW5TMPDxjD5NUqVJFbm5u6tevn/LmzZviTpMnnnjComTm+PeEZD///LPCwsK0c+dOJScnq1y5cho0aJBq1qxpdUwjxMXFKVu2bI5f38mNcYBVBg8erBkzZmjp0qUqXbq00759+/apQYMGatu2bYqLUbg3f/31l2w2m3LmzGl1FKMtXLhQ/fr1U48ePVS+fHllyZLFab/p82hR7DMgiv2DKVeunEqWLKmpU6c6zuQnJCSoXbt2ioiI0K5duyxOaA5mxYdJsmTJop07d6pEiRJWRzEWJ/PSzr///nRxcbnlI03cTXL/kpKSNHbsWC1YsECnTp1SYmKi034eEUudq1evqlq1avr1119Vo0YNx8WRgwcPatWqVapYsaLWrFnDHRKpcOHCBQ0YMEDz5893TDiaI0cONW/eXMOHD1f27NmtDWggF5eUK73/e44t0/8u5VZ84CaTJk1SgwYNFBgY6LhCt2fPHtlsNm4hTaV7OW+4aNEi/e9//3sEaTKGGxM/3QtOQqVOcHCw/vrrL6tjGI8JM9PGmjVrHOsqr1271uI0Gc/QoUP15ZdfqmfPnho4cKAGDBigEydOaMmSJRo0aJDV8Yzj6emptWvXauzYsfr666+1fv16Sf/MszN8+HC1bNlSnTt35jHRe/T3338rJCREf/zxh1q2bOm0fOCMGTO0evVqbd68WTly5LA6qlH+PadWRsQV+wyIK/YP7sqVK5ozZ44OHToku92u4OBgtWjRIsUtO7i769ev6/Dhw8qUKZMee+wxx/bvvvtOgwYN0qFDh5SQkGBhQrP0799fn332mYKDg50m0jlw4IDeeusteXl5OcbeeJYU92bNmjV67733FBYWpjJlyqR4npnbne/OxcVFPj4+TJiJdK9o0aIaP3686tWrJ29vb4WHhzu2bd26VXPnzrU6YobCZ9PU6d69u1avXq1Vq1almJQwOjpaNWvWVLVq1TR27FiLEiI9otgbqHHjxnfcf+HCBa1fv56/PGG5iIgI1atXTydPnpQkvfTSS/r888/VtGlT7dmzR2+88Ya6det228l2kNIbb7yhvHnz6v3333faPnjwYJ0+fZqrIQ/gxi16t1qDOSPcovcouLi4pFgj+FZYwSF1li9frqxZs+qZZ56RJH366aeaMmWKgoOD9emnn3LV7j5kyZJFERERKlCggPLmzaulS5eqXLlyOn78uMqWLavY2FirI2YoFPvUKVSokCZPnqxatWrdcv/y5cvVqVMnnThx4tEGywBmz56tSZMmKTIyUlu2bFHBggU1btw4FS5cWC+99JLV8R4It+Ib6G4fmHx8fNSmTZtHlCZjOnLkiNatW3fLJa+4Re/e9e3bV4ULF9b48eP11Vdfaf78+dq/f79atWqlH3/8Ud7e3lZHNM7ChQu1Y8eOFNtbtWqlChUqUOwfALc7p43mzZvzjH0a6927t0aNGiXpn4nIevbsqV69emnNmjXq2bOnpk+fbnFC8+TPn19RUVEqUKCAihUrphUrVqhcuXLavn27PDw8rI6H/7ioqCiVKlXqtvtLly6t6OjoR5goY/j88881aNAgde/eXSNGjHCcaMqePbvGjRtHscejxz/gD9eUKVP01ltvKVeuXPL393e6emez2Sj2qbBt2zYtW7ZM5cqV0zPPPKP58+erd+/e6tChg9XRjOXl5aWNGzcqKCjIafvGjRuZlOgBPf/881ZHMB7P1z8ckZGRCg4OliR98803atCggcLCwrRr1y6npVlx715++WWtXr1alSpVUrdu3fTqq69q6tSpOnXqlHr06GF1PPzH5cqVSydOnFD+/PlvuT8yMpIZ8u/DhAkTNGXKFDVq1EgffPCBY3uFChUUGhpqYbK0QbEHbjJ8+HCNGDFCffv2tTqK8c6dO6d8+fJJ+udsaObMmSlPD6h79+566623tHPnTj399NOS/nnGftq0aZx0SgO//PKLJk+erOPHj2vhwoXKly+fZs+ercKFCztug8bt8XTfw+Hu7q4rV65IklatWuW4K8/X1/euS+Hh1v79of5///uf8ufPr82bN6tYsWJq2LChhcnMdC+PieLe1a5dWwMGDNDKlSvl7u7utC8hIUEDBw5U7dq1LUpnrsjISJUtWzbFdg8PD12+fNmCRGmLYg/cJCYmRk2aNLE6RoZgs9mclhZxcXFJMSEZUqdfv34qUqSIPvnkE8fkTiVLltSMGTPUtGlTi9OZ7ZtvvlHr1q3VsmVL7dq1yzGp48WLFxUWFqZly5ZZnDD9u/nRJaSNZ555Rj179lSVKlW0bds2zZ8/X9I/j43d7ooeUufpp592nCxF6vGYaNoaOnSoKlSooKCgIL399tuOZVgPHjyozz77TAkJCZo9e7bFKc1TuHBhhYeHq2DBgk7bf/rpJ8ddUSZj8jzgJu3bt9dTTz2lTp06WR3FeDfPkH3hwgVly5YtxTqizJCN9KBs2bLq0aOH2rRpI29vb+3Zs0dFihRReHi4ateuzfOMsMypU6fUuXNnnT59Wl27dlX79u0lST169FBSUpLGjx9vcULzfP/997fcbrPZ5OnpqWLFiqlw4cKPOBXw/0VGRqpz585asWKF424om82mGjVqaOLEiSpWrJjFCc0zffp0DRw4UB9//LHat2+vL7/8UseOHdPIkSP15Zdfqnnz5lZHfCAUe+AmI0eO1JgxY1SvXr1bLnnVtWtXi5KZZ+bMmfc0jhmyUy8xMfGWkzsWKFDAokTmy5w5sw4ePKhChQo5Ffvjx48rODhYV69etToigDTi4uIim82W4vGRG9tsNpueeeYZLVmyhFUHYKmYmBj99ttvkqRixYrJ19fX4kRmmzJlioYPH67Tp09LkvLly6chQ4Y4TpiajGJvsAsXLih79uy33Hf06FHO5N2nO52ht9lsOn78+CNMAzj77bff1K5dO23evNlpO0uyPbiiRYtq8uTJql69ulOxnzVrlj744AMdPHjQ6oj4D0tKStKSJUsUEREhm82mkiVL6qWXXpKrq6vV0Yy0evVqDRgwQCNGjFDFihUl/TPh63vvvaeBAwfKx8dHHTt2VKVKlTR16lSL0wJIa3/99ZeSk5Mz1CouPGNvsLp162rNmjUpZsI+fPiwqlWrpt9//92iZGaLjIy0OkKGsW3bNpUvX97xwfNG+bwhISFB3333Hc+Gp8Jrr70mNzc3/fjjj8qbNy+zkKehjh07qlu3bpo2bZpsNpvOnDmjLVu2KDQ0lIkJYamjR4+qbt26+uOPP1S8eHHZ7XYdOXJEgYGBWrp0qYoWLWp1RON069ZNX3zxhSpXruzYVq1aNXl6eurNN9/UgQMHNG7cOLVr187ClADS0tChQ9WqVSsVLVpUuXLlsjpOmuOKvcHq1aunpKQk/fjjj3Jz++ccTUREhF588UU1bdpUn3zyicUJzffvZ5qQeq6uroqKinKcDc2WLZvCw8NVpEgRSdLZs2cVEBDAVeZUyJIli3bu3OmYSAdpa8CAARo7dqzjtnsPDw+Fhobq/ffftziZWXh+OW3VrVtXdrtdX331leM23PPnz6tVq1ZycXHR0qVLLU5oHi8vL23fvl2lS5d22r5v3z5VrFhR8fHxOnnypEqWLOlYkQCA2R5//HEdOHBATz31lFq1aqVmzZopd+7cVsdKMxR7g129elU1atRQ3rx5NX/+fB04cEDVqlVTy5YtNWbMGKvjGW3WrFn68MMPHc80PfbYY+rdu7dat25tcTKzuLi4KDo62lHs/317s/RPsc+bNy8zaafCU089pbFjx7L02kN05coVHTx4UMnJyQoODlbWrFmtjmQcnl9OW1myZNHWrVtVpkwZp+179uxRlSpVdOnSJYuSmeuZZ56Rt7e3Zs2a5fhg/+eff6pNmza6fPmyNmzYoFWrVqlz5846cuSIxWkBpJUDBw7oq6++0rx58/T777+revXqatWqlRo1aqTMmTNbHe+BuNx9CNIrT09P/fjjj/rtt9/UpEkTVatWTW3atKHUP6AxY8borbfeUt26dbVgwQLNnz9ftWvXVqdOnTR27Fir42U43A2ROqNGjVKfPn20bt06nT9/XnFxcU5fuH/t2rXTxYsXlTlzZlWoUEEVK1ZU1qxZdfnyZW7HTaWVK1fqqaee0sqVKxUbG6vY2FitXLlSFStW1I8//qgNGzbo/PnzCg0NtTqqETw8PHTx4sUU2y9dupRijWvcm6lTpyoyMlL58+dXsWLFFBQUpPz58+vEiRP68ssvJf1zfAcOHGhxUgBpqVSpUgoLC9Px48e1du1aFS5cWN27d5e/v7/V0R4YV+wNc6sP7tHR0apevbrq16+vDz74wLE9W7ZsjzJahlG4cGENHTo0xXqrM2fO1JAhQ3gGPxXu5Yo9t+Knzo2lAm8+IcLkeQ/u5kdHbvjrr7/k7++v69evW5TMPKVLl07x/LIkbdq0yfH88qpVq9SuXTudOnXKopTmaNOmjXbt2qWpU6c6Jnr79ddf1aFDB5UvX14zZsywNqCh7Ha7fv75Zx05ckR2u10lSpRQjRo1UizJCiBjCg8P15w5czRv3jydP39e8fHxVkd6IEyeZ5js2bPf8gqn3W7XpEmTNHnyZD7gP6CoqKgUH0YlqXLlyoqKirIgkdkOHjzoWP/bbrfr0KFDjttG//rrLyujGWnt2rVWR8hw4uLiZLfbZbfbdfHiRacJSZOSkrRs2bIMNWvuo3Ds2LFbnlzOli2bY2WRoKAg/g64R+PHj1fbtm0VEhLiWIL1+vXratiwIfPpPACbzabatWvrhRdekIeHB3eQAf8BkZGRmjt3rr766isdOXJEzz33nIYMGaImTZpYHe2BUewNw4f6h69YsWJasGCB3n33Xaft8+fPV1BQkEWpzFWtWjWn52zr168vyflZW9y7559/3uoIGc6NE6Y2m02PPfZYiv02m01Dhw61IJm5ypcvr969e6d4frlPnz566qmnJP2zdGP+/PmtjGmM7Nmz67vvvtPRo0cVEREhu92u4OBglrV9AMnJyRoxYoQmTZqks2fP6siRIypSpIgGDhyoQoUKZYg1rQE4CwkJ0bZt21SmTBm9/vrratGihfLly2d1rDRDsTcMH+ofvqFDh6pZs2basGGDqlSpIpvNpo0bN2r16tVasGCB1fGMwmMLaWf06NHq0qWLvLy8JEkbNmxQpUqV5OHhIUm6ePGi+vbtq88++8zKmEZau3at7Ha7XnzxRX3zzTeOWcclyd3dXQULFlRAQICFCc0zdepUvfTSS8qfP78CAwNls9l06tQpFSlSRN99950knl++F8nJyfr444+1ZMkSXbt2TdWrV9egQYNSLHOL1Bs+fLhmzpyp0aNHq0OHDo7tZcqU0dixYyn2QAZUtWpVffnllypVqpTVUR4KnrE33IULF7Rt2zadO3cuxcziNz8jjnu3c+dOjR071unKSK9evVS2bFmroxklPDxcTz75pNUxMgSWDnz4Tp48qcDAQJ6vTSM8v/zgRo4cqffee0/VqlWTl5eXfv75Z7Vp00ZffPGF1dGMV6xYMU2ePFnVqlVzmv/l0KFDCgkJUUxMjNURASBVKPYG++GHH9SyZUtdvnxZ3t7eTrc022w2/f333xamA/6Z6K1s2bJ644031KJFC/n4+FgdyVhMRPhoXLhwQVOnTlVERIRsNpuCg4PVrl07/tuFJYoXL65u3bqpc+fOkqTly5erUaNGio+P5zGmB+Tl5aVDhw6pYMGCTn+fHjx4UBUrVmQJQSADSkpK0owZM7R69epbXhRds2aNRcnSBrfiG6xXr15q166dwsLCjF93Mb1JSkrS4sWLHR/uS5YsqZdeeklubvyRSY1NmzZp2rRp6tevn3r16qXGjRurffv2qlq1qtXRgBR27NihWrVqycvLSxUrVpTdbteYMWM0YsQIrVixQuXKlbM6olFWr1592w9P06ZNsyiVWU6ePOmYl0SSatWqJbvdrjNnzmSo50KtUKpUKf3yyy8qWLCg0/aFCxdydx6QQXXr1k0zZsxQvXr1VLp06Qx3gpSWYrA//vhDXbt2pdSnsf379+ull15SdHS0ihcvLkk6cuSIcufOre+//15lypSxOKE5QkJCFBISovHjx2vBggWaPn26qlevrkKFCqldu3Zq27Ytk2ch3ejRo4caNmyoKVOmOE7iXb9+XW+88Ya6d++uDRs2WJzQHEOHDtWwYcNUoUIF5c2bN8N9eHpUEhMTHfNqSP/cjefu7q6EhAQLU2UMgwcPVuvWrfXHH38oOTlZ3377rQ4fPqxZs2bpxx9/tDoegIdg3rx5WrBggerWrWt1lIeCW/EN1rhxYzVv3lxNmza1OkqG8vTTTytPnjyaOXOmcuTIIUmKiYnRa6+9pnPnzmnLli0WJzTbsWPHNH36dM2aNUtRUVGqUaOGli1bZnWsdM/FxUXDhw9X1qxZJUl9+/ZV7969lStXLkn/TJ43aNAgbsV/AF5eXtq9e7dKlCjhtP3gwYOqUKGCrly5YlEy8+TNm1ejR49W69atrY5iNBcXF7355ptOJ/A//fRTtWrVyunxkDFjxlgRz3g///yzwsLCtHPnTiUnJ6tcuXIaNGiQatasaXU0AA9BQECA1q1bd8sVcDICir3Bpk6dqmHDhun1119XmTJlHGvb3tCwYUOLkpnNy8tLO3bsSDFj5v79+/XUU08pPj7eomQZx6VLl/TVV1/p3Xff1YULFyij96BQoUL3dNWTlQjun5+fn2bPnp3iQ/2NCcvOnj1rUTLz5MyZU9u2bVPRokWtjmK0F1544a5/7m02m/HPhQLAo/Dxxx/r+PHjmjhxYoa8k4xb8Q12Y3mWYcOGpdhns9koS/epePHiOnv2bIpif+7cOdYMfkDr16/XtGnT9M0338jV1VVNmzZlSaF7dOLECasjZHjNmjVT+/bt9dFHH6ly5cqOpS579+6tV1991ep4RnnjjTc0d+5clrN7QOvWrbM6AgBkGBs3btTatWv1008/qVSpUikuin777bcWJUsbFHuD3TwZEdJGWFiYunbtqiFDhujpp5+WJG3dulXDhg3TqFGjFBcX5xibLVs2q2Ia4/Tp05oxY4ZmzJihyMhIVa5cWRMmTFDTpk2VJUsWq+MBDh999JFcXFzUpk0bXb9+XZKUKVMmvfXWW/rggw8sTmeWq1ev6osvvtCqVav0+OOPp/jwxK3jsErhwoXv6S6IY8eOPaJEAB6V7Nmz6+WXX7Y6xkPDrfjATf69xvKNf/xv/DH592vuiri7GjVqaO3atcqdO7fatGmjdu3aOSYkBNKLK1euqHfv3lqyZImuXbumqlWr6p133pGPj4+KFSvGBKX34U4rX3DrOKz0ySef3HbfiRMnNHnyZCUkJPDvOwDjcMXeYLe6Bf/fBg0a9IiSZCxr1661OkKG4eXlpW+++Ub169eXq6ur1XGAWxo8eLBmzJihli1bysvLS3PnzlVycrIWLlxodTRj8fco0qtu3bql2Pb333/r/fff1+eff65KlSpp1KhRFiQD8Kj8+eefOnz4sGw2mx577DHlzp3b6khpgiv2Brt5ndVr164pMjJSbm5uKlq0qHbt2mVRMgAwR9GiRTVixAg1b95ckrRt2zZVqVJFV69e5YRUGvj9999ls9lYdx3pTnx8vMaMGaMPP/xQhQoVUlhYWIZdBguAdPnyZXXp0kWzZs1yPNLs6uqqNm3aaMKECcbfoUexz2Di4uL02muv6eWXX2aZofu0fPlyZc2aVc8884ykf5YWmjJlioKDg/Xpp586lsDD3bVr1+6uY2w2m6ZOnfoI0gC35u7ursjISKfi6eXlpSNHjigwMNDCZOZKTk7W8OHD9fHHH+vSpUuSJG9vb/Xq1UsDBgxweuQJeNSSkpI0ZcoUDR06VJ6enho2bJhatWqVIWfJBvD/dezYUatWrdLEiRNVpUoVSf9MqNe1a1fVqFFDn3/+ucUJHwzFPgPav3+/6tevzyza96lMmTIaNWqU6tatq3379qlChQrq1auX1qxZo5IlS2r69OlWRzTGnSYoSUpK0qpVq3iWMZVcXV0VFRWlPHnyOG0/f/688uTJw7G8D66uroqOjna6Fc/b21t79+5V4cKFLUxmrv79+2vq1KkaOnSoqlSpIrvdrk2bNmnIkCHq0KGDRowYYXVEo3DCOe0sWLBA7733nmJjY/Xuu+/qrbfekru7u9WxADwCuXLl0qJFi/TCCy84bV+7dq2aNm2qP//805pgaYRinwFt3LhRDRo0UExMjNVRjJQ1a1bt379fhQoV0pAhQ7R//34tWrRIu3btUt26dRUdHW11RON99913evfdd3XmzBn17dtX/fr1szqSMVxcXBQdHZ2i2J85c0ZFixZVfHy8RcnM5eLiojp16sjDw8Ox7YcfftCLL77otHKD6cvgPEoBAQGaNGmSGjZs6LT9u+++U+fOnfXHH39YlMxMN59wfuqpp9SzZ09OON8HFxcXeXl56dVXX73jyjas3ABkPJkzZ9bOnTtVsmRJp+0HDhxQxYoVdfnyZYuSpQ0mzzPY+PHjnV7b7XZFRUVp9uzZql27tkWpzOfu7q4rV65IklatWqU2bdpIknx9fZ2WukPqbdq0SX379tXu3bv1zjvvqF+/flxpukc3/rzbbDZ9+eWXypo1q2NfUlKSNmzYoBIlSlgVz2ht27ZNsa1Vq1YWJMk4/v7771v+91iiRAn9/fffFiQyW2RkpIKDgyXJMSFpWFiY44Qz7t1zzz131+XsuCUfyJhCQkI0ePBgzZo1S56enpL+mWtj6NChCgkJsTjdg6PYG2zs2LFOr11cXJQ7d261bdtW/fv3tyiV+Z555hn17NlTVapU0bZt2zR//nxJ0pEjR5Q/f36L05npwIED6tevn5YvX642bdpo3rx5HMtUuvHn3W63a9KkSU6Turm7u6tQoUKaNGmSVfGMxtXOtPfEE09o4sSJKU5AT5w4UU888YRFqczFCee0s27dOqsjALDIuHHjVKdOHeXPn19PPPGEbDabwsPD5eHhoRUrVlgd74FxKz5wk1OnTqlz5846ffq0unbtqvbt20uSevTooaSkpBQfVHF7p0+f1qBBgzRnzhzHFaabb39C6lStWlXffvstdzogXVu/fr3q1aunAgUKKCQkRDabTZs3b9bp06e1bNkyPfvss1ZHNErDhg2VmJioKlWq6P3333dM9rhixQq98847OnLkiNURAcAI8fHxmjNnjg4dOiS73a7g4GDHcremo9gbqHHjxncd4+bmJn9/f9WoUUMNGjR4BKmAlDJnziybzaYuXbqocuXKtx1383O4uHdJSUnat2+fChYsSNlHunLmzBl9+umnTh+eOnfurICAAKujGYcTzgDw4EaOHCk/P78UqzZNmzZNf/75p/r27WtRsrRBsTfQ66+/ftcxycnJOnfunNavX6/Q0FANGzbsESTLOI4dO6bp06fr2LFj+uSTT5QnTx4tX75cgYGBKlWqlNXxjHEvS1rZbDZmck+F7t27q0yZMmrfvr2SkpL03HPPacuWLcqcObN+/PHHFDO9AunJ6dOnNXjwYE2bNs3qKACA/5hChQpp7ty5KS42/frrr2revLkiIyMtSpY2KPYZ3NKlS/XWW2/p1KlTVkcxxvr161WnTh1VqVJFGzZsUEREhIoUKaLRo0dr27ZtWrRokdUR8R+WL18+fffdd6pQoYKWLFmit99+W2vXrtWsWbO0du1abdq0yeqIwG3t2bNH5cqV42ReKu3atUuZMmVSmTJlJP2zusD06dMVHBysIUOGsFwbANwDT09PRUREpFjK9vjx4woODtbVq1ctSpY27n45DUarUqWKKlSoYHUMo/Tr10/Dhw/XypUrnT4sVa1aVVu2bLEwGfDPevX+/v6SpGXLlqlJkyZ67LHH1L59e+3bt8/idAAeho4dOzqeoz9+/LiaN2+uzJkza+HCherTp4/F6QDADIGBgbe8ALJp06YM8ZgYxT6Dy549O2svp9K+ffv08ssvp9ieO3dunT9/3oJE5lu4cKEaN26s0qVLq0yZMmrcuDF3PtwnPz8/HTx4UElJSVq+fLmqV68uSbpy5YrTTPkAMo4jR47oySeflPTP36fPPfec5s6dqxkzZuibb76xNpyhli9fro0bNzpef/rpp3ryySfVokULxcTEWJgMwMPyxhtvqHv37po+fbpOnjypkydPatq0aerRo4c6dOhgdbwHRrEHbpI9e3ZFRUWl2L57927ly5fPgkTmSk5OVrNmzdSsWTMdPHhQxYoVU5EiRXTgwAE1a9ZMzZs3F08Dpc7rr7+upk2bqnTp0rLZbKpRo4akf54PYx17IGOy2+1KTk6W9M9ydzfWrg8MDNRff/1lZTRj9e7d27FU4L59+9SrVy/VrVtXx48fV8+ePS1OB+Bh6NOnj9q3b6/OnTurSJEiKlKkiLp06aKuXbtmiKXCWcceuEmLFi3Ut29fLVy4UDabTcnJydq0aZNCQ0Mdawfj3owbN06rVq3S999/r/r16zvt+/777/X666/rk08+Uffu3a0JaKAhQ4aodOnSOn36tJo0aSIPDw9Jkqurq/r162dxOvzX3W3VlgsXLjyaIBlMhQoVNHz4cFWvXl3r16/X559/LkmKjIyUn5+fxenMFBkZqeDgYEnSN99841iSddeuXY4TJwAyFpvNplGjRmngwIGKiIiQl5eXgoKCHJ+lTMfkecBNrl27ptdee03z5s2T3W6Xm5ubkpKS1KJFC02fPl1ubpwPu1ePP/64unfvnmJZkRumTp2qcePG8Ww4kEHcy6otkjR9+vSHnCRj2bt3r1q2bKlTp06pZ8+eGjx4sCSpS5cuOn/+vObOnWtxQvP4+vpq48aNCg4O1jPPPKM2bdrozTff1IkTJxQcHKwrV65YHREAUoViD9zGsWPHtHv3biUnJ6ts2bIKCgqyOpJxvLy8dPjwYRUoUOCW+0+ePKkSJUooPj7+EScz192Wrhw0aNAjSgLAalevXpWrq6syZcpkdRTjNGzYUImJiapSpYref/99RUZGKl++fFqxYoXeeecdx2SFAGAKLj0Ct1G0aFEVLVrU8frbb7/VkCFDtHfvXgtTmcXLy0sXLly4bbGPi4uTl5fXI05ltsWLFzu9vnbtmiIjI+Xm5qaiRYtS7IEM6sKFC1q0aJGOHTum3r17y9fXVwcPHpSfnx/zv9yHiRMnqnPnzlq0aJE+//xzxzH86aefVLt2bYvTAUDqccUe+JcpU6ZoxYoVypQpk7p166ZKlSppzZo16tWrlw4fPqzWrVtr8uTJVsc0Rr169VSgQAHH86A369Spk06fPq2lS5c+4mQZS1xcnF577TW9/PLLat26tdVxAKSxvXv3qlq1asqePbtOnDihw4cPq0iRIho4cKBOnjypWbNmWR0RAGAxZsUH/s9HH32kt99+W5GRkfruu+/04osvKiwsTE2bNlWjRo106tQpSn0qDRgwQFOnTlXTpk21bds2xcXFKTY2Vlu3blWTJk00bdo0vfvuu1bHNF62bNk0bNgwDRw40OooAB6Cnj176vXXX9dvv/0mT09Px/Y6depow4YNFiYz165du5zmd/nuu+/UqFEjvfvuu0pMTLQwGQDcH4o98H+mTp2qSZMmaceOHVq6dKni4+O1Zs0aHT16VIMHD1auXLmsjmicypUra/78+Vq7dq1CQkKUI0cO+fr6qkqVKlq7dq2+/vprValSxeqYGcKFCxcUGxtrdQwAD8H27dvVsWPHFNvz5cun6OhoCxKZr2PHjo7n6I8fP67mzZsrc+bMWrhwofr06WNxOgBIPZ6xB/7PyZMnVb16dUnSCy+8oEyZMmnEiBHKnj27tcEM9/LLL6tWrVr6+eef9dtvv0mSHnvsMdWsWVOZM2e2OJ15xo8f7/TabrcrKipKs2fP5rlQIIPy9PR0rLn+b4cPH1bu3LktSGS+I0eO6Mknn5QkLVy4UM8995zmzp2rTZs2qXnz5ho3bpyl+QAgtSj2wP+5evWq0y2O7u7ufGB6QGvWrNE777yjrVu36uWXX3baFxsbq1KlSmnSpEl69tlnLUponrFjxzq9dnFxUe7cudW2bVv179/folQAHqaXXnpJw4YN04IFCyT9sxbzqVOn1K9fP73yyisWpzOT3W5XcnKyJGnVqlWqX7++JCkwMFB//fWXldEA4L5Q7IF/+fLLL5U1a1ZJ0vXr1zVjxowUt+B37drVimhGGjdunDp06KBs2bKl2Ofj46OOHTtqzJgxFPtUiIyMtDoCgEfso48+Ut26dZUnTx7Fx8fr+eefV3R0tEJCQjRixAir4xmpQoUKGj58uKpXr67169c7JnmNjIyUn5+fxekAIPWYFR/4P4UKFZLNZrvjGJvNpuPHjz+iROYrWLCgli9frpIlS95y/6FDh1SzZk2dOnXqESczT+PGje86xs3NTf7+/qpRo4YaNGjwCFIBeJTWrFmjXbt2KTk5WeXKlXM8PobU27t3r1q2bKlTp06pZ8+eGjx4sCSpS5cuOn/+vObOnWtxQgBIHYo9gIfG09NT+/fvV7FixW65/+jRoypTpozi4+MfcTLzvP7663cdk5ycrHPnzmn9+vUKDQ3VsGHDHkEyAA/T9evX5enpqfDwcJUuXdrqOBne1atX5erqqkyZMlkdBQBShVvxATw0+fLl0759+25b7Pfu3au8efM+4lRmmj59+j2PXbp0qd566y2KPZABuLm5qWDBgkpKSrI6SoZz4cIFLVq0SMeOHVPv3r3l6+urgwcPys/PT/ny5bM6HgCkCsvdAXho6tatq0GDBunq1asp9sXHx2vw4MGOCYuQdqpUqaIKFSpYHQNAGnnvvffUv39//f3331ZHyTD27t2roKAgjRo1Sh999JEuXLggSVq8eDETkQIwErfiA3hozp49q3LlysnV1VXvvPOOihcvLpvNpoiICH366adKSkrSrl27mKgIAO6gbNmyOnr0qK5du6aCBQsqS5YsTvt37dplUTJzVa9eXeXKldPo0aPl7e2tPXv2qEiRItq8ebNatGihEydOWB0RAFKFW/EBPDR+fn7avHmz3nrrLfXv3183ziPabDbVqlVLn332GaUeAO6iUaNGVkfIcLZv367Jkyen2J4vXz5FR0dbkAgAHgzFHsBDVbBgQS1btkwxMTE6evSo7Ha7goKClCNHDqujAYARbszYjrTj6empuLi4FNsPHz6s3LlzW5AIAB4Mt+IDN3F1dVVUVJTy5MnjtP38+fPKkycPExgBAGC4N998U3/++acWLFggX19f7d27V66urmrUqJGee+45jRs3zuqIAJAqFHvgJi4uLoqOjk5R7M+cOaOiRYuyNBsA4JHKkSOHbDZbiu02m02enp4qVqyYXnvttXtaFhP/iIuLU926dXXgwAFdvHhRAQEBio6OVkhIiJYtW5ZiHgMASO+4FR/4P+PHj5f0zwelL7/8UlmzZnXsS0pK0oYNG1SiRAmr4gEA/qMGDRqkESNGqE6dOqpYsaLsdru2b9+u5cuX6+2331ZkZKTeeustXb9+XR06dLA6rhGyZcumjRs3as2aNdq1a5eSk5NVrlw5Va9e3epoAHBfuGIP/J/ChQtLkk6ePKn8+fPL1dXVsc/d3V2FChXSsGHDVKlSJasiAgD+g1555RXVqFFDnTp1cto+efJkrVixQt98840mTJigL774Qvv27bMopTmuX78uT09PhYeHq3Tp0lbHAYA0QbEHblK1alV9++23TO4GAEgXsmbNqvDwcBUrVsxp+9GjR/Xkk0/q0qVLOnbsmB5//HFdvnzZopRmKVq0qL799ls98cQTVkcBgDThYnUAIL1Zu3ato9Tb7XZx7gsAYCVfX1/98MMPKbb/8MMP8vX1lSRdvnxZ3t7ejzqasd577z31799ff//9t9VRACBN8Iw9cAuzZs3Shx9+qN9++02S9Nhjj6l3795q3bq1xckAAP81AwcO1FtvvaW1a9eqYsWKstls2rZtm5YtW6ZJkyZJklauXKnnn3/e4qTmGD9+vI4ePaqAgAAVLFgwxWR5u3btsigZANwfij1wkzFjxmjgwIF65513VKVKFdntdm3atEmdOnXSX3/9pR49elgdEQDwH9KhQwcFBwdr4sSJ+vbbb2W321WiRAmtX79elStXliT16tXL4pRmadSokdURACBN8Yw9cJPChQtr6NChatOmjdP2mTNnasiQIYqMjLQoGQAAAACkxBV74CZRUVGOKyD/VrlyZUVFRVmQCADwX5eUlKQlS5YoIiJCNptNwcHBatiwodMKLgCA/y6KPXCTYsWKacGCBXr33Xedts+fP19BQUEWpQIA/FcdPXpUdevW1R9//KHixYvLbrfryJEjCgwM1NKlS1W0aFGrIxonR44cstlsKbbbbDZ5enqqWLFieu211/T6669bkA4AUo9b8YGbfPPNN2rWrJmqV6+uKlWqyGazaePGjVq9erUWLFigl19+2eqIAID/kLp168put+urr75yzIJ//vx5tWrVSi4uLlq6dKnFCc0zduxYjRgxQnXq1FHFihVlt9u1fft2LV++XD169FBkZKRmz56tCRMmqEOHDlbHBYC7otgDt7Bz506NHTtWERERstvtCg4OVq9evVS2bFmrowEA/mOyZMmirVu3qkyZMk7b9+zZoypVqujSpUsWJTPXK6+8oho1aqhTp05O2ydPnqwVK1bom2++0YQJE/TFF19o3759FqUEgHtHsQcAAEjHfH199eOPP6aY/2XTpk1q0KABa7Hfh6xZsyo8PFzFihVz2n706FE9+eSTunTpko4dO6bHH39cly9ftiglANw7F6sDAAAA4Pbq16+vN998U7/++qvsdrvsdru2bt2qTp06qWHDhlbHM5Kvr69++OGHFNt/+OEHx+MOly9flre396OOBgD3hcnzgP/j4uJyy4l0/s1ms+n69euPKBEAANL48ePVtm1bhYSEKFOmTJKk69evq2HDhvrkk08sTmemgQMH6q233tLatWtVsWJF2Ww2bdu2TcuWLdOkSZMkSStXrtTzzz9vcVIAuDfcig/8n+++++62+zZv3qwJEybIbrcrPj7+EaYCAPyX2e12nTp1Srlz59aZM2ec5n65+TZypM6mTZs0ceJEHT58WHa7XSVKlFCXLl1uueQtAKR3FHvgDg4dOqT+/fvrhx9+UMuWLfX++++rQIECVscCAPxHJCcny9PTUwcOHGDJVQDAbXErPnALZ86c0eDBgzVz5kzVqlVL4eHhKl26tNWxAAD/MS4uLgoKCtL58+cp9mksKSlJS5YsUUREhGw2m4KDg9WwYUO5urpaHQ0AUo1iD/xLbGyswsLCNGHCBD355JNavXq1nn32WatjAQD+w0aPHq3evXvr888/5yRzGjl69Kjq1q2rP/74Q8WLF5fdbteRI0cUGBiopUuXqmjRolZHBIBU4VZ84P+MHj1ao0aNkr+/v8LCwvTSSy9ZHQkAAOXIkUNXrlzR9evX5e7uLi8vL6f9LHeXenXr1pXdbtdXX33lmAX//PnzatWqlVxcXLR06VKLEwJA6lDsgf/j4uIiLy8vVa9e/Y634X377bePMBUA4L9uxowZd1y1pW3bto8wTcaQJUsWbd26VWXKlHHavmfPHlWpUkWXLl2yKBkA3B9uxQf+T5s2be663B0AAI/aq6++quvXrytLlixWR8kwPDw8dPHixRTbL126JHd3dwsSAcCD4Yo9AABAOvTXX3+pbdu2WrFihZKTk1WpUiXNmTNHRYoUsTqa8dq0aaNdu3Zp6tSpqlixoiTp119/VYcOHVS+fHnNmDHD2oAAkEoUewAAgHSoQ4cO+uGHH9S1a1d5enpq0qRJKliwoFauXGl1NONduHBBbdu21Q8//KBMmTJJkq5fv66GDRtqxowZ8vHxsTghAKQOxR4AAOD/tXd3IVHsDxjHn7HVzLbUQnKhVLIiZdMUMzDILELQpBdvIpC8SLuJIKjAizKloIS0oBfxogxCiMjCiCDdiIwMgzIhlKDMpCx7j158a/dcnD8Le/zX8ag1O+33czfzm5l9dq98/M1vxg/FxMSourpaOTk5kqTOzk45nU59+/bNW0bx33k8Hj179kxRUVF68eKFOjo65PF4lJiYqHnz5pkdDwDGhGIPAADgh2w2m3p6euRwOLz7wsLC1NHRodjYWBOTWZvb7VZoaKgePnyo+fPnmx0HACZEkNkBAAAAMJLH45HN5vucY5vNJrfbbVKiP0NQUJDmz5+vt2/fmh0FACYMM/YAAAB+KCgoSE6n06fct7e3a+HChT5Pbr93754Z8SztypUrOnjwoE6ePCmn02l2HAAYN4o9AACAHyorKxvVcaWlpb84yZ8nMjJSX79+1fDwsEJCQjRlyhSf8Xfv3pmUDADGhmIPAACAgFJbWyvDMH44vnnz5t+YBgDGj2IPAACAgDIwMKDh4WFNnTrV7CgAMCF4eB4AAAACwps3b5Sbmyu73a7p06crIyNDT548MTsWAIwbM/YAAAAICEVFRbp8+bK2b9+u0NBQVVdXKzY2Vo2NjWZHA4BxodgDAAAgIMTExKi6ulo5OTmSpM7OTjmdTn379k3BwcEmpwOAsaPYAwAAICDYbDb19PTI4XB494WFhamjo0OxsbEmJgOA8bH9+yEAAAAwk8vlksvlUl9fn9xut8/YqVOnTEplPR6PRzab75+/NpttxG8KAFZDsQcAAPBjZWVlKi8vV1pamhwOx09f04af83g8WrVqlU+5//r1q/Ly8hQSEuLdd+/ePTPiAcCYcSs+AACAH3M4HKqoqFBBQYHZUSyvrKxsVMeVlpb+4iQAMLEo9gAAAH5s5syZam1tVXx8vNlRAAB+ivfYAwAA+LEtW7aorq7O7BgAAD/GGnsAAAA/1t/fr5qaGjU1NSkpKWnEa9kqKytNSgYA8Bfcig8AAODHsrKyfjhmGIauX7/+G9MAAPwRxR4AAAAAAAtjjT0AAAAAABbGGnsAAAA/tGHDhlEdV19f/4uT/JlcLpdcLpf6+vrkdrt9xk6dOmVSKgAYG4o9AACAHwoPDzc7wh+rrKxM5eXlSktLk8PhkGEYZkcCgHFhjT0AAAACisPhUEVFhQoKCsyOAgATgjX2AAAACCiDg4PKyMgwOwYATBiKPQAAAALKli1bVFdXZ3YMAJgwrLEHAABAQOnv71dNTY2ampqUlJSk4OBgn/HKykqTkgHA2LDGHgAAAAElKyvrh2OGYej69eu/MQ0AjB/FHgAAAAAAC2ONPQAAAAAAFsYaewAAAASEDRs2jOq4+vr6X5wEACYWxR4AAAABITw83OwIAPBLsMYeAAAAAAALY409AAAAAAAWRrEHAAAAAMDCKPYAAAAAAFgYxR4AAAAAAAuj2AMAAAAAYGEUewAAAAAALIxiDwAARujr69PWrVsVExOjyZMnKzo6WtnZ2WppaZEkGYahS5cu/efrxsXF6ciRIxMbFgCAAGczOwAAAPA/+fn5Ghoa0pkzZzR37ly9evVKLpdL7969MzsaAAD4B2bsAQCAjw8fPujWrVs6dOiQsrKyFBsbq/T0dJWUlCg3N1dxcXGSpPXr18swDO/248ePtXbtWs2aNUt2u11LlixRU1OT97orVqxQd3e3duzYIcMwZBiGJGnfvn1avHixT4YjR454rytJN27cUHp6uqZOnaqIiAgtW7ZM3d3dv/JnAADAMij2AADAh91ul91u16VLlzQwMDBi/O7du5Kk06dPq7e317v9+fNn5eTkqKmpSffv31d2drby8vL07NkzSVJ9fb1mz56t8vJy9fb2qre3d1R5hoeHtW7dOmVmZqq9vV0tLS0qLi72/mMAAIBAx634AADAh81mU21trYqKilRdXa3U1FRlZmZq48aNSkpKUlRUlCQpIiJC0dHR3vOSk5OVnJzs3d6/f78uXryohoYGbdu2TTNmzNCkSZM0bdo0n/P+zadPn/Tx40etWbNG8fHxkqSEhIQJ+rYAAFgfM/YAAGCE/Px8vXjxQg0NDcrOztaNGzeUmpqq2traH57z5csX7d69W4mJiYqIiJDdbldnZ6d3xn6sZsyYocLCQu8dAEePHh31bD8AAIGAYg8AAP6v0NBQrV69Wnv37tXt27dVWFio0tLSHx6/a9cuXbhwQQcOHFBzc7Pa2tq0aNEiDQ4O/vRzgoKC5PF4fPYNDQ35bJ8+fVotLS3KyMjQuXPntGDBAt25c2fsXw4AgD8IxR4AAIxKYmKivnz5IkkKDg7W9+/ffcabm5tVWFio9evXa9GiRYqOjtbTp099jgkJCRlxXlRUlF6+fOlT7tva2kZ8fkpKikpKSnT79m05nU7V1dVNzBcDAMDiKPYAAMDH27dvtXLlSp09e1bt7e3q6urS+fPnVVFRobVr10r6+330LpdLL1++1Pv37yVJ8+bNU319vdra2vTgwQNt2rRJbrfb59pxcXG6efOmnj9/rjdv3kj6+2n5r1+/VkVFhR4/fqzjx4/r6tWr3nO6urpUUlKilpYWdXd369q1a3r06BHr7AEA+B+KPQAA8GG327V06VJVVVVp+fLlcjqd2rNnj4qKinTs2DFJ0uHDh9XY2Kg5c+YoJSVFklRVVaXIyEhlZGQoLy9P2dnZSk1N9bl2eXm5nj59qvj4eO9D+BISEnTixAkdP35cycnJam1t1c6dO73nhIWFqbOzU/n5+VqwYIGKi4u1bds2bd269Tf9IgAA+DfD889FbQAAAAAAwDKYsQcAAAAAwMIo9gAAAAAAWBjFHgAAAAAAC6PYAwAAAABgYRR7AAAAAAAsjGIPAAAAAICFUewBAAAAALAwij0AAAAAABZGsQcAAAAAwMIo9gAAAAAAWBjFHgAAAAAAC/sLJGFGljRrbMIAAAAASUVORK5CYII=",
      "text/plain": [
       "<Figure size 1200x700 with 1 Axes>"
      ]
     },
     "metadata": {},
     "output_type": "display_data"
    },
    {
     "data": {
      "text/plain": [
       "Status\n",
       "Junk Lead               1536\n",
       "Not Responding          1129\n",
       "CONVERTED                834\n",
       "Just Enquiry             760\n",
       "Potential                708\n",
       "Long Term                646\n",
       "In Progress Positive     643\n",
       "In Progress Negative     626\n",
       "LOST                     440\n",
       "Open                      82\n",
       "converted                 18\n",
       "Name: count, dtype: int64"
      ]
     },
     "execution_count": 42,
     "metadata": {},
     "output_type": "execute_result"
    }
   ],
   "source": [
    "plt.figure(figsize=(12,7))\n",
    "plt.xticks(rotation=90)\n",
    "order=df['Status'].value_counts(ascending=False).index\n",
    "sns.countplot(data=df, x='Status', palette='hls',order=order)\n",
    "plt.show()\n",
    "df['Status'].value_counts(ascending=False)"
   ]
  },
  {
   "cell_type": "markdown",
   "id": "406041fe-c154-4596-9894-e3924e7b0c23",
   "metadata": {},
   "source": [
    "- Large number of junk Lead,Not Respoding leads shows that low potential number is more."
   ]
  },
  {
   "cell_type": "markdown",
   "id": "2a81a059-9dc9-44cc-98b7-152fcaf6841f",
   "metadata": {
    "jp-MarkdownHeadingCollapsed": true
   },
   "source": [
    "### 4. DATA PREPROCESSING & FEATURE ENGINNERING."
   ]
  },
  {
   "cell_type": "markdown",
   "id": "16b6f157-be03-4c27-ab03-ae6b5b37a8cd",
   "metadata": {},
   "source": [
    "#### 1.Handling missing values."
   ]
  },
  {
   "cell_type": "code",
   "execution_count": 46,
   "id": "46e77b68-b08c-445f-8f3d-92dfea2793bc",
   "metadata": {},
   "outputs": [],
   "source": [
    "# Replace blank spaces to nan \n",
    "df.replace('',np.nan,inplace=True)"
   ]
  },
  {
   "cell_type": "code",
   "execution_count": 47,
   "id": "d5b0afa1-a81d-47fc-876b-1980e0e97512",
   "metadata": {},
   "outputs": [
    {
     "data": {
      "text/plain": [
       "Created             0\n",
       "Product_ID         58\n",
       "Source             17\n",
       "Mobile           1810\n",
       "EMAIL               0\n",
       "Sales_Agent        23\n",
       "Location           58\n",
       "Delivery_Mode       0\n",
       "Status              0\n",
       "dtype: int64"
      ]
     },
     "execution_count": 47,
     "metadata": {},
     "output_type": "execute_result"
    }
   ],
   "source": [
    "df.isnull().sum()"
   ]
  },
  {
   "cell_type": "markdown",
   "id": "1d46dbba-5569-4ab8-9aa9-4e5de45fa4d8",
   "metadata": {},
   "source": [
    "- 5 feature contain missing value with including unique feature.\n",
    "- No need handle unique feature missing value.\n",
    "- Remaining feature missing value impute with mode."
   ]
  },
  {
   "cell_type": "code",
   "execution_count": 49,
   "id": "14e13273-8e12-4ad8-8af6-d10e01ce0fb8",
   "metadata": {},
   "outputs": [],
   "source": [
    "for column in df.columns:\n",
    "    mode_value = df[column].mode()[0]\n",
    "    df[column].fillna(mode_value, inplace=True)"
   ]
  },
  {
   "cell_type": "code",
   "execution_count": 50,
   "id": "9f6c66a1-cd52-438e-9d38-f9fb45f4184a",
   "metadata": {},
   "outputs": [
    {
     "data": {
      "text/plain": [
       "Created          0\n",
       "Product_ID       0\n",
       "Source           0\n",
       "Mobile           0\n",
       "EMAIL            0\n",
       "Sales_Agent      0\n",
       "Location         0\n",
       "Delivery_Mode    0\n",
       "Status           0\n",
       "dtype: int64"
      ]
     },
     "execution_count": 50,
     "metadata": {},
     "output_type": "execute_result"
    }
   ],
   "source": [
    "df.isnull().sum()"
   ]
  },
  {
   "cell_type": "markdown",
   "id": "10ada9f2-73f2-441c-949c-b680c6f3def8",
   "metadata": {},
   "source": [
    "#### 2.Features is contain lots of different label so we compresses and merged the label."
   ]
  },
  {
   "cell_type": "code",
   "execution_count": 52,
   "id": "f5a631b3-2fad-4add-a508-1a47bfac6bb1",
   "metadata": {},
   "outputs": [
    {
     "data": {
      "text/html": [
       "<div>\n",
       "<style scoped>\n",
       "    .dataframe tbody tr th:only-of-type {\n",
       "        vertical-align: middle;\n",
       "    }\n",
       "\n",
       "    .dataframe tbody tr th {\n",
       "        vertical-align: top;\n",
       "    }\n",
       "\n",
       "    .dataframe thead th {\n",
       "        text-align: right;\n",
       "    }\n",
       "</style>\n",
       "<table border=\"1\" class=\"dataframe\">\n",
       "  <thead>\n",
       "    <tr style=\"text-align: right;\">\n",
       "      <th></th>\n",
       "      <th>Created</th>\n",
       "      <th>Product_ID</th>\n",
       "      <th>Source</th>\n",
       "      <th>Mobile</th>\n",
       "      <th>EMAIL</th>\n",
       "      <th>Sales_Agent</th>\n",
       "      <th>Location</th>\n",
       "      <th>Delivery_Mode</th>\n",
       "      <th>Status</th>\n",
       "    </tr>\n",
       "  </thead>\n",
       "  <tbody>\n",
       "    <tr>\n",
       "      <th>0</th>\n",
       "      <td>14-11-2018 10:05</td>\n",
       "      <td>18.0</td>\n",
       "      <td>Website</td>\n",
       "      <td>984XXXXXXX</td>\n",
       "      <td>aXXXXXXX@gmail.com</td>\n",
       "      <td>Sales-Agent-11</td>\n",
       "      <td>Other Locations</td>\n",
       "      <td>Mode-5</td>\n",
       "      <td>Open</td>\n",
       "    </tr>\n",
       "    <tr>\n",
       "      <th>1</th>\n",
       "      <td>14-11-2018 09:22</td>\n",
       "      <td>18.0</td>\n",
       "      <td>Website</td>\n",
       "      <td>XXXXXXX</td>\n",
       "      <td>#VALUE!</td>\n",
       "      <td>Sales-Agent-10</td>\n",
       "      <td>Other Locations</td>\n",
       "      <td>Mode-5</td>\n",
       "      <td>Open</td>\n",
       "    </tr>\n",
       "    <tr>\n",
       "      <th>2</th>\n",
       "      <td>14-11-2018 09:21</td>\n",
       "      <td>18.0</td>\n",
       "      <td>Website</td>\n",
       "      <td>XXXXXXX</td>\n",
       "      <td>dXXXXXXX@yahoo.com</td>\n",
       "      <td>Sales-Agent-10</td>\n",
       "      <td>Other Locations</td>\n",
       "      <td>Mode-5</td>\n",
       "      <td>Open</td>\n",
       "    </tr>\n",
       "    <tr>\n",
       "      <th>3</th>\n",
       "      <td>14-11-2018 08:46</td>\n",
       "      <td>18.0</td>\n",
       "      <td>Website</td>\n",
       "      <td>XXXXXXX</td>\n",
       "      <td>wXXXXXXX@gmail.com</td>\n",
       "      <td>Sales-Agent-10</td>\n",
       "      <td>Other Locations</td>\n",
       "      <td>Mode-5</td>\n",
       "      <td>Open</td>\n",
       "    </tr>\n",
       "    <tr>\n",
       "      <th>4</th>\n",
       "      <td>14-11-2018 07:34</td>\n",
       "      <td>18.0</td>\n",
       "      <td>Website</td>\n",
       "      <td>XXXXXXX</td>\n",
       "      <td>cXXXXXXX@gmail.com</td>\n",
       "      <td>Sales-Agent-10</td>\n",
       "      <td>Other Locations</td>\n",
       "      <td>Mode-5</td>\n",
       "      <td>Open</td>\n",
       "    </tr>\n",
       "    <tr>\n",
       "      <th>...</th>\n",
       "      <td>...</td>\n",
       "      <td>...</td>\n",
       "      <td>...</td>\n",
       "      <td>...</td>\n",
       "      <td>...</td>\n",
       "      <td>...</td>\n",
       "      <td>...</td>\n",
       "      <td>...</td>\n",
       "      <td>...</td>\n",
       "    </tr>\n",
       "    <tr>\n",
       "      <th>7417</th>\n",
       "      <td>28-04-2018 09:45</td>\n",
       "      <td>9.0</td>\n",
       "      <td>Call</td>\n",
       "      <td>XXXXXXX</td>\n",
       "      <td>aXXXXXXX@gmail.com</td>\n",
       "      <td>Sales-Agent-6</td>\n",
       "      <td>Mumbai</td>\n",
       "      <td>Mode-4</td>\n",
       "      <td>LOST</td>\n",
       "    </tr>\n",
       "    <tr>\n",
       "      <th>7418</th>\n",
       "      <td>28-04-2018 09:43</td>\n",
       "      <td>15.0</td>\n",
       "      <td>Call</td>\n",
       "      <td>XXXXXXX</td>\n",
       "      <td>#VALUE!</td>\n",
       "      <td>Sales-Agent-12</td>\n",
       "      <td>Other Locations</td>\n",
       "      <td>Mode-5</td>\n",
       "      <td>LOST</td>\n",
       "    </tr>\n",
       "    <tr>\n",
       "      <th>7419</th>\n",
       "      <td>28-04-2018 09:20</td>\n",
       "      <td>5.0</td>\n",
       "      <td>Live Chat-Direct</td>\n",
       "      <td>XXXXXXX</td>\n",
       "      <td>sXXXXXXX@gmail.com</td>\n",
       "      <td>Sales-Agent-11</td>\n",
       "      <td>Bangalore</td>\n",
       "      <td>Mode-1</td>\n",
       "      <td>Not Responding</td>\n",
       "    </tr>\n",
       "    <tr>\n",
       "      <th>7420</th>\n",
       "      <td>28-04-2018 08:04</td>\n",
       "      <td>21.0</td>\n",
       "      <td>CRM form</td>\n",
       "      <td>XXXXXXX</td>\n",
       "      <td>YXXXXXXX@gmail.com</td>\n",
       "      <td>Sales-Agent-4</td>\n",
       "      <td>Other Locations</td>\n",
       "      <td>Mode-1</td>\n",
       "      <td>Just Enquiry</td>\n",
       "    </tr>\n",
       "    <tr>\n",
       "      <th>7421</th>\n",
       "      <td>28-04-2018 07:54</td>\n",
       "      <td>25.0</td>\n",
       "      <td>Website</td>\n",
       "      <td>XXXXXXX</td>\n",
       "      <td>cXXXXXXX@gmail.com</td>\n",
       "      <td>Sales-Agent-3</td>\n",
       "      <td>Chennai</td>\n",
       "      <td>Mode-1</td>\n",
       "      <td>CONVERTED</td>\n",
       "    </tr>\n",
       "  </tbody>\n",
       "</table>\n",
       "<p>7422 rows × 9 columns</p>\n",
       "</div>"
      ],
      "text/plain": [
       "               Created  Product_ID            Source      Mobile  \\\n",
       "0     14-11-2018 10:05        18.0           Website  984XXXXXXX   \n",
       "1     14-11-2018 09:22        18.0           Website     XXXXXXX   \n",
       "2     14-11-2018 09:21        18.0           Website     XXXXXXX   \n",
       "3     14-11-2018 08:46        18.0           Website     XXXXXXX   \n",
       "4     14-11-2018 07:34        18.0           Website     XXXXXXX   \n",
       "...                ...         ...               ...         ...   \n",
       "7417  28-04-2018 09:45         9.0              Call     XXXXXXX   \n",
       "7418  28-04-2018 09:43        15.0              Call     XXXXXXX   \n",
       "7419  28-04-2018 09:20         5.0  Live Chat-Direct     XXXXXXX   \n",
       "7420  28-04-2018 08:04        21.0          CRM form     XXXXXXX   \n",
       "7421  28-04-2018 07:54        25.0           Website     XXXXXXX   \n",
       "\n",
       "                   EMAIL     Sales_Agent         Location Delivery_Mode  \\\n",
       "0     aXXXXXXX@gmail.com  Sales-Agent-11  Other Locations        Mode-5   \n",
       "1                #VALUE!  Sales-Agent-10  Other Locations        Mode-5   \n",
       "2     dXXXXXXX@yahoo.com  Sales-Agent-10  Other Locations        Mode-5   \n",
       "3     wXXXXXXX@gmail.com  Sales-Agent-10  Other Locations        Mode-5   \n",
       "4     cXXXXXXX@gmail.com  Sales-Agent-10  Other Locations        Mode-5   \n",
       "...                  ...             ...              ...           ...   \n",
       "7417  aXXXXXXX@gmail.com   Sales-Agent-6           Mumbai        Mode-4   \n",
       "7418             #VALUE!  Sales-Agent-12  Other Locations        Mode-5   \n",
       "7419  sXXXXXXX@gmail.com  Sales-Agent-11        Bangalore        Mode-1   \n",
       "7420  YXXXXXXX@gmail.com   Sales-Agent-4  Other Locations        Mode-1   \n",
       "7421  cXXXXXXX@gmail.com   Sales-Agent-3          Chennai        Mode-1   \n",
       "\n",
       "              Status  \n",
       "0               Open  \n",
       "1               Open  \n",
       "2               Open  \n",
       "3               Open  \n",
       "4               Open  \n",
       "...              ...  \n",
       "7417            LOST  \n",
       "7418            LOST  \n",
       "7419  Not Responding  \n",
       "7420    Just Enquiry  \n",
       "7421       CONVERTED  \n",
       "\n",
       "[7422 rows x 9 columns]"
      ]
     },
     "execution_count": 52,
     "metadata": {},
     "output_type": "execute_result"
    }
   ],
   "source": [
    "df"
   ]
  },
  {
   "cell_type": "markdown",
   "id": "75a29761-4ed1-4393-bdf7-f70bc9390216",
   "metadata": {},
   "source": [
    "#### Product id\n",
    "- In this feature 13 product id has been sold minimum so we can replace into minimum sold product"
   ]
  },
  {
   "cell_type": "code",
   "execution_count": 54,
   "id": "e3d460a8-268e-48c2-83f0-f9c9b6d0ce16",
   "metadata": {},
   "outputs": [
    {
     "data": {
      "text/plain": [
       "Product_ID\n",
       "18.0    1769\n",
       "15.0    1518\n",
       "19.0    1189\n",
       "9.0      992\n",
       "27.0     739\n",
       "5.0      487\n",
       "10.0     168\n",
       "1.0      105\n",
       "20.0     102\n",
       "25.0      90\n",
       "21.0      66\n",
       "2.0       38\n",
       "12.0      36\n",
       "26.0      31\n",
       "14.0      27\n",
       "11.0      12\n",
       "22.0       8\n",
       "3.0        7\n",
       "17.0       7\n",
       "6.0        7\n",
       "8.0        6\n",
       "13.0       5\n",
       "24.0       3\n",
       "16.0       3\n",
       "23.0       2\n",
       "0.0        2\n",
       "28.0       1\n",
       "7.0        1\n",
       "4.0        1\n",
       "Name: count, dtype: int64"
      ]
     },
     "execution_count": 54,
     "metadata": {},
     "output_type": "execute_result"
    }
   ],
   "source": [
    "df['Product_ID'].value_counts()"
   ]
  },
  {
   "cell_type": "code",
   "execution_count": 55,
   "id": "157079af-eb53-449b-ae53-bcb7e17d5461",
   "metadata": {},
   "outputs": [
    {
     "data": {
      "text/plain": [
       "array(['Website', 'Call', 'Live Chat-Google Organic', 'Live Chat-Direct',\n",
       "       'By Recommendation', 'Customer Referral', 'Live Chat-Blog',\n",
       "       'Live Chat -PPC', 'Live Chat-Google Ads',\n",
       "       'Live Chat-Adwords Remarketing', 'E-Mail Message',\n",
       "       'Existing Client', 'Live Chat-CPC', 'Existing Customer',\n",
       "       'Live Chat-Quora', 'US Website', 'Just Dial', 'Campaign', 'Other',\n",
       "       'E-mail Campaign', 'CRM form', 'SMS Campaign', 'Personal Contact',\n",
       "       'Live Chat-Youtube', 'Live Chat-Justdial'], dtype=object)"
      ]
     },
     "execution_count": 55,
     "metadata": {},
     "output_type": "execute_result"
    }
   ],
   "source": [
    "df['Source'].unique()"
   ]
  },
  {
   "cell_type": "code",
   "execution_count": 56,
   "id": "92652cdc-1017-4a64-b57b-558d7e8ec826",
   "metadata": {},
   "outputs": [],
   "source": [
    "df['Product_ID'] = df['Product_ID'].astype(str)\n",
    "df['Product_ID'].replace(['11.0','22.0','3.0','17.0','6.0','8.0','13.0','24.0','16.0','23.0','0.0','28.0','7.0','4.0'],\n",
    "'minimum sold', inplace=True)"
   ]
  },
  {
   "cell_type": "code",
   "execution_count": 57,
   "id": "e222255e-340d-4580-b977-71ff62f316fc",
   "metadata": {},
   "outputs": [
    {
     "data": {
      "text/plain": [
       "Product_ID\n",
       "18.0            1769\n",
       "15.0            1518\n",
       "19.0            1189\n",
       "9.0              992\n",
       "27.0             739\n",
       "5.0              487\n",
       "10.0             168\n",
       "1.0              105\n",
       "20.0             102\n",
       "25.0              90\n",
       "21.0              66\n",
       "minimum sold      65\n",
       "2.0               38\n",
       "12.0              36\n",
       "26.0              31\n",
       "14.0              27\n",
       "Name: count, dtype: int64"
      ]
     },
     "execution_count": 57,
     "metadata": {},
     "output_type": "execute_result"
    }
   ],
   "source": [
    "df['Product_ID'].value_counts()"
   ]
  },
  {
   "cell_type": "markdown",
   "id": "3070f890-5f69-4821-b6c4-0f6e0c0d64cb",
   "metadata": {},
   "source": [
    "#### Source\n",
    "- This feature is contain total 25 label in that synthetic search or inquery of customer in different category\n",
    "- so we make groups and put similar labels in one group "
   ]
  },
  {
   "cell_type": "code",
   "execution_count": 59,
   "id": "99499e66-2064-45fa-b701-00f4fa202a83",
   "metadata": {},
   "outputs": [
    {
     "data": {
      "text/plain": [
       "Source\n",
       "Call                             2564\n",
       "Live Chat-Direct                 1834\n",
       "Website                          1594\n",
       "Live Chat-Google Organic          274\n",
       "Live Chat -PPC                    249\n",
       "Live Chat-Blog                    237\n",
       "Customer Referral                 180\n",
       "US Website                        137\n",
       "Just Dial                          56\n",
       "Existing Client                    51\n",
       "Personal Contact                   50\n",
       "Live Chat-CPC                      50\n",
       "By Recommendation                  32\n",
       "CRM form                           23\n",
       "Existing Customer                  22\n",
       "Live Chat-Google Ads               21\n",
       "Campaign                           19\n",
       "E-mail Campaign                    12\n",
       "Live Chat-Adwords Remarketing       7\n",
       "Live Chat-Quora                     2\n",
       "Other                               2\n",
       "SMS Campaign                        2\n",
       "Live Chat-Youtube                   2\n",
       "E-Mail Message                      1\n",
       "Live Chat-Justdial                  1\n",
       "Name: count, dtype: int64"
      ]
     },
     "execution_count": 59,
     "metadata": {},
     "output_type": "execute_result"
    }
   ],
   "source": [
    "df['Source'].value_counts()"
   ]
  },
  {
   "cell_type": "code",
   "execution_count": 60,
   "id": "0b7286d0-73ff-4615-aeed-753e0f6a12b0",
   "metadata": {},
   "outputs": [
    {
     "data": {
      "text/plain": [
       "array(['Website', 'Call', 'Live Chat-Google Organic', 'Live Chat-Direct',\n",
       "       'By Recommendation', 'Customer Referral', 'Live Chat-Blog',\n",
       "       'Live Chat -PPC', 'Live Chat-Google Ads',\n",
       "       'Live Chat-Adwords Remarketing', 'E-Mail Message',\n",
       "       'Existing Client', 'Live Chat-CPC', 'Existing Customer',\n",
       "       'Live Chat-Quora', 'US Website', 'Just Dial', 'Campaign', 'Other',\n",
       "       'E-mail Campaign', 'CRM form', 'SMS Campaign', 'Personal Contact',\n",
       "       'Live Chat-Youtube', 'Live Chat-Justdial'], dtype=object)"
      ]
     },
     "execution_count": 60,
     "metadata": {},
     "output_type": "execute_result"
    }
   ],
   "source": [
    "df['Source'].unique()"
   ]
  },
  {
   "cell_type": "code",
   "execution_count": 61,
   "id": "b6a9a199-91b3-4302-8a99-f6b778bd9cfa",
   "metadata": {},
   "outputs": [],
   "source": [
    "# 1st group --> Live chat\n",
    "df.Source.replace(['Live Chat-Direct','Live Chat-Google Organic','Live Chat -PPC','Live Chat-Blog','Live Chat-CPC',\n",
    "                    'Live Chat-Google Ads','Live Chat-Adwords Remarketing','Live Chat-Quora','Live Chat-Youtube',\n",
    "                    'Live Chat-Justdial'],'live chat',inplace=True)"
   ]
  },
  {
   "cell_type": "code",
   "execution_count": 62,
   "id": "3c05a49b-135d-47c0-a1e6-324d2043436a",
   "metadata": {},
   "outputs": [],
   "source": [
    "# 2nd group --> new client\n",
    "df.Source.replace(['Existing Client','Personal Contact','CRM form','Existing Customer'],'new client',inplace=True)"
   ]
  },
  {
   "cell_type": "code",
   "execution_count": 63,
   "id": "def04cda-894f-4b35-8531-4ece0ecb0f67",
   "metadata": {},
   "outputs": [],
   "source": [
    "# 3rd group --> website\n",
    "df.Source.replace(['US Website','Just Dial'],'social',inplace=True)"
   ]
  },
  {
   "cell_type": "code",
   "execution_count": 64,
   "id": "76588823-6d92-4059-97b0-8abc57953f3a",
   "metadata": {},
   "outputs": [],
   "source": [
    "# 4th group --> recommendation\n",
    "df.Source.replace(['Customer Referral','By Recommendation'],'recommendation',inplace=True)"
   ]
  },
  {
   "cell_type": "code",
   "execution_count": 65,
   "id": "ef38e3cb-aeee-43ce-8288-a786b43569d1",
   "metadata": {},
   "outputs": [],
   "source": [
    "# 5th group --> campign\n",
    "df.Source.replace(['Campaign','E-mail Campaign','SMS Campaign','E-Mail Message'],'campaign',inplace=True)"
   ]
  },
  {
   "cell_type": "code",
   "execution_count": 66,
   "id": "e91b31c8-1b7c-45e9-902b-265175ba146a",
   "metadata": {},
   "outputs": [
    {
     "data": {
      "text/plain": [
       "Source\n",
       "live chat         2677\n",
       "Call              2564\n",
       "Website           1594\n",
       "recommendation     212\n",
       "social             193\n",
       "new client         146\n",
       "campaign            34\n",
       "Other                2\n",
       "Name: count, dtype: int64"
      ]
     },
     "execution_count": 66,
     "metadata": {},
     "output_type": "execute_result"
    }
   ],
   "source": [
    "df['Source'].value_counts()"
   ]
  },
  {
   "cell_type": "markdown",
   "id": "29aaba97-407a-4cf9-a92c-eca1aef919b2",
   "metadata": {},
   "source": [
    "#### Location\n",
    "- This feature all country city location include so we are merge into different group\n"
   ]
  },
  {
   "cell_type": "code",
   "execution_count": 68,
   "id": "5ef06ee6-8a02-4123-ba26-9d3260cf028e",
   "metadata": {},
   "outputs": [
    {
     "data": {
      "text/plain": [
       "Location\n",
       "Other Locations    2558\n",
       "Bangalore          2084\n",
       "Chennai             909\n",
       "Hyderabad           528\n",
       "Delhi               471\n",
       "Mumbai              402\n",
       "Pune                142\n",
       "UAE                  79\n",
       "Trivandrum           58\n",
       "Kolkata              55\n",
       "USA                  45\n",
       "UK                   41\n",
       "AUSTRALIA            25\n",
       "Singapore            17\n",
       "Malaysia              4\n",
       "EUROPE                3\n",
       "Howrah                1\n",
       "Name: count, dtype: int64"
      ]
     },
     "execution_count": 68,
     "metadata": {},
     "output_type": "execute_result"
    }
   ],
   "source": [
    "df['Location'].value_counts()"
   ]
  },
  {
   "cell_type": "code",
   "execution_count": 69,
   "id": "744f5a51-b12b-4828-bbc1-a67e285729f0",
   "metadata": {},
   "outputs": [
    {
     "data": {
      "text/plain": [
       "array(['Other Locations', 'Bangalore', 'UAE', 'Trivandrum', 'Hyderabad',\n",
       "       'Chennai', 'UK', 'USA', 'Delhi', 'Mumbai', 'Kolkata', 'Singapore',\n",
       "       'Pune', 'AUSTRALIA', 'EUROPE', 'Malaysia', 'Howrah'], dtype=object)"
      ]
     },
     "execution_count": 69,
     "metadata": {},
     "output_type": "execute_result"
    }
   ],
   "source": [
    "df['Location'].unique()"
   ]
  },
  {
   "cell_type": "code",
   "execution_count": 70,
   "id": "8d3af284-0174-4f31-9ab4-5b7ab29efe81",
   "metadata": {},
   "outputs": [],
   "source": [
    "# 1st group --> Other location\n",
    "df.Location.replace(['Trivandrum','Kolkata','Howrah'],'Other Locations',inplace=True)\n",
    "\n",
    "# 2nd group --> asia\n",
    "df.Location.replace(['UAE','Malaysia','Singapore'],'asia',inplace=True)\n",
    "\n",
    "# 3rd group --> west country\n",
    "df.Location.replace(['USA','UK','AUSTRALIA','EUROPE'],'west country',inplace=True)"
   ]
  },
  {
   "cell_type": "code",
   "execution_count": 71,
   "id": "5eaed346-2629-468b-b5e3-e3739c3c7f13",
   "metadata": {},
   "outputs": [
    {
     "data": {
      "text/plain": [
       "Location\n",
       "Other Locations    2672\n",
       "Bangalore          2084\n",
       "Chennai             909\n",
       "Hyderabad           528\n",
       "Delhi               471\n",
       "Mumbai              402\n",
       "Pune                142\n",
       "west country        114\n",
       "asia                100\n",
       "Name: count, dtype: int64"
      ]
     },
     "execution_count": 71,
     "metadata": {},
     "output_type": "execute_result"
    }
   ],
   "source": [
    "df['Location'].value_counts()"
   ]
  },
  {
   "cell_type": "markdown",
   "id": "7f02c892-0dff-4ece-a67e-9a62301d25d1",
   "metadata": {},
   "source": [
    "#### Status"
   ]
  },
  {
   "cell_type": "code",
   "execution_count": 73,
   "id": "1a2528b3-a6d6-40d2-a677-b8036546c9c7",
   "metadata": {},
   "outputs": [
    {
     "data": {
      "text/plain": [
       "Status\n",
       "Junk Lead               1536\n",
       "Not Responding          1129\n",
       "CONVERTED                834\n",
       "Just Enquiry             760\n",
       "Potential                708\n",
       "Long Term                646\n",
       "In Progress Positive     643\n",
       "In Progress Negative     626\n",
       "LOST                     440\n",
       "Open                      82\n",
       "converted                 18\n",
       "Name: count, dtype: int64"
      ]
     },
     "execution_count": 73,
     "metadata": {},
     "output_type": "execute_result"
    }
   ],
   "source": [
    "df['Status'].value_counts()"
   ]
  },
  {
   "cell_type": "code",
   "execution_count": 74,
   "id": "04cbd2fd-1f7e-459c-9fcb-85988615b977",
   "metadata": {},
   "outputs": [
    {
     "data": {
      "text/plain": [
       "array(['Open', 'Potential', 'In Progress Positive', 'Not Responding',\n",
       "       'Just Enquiry', 'Junk Lead', 'CONVERTED', 'In Progress Negative',\n",
       "       'LOST', 'Long Term', 'converted'], dtype=object)"
      ]
     },
     "execution_count": 74,
     "metadata": {},
     "output_type": "execute_result"
    }
   ],
   "source": [
    "df['Status'].unique()"
   ]
  },
  {
   "cell_type": "markdown",
   "id": "059f9053-a20e-481e-9a14-1fce14ce64c8",
   "metadata": {},
   "source": [
    "- This is target veriable here we are seprate the label & make group like high potential, and low potential"
   ]
  },
  {
   "cell_type": "code",
   "execution_count": 76,
   "id": "deaa8d4e-3076-4ad1-8fdd-50457b072531",
   "metadata": {},
   "outputs": [],
   "source": [
    "# 1st group --> low potential\n",
    "df.Status.replace(['Junk Lead','Not Responding','In Progress Positive','Just Enquiry','LOST'],'low potential',inplace=True)\n",
    "# 2nd group --> high potential\n",
    "df.Status.replace(['CONVERTED','Potential','Long Term','In Progress Negative','Open','converted'],'high potential',inplace=True)"
   ]
  },
  {
   "cell_type": "code",
   "execution_count": 77,
   "id": "97e9d414-a2a2-4e0a-81a9-c90650c84f89",
   "metadata": {},
   "outputs": [
    {
     "data": {
      "text/plain": [
       "Status\n",
       "low potential     4508\n",
       "high potential    2914\n",
       "Name: count, dtype: int64"
      ]
     },
     "execution_count": 77,
     "metadata": {},
     "output_type": "execute_result"
    }
   ],
   "source": [
    "df['Status'].value_counts()"
   ]
  },
  {
   "cell_type": "markdown",
   "id": "1fe858ba-c11c-4cea-ab0c-af981db3502d",
   "metadata": {},
   "source": [
    "#### 3.CATEGORICAL DATA CONVERSION."
   ]
  },
  {
   "cell_type": "code",
   "execution_count": 79,
   "id": "68a2fe1a-965b-417c-aa06-095975da5650",
   "metadata": {},
   "outputs": [
    {
     "data": {
      "text/plain": [
       "Index(['Created', 'Product_ID', 'Source', 'Mobile', 'EMAIL', 'Sales_Agent',\n",
       "       'Location', 'Delivery_Mode', 'Status'],\n",
       "      dtype='object')"
      ]
     },
     "execution_count": 79,
     "metadata": {},
     "output_type": "execute_result"
    }
   ],
   "source": [
    "df.columns"
   ]
  },
  {
   "cell_type": "markdown",
   "id": "5494d70e-d61f-4655-a7c5-1a7e5d989652",
   "metadata": {},
   "source": [
    " 1.Product_ID"
   ]
  },
  {
   "cell_type": "code",
   "execution_count": 81,
   "id": "1e45ce8d-2b18-4d08-a766-dc6af0daa4f3",
   "metadata": {},
   "outputs": [
    {
     "data": {
      "text/plain": [
       "Product_ID\n",
       "18.0            1769\n",
       "15.0            1518\n",
       "19.0            1189\n",
       "9.0              992\n",
       "27.0             739\n",
       "5.0              487\n",
       "10.0             168\n",
       "1.0              105\n",
       "20.0             102\n",
       "25.0              90\n",
       "21.0              66\n",
       "minimum sold      65\n",
       "2.0               38\n",
       "12.0              36\n",
       "26.0              31\n",
       "14.0              27\n",
       "Name: count, dtype: int64"
      ]
     },
     "execution_count": 81,
     "metadata": {},
     "output_type": "execute_result"
    }
   ],
   "source": [
    "df['Product_ID'].value_counts()"
   ]
  },
  {
   "cell_type": "markdown",
   "id": "9c2dbe01-3a6a-4c33-bb96-92fceec914dc",
   "metadata": {},
   "source": [
    "- here we use frequency encoding because of mannual encoding is work \n",
    "- Assign with zero because minimum sold product"
   ]
  },
  {
   "cell_type": "code",
   "execution_count": 83,
   "id": "a41117d8-2c25-49f8-8ed7-a5c0176fe995",
   "metadata": {},
   "outputs": [],
   "source": [
    "df.loc[df['Product_ID']=='minimum sold','Product_ID']=0"
   ]
  },
  {
   "cell_type": "markdown",
   "id": "d43bdf5e-6d6a-4206-a8b0-1b97e5a0f814",
   "metadata": {},
   "source": [
    " 2.Source"
   ]
  },
  {
   "cell_type": "code",
   "execution_count": 85,
   "id": "f9a056ea-5079-4ada-8db2-7f7a619340f4",
   "metadata": {},
   "outputs": [
    {
     "data": {
      "text/plain": [
       "Source\n",
       "live chat         2677\n",
       "Call              2564\n",
       "Website           1594\n",
       "recommendation     212\n",
       "social             193\n",
       "new client         146\n",
       "campaign            34\n",
       "Other                2\n",
       "Name: count, dtype: int64"
      ]
     },
     "execution_count": 85,
     "metadata": {},
     "output_type": "execute_result"
    }
   ],
   "source": [
    "df['Source'].value_counts()"
   ]
  },
  {
   "cell_type": "markdown",
   "id": "865cda9b-130a-4705-9db7-e414d5878a13",
   "metadata": {},
   "source": [
    "- frequency encoding\n",
    "- because of maximum label and nominal data-type"
   ]
  },
  {
   "cell_type": "code",
   "execution_count": 87,
   "id": "0f91366e-5227-4c35-aafc-972e92ee2513",
   "metadata": {},
   "outputs": [],
   "source": [
    "df.loc[df['Source']=='live chat','Source']=7\n",
    "df.loc[df['Source']=='Call','Source']=6\n",
    "df.loc[df['Source']=='Website','Source']=5\n",
    "df.loc[df['Source']=='recommendation','Source']=4\n",
    "df.loc[df['Source']=='social','Source']=3\n",
    "df.loc[df['Source']=='new client','Source']=2\n",
    "df.loc[df['Source']=='campaign','Source']=1\n",
    "df.loc[df['Source']=='Other','Source']=0"
   ]
  },
  {
   "cell_type": "code",
   "execution_count": 88,
   "id": "f653b39f-c33d-4835-962f-d9edde83aa91",
   "metadata": {},
   "outputs": [
    {
     "data": {
      "text/html": [
       "<div>\n",
       "<style scoped>\n",
       "    .dataframe tbody tr th:only-of-type {\n",
       "        vertical-align: middle;\n",
       "    }\n",
       "\n",
       "    .dataframe tbody tr th {\n",
       "        vertical-align: top;\n",
       "    }\n",
       "\n",
       "    .dataframe thead th {\n",
       "        text-align: right;\n",
       "    }\n",
       "</style>\n",
       "<table border=\"1\" class=\"dataframe\">\n",
       "  <thead>\n",
       "    <tr style=\"text-align: right;\">\n",
       "      <th></th>\n",
       "      <th>Created</th>\n",
       "      <th>Product_ID</th>\n",
       "      <th>Source</th>\n",
       "      <th>Mobile</th>\n",
       "      <th>EMAIL</th>\n",
       "      <th>Sales_Agent</th>\n",
       "      <th>Location</th>\n",
       "      <th>Delivery_Mode</th>\n",
       "      <th>Status</th>\n",
       "    </tr>\n",
       "  </thead>\n",
       "  <tbody>\n",
       "    <tr>\n",
       "      <th>0</th>\n",
       "      <td>14-11-2018 10:05</td>\n",
       "      <td>18.0</td>\n",
       "      <td>5</td>\n",
       "      <td>984XXXXXXX</td>\n",
       "      <td>aXXXXXXX@gmail.com</td>\n",
       "      <td>Sales-Agent-11</td>\n",
       "      <td>Other Locations</td>\n",
       "      <td>Mode-5</td>\n",
       "      <td>high potential</td>\n",
       "    </tr>\n",
       "    <tr>\n",
       "      <th>1</th>\n",
       "      <td>14-11-2018 09:22</td>\n",
       "      <td>18.0</td>\n",
       "      <td>5</td>\n",
       "      <td>XXXXXXX</td>\n",
       "      <td>#VALUE!</td>\n",
       "      <td>Sales-Agent-10</td>\n",
       "      <td>Other Locations</td>\n",
       "      <td>Mode-5</td>\n",
       "      <td>high potential</td>\n",
       "    </tr>\n",
       "    <tr>\n",
       "      <th>2</th>\n",
       "      <td>14-11-2018 09:21</td>\n",
       "      <td>18.0</td>\n",
       "      <td>5</td>\n",
       "      <td>XXXXXXX</td>\n",
       "      <td>dXXXXXXX@yahoo.com</td>\n",
       "      <td>Sales-Agent-10</td>\n",
       "      <td>Other Locations</td>\n",
       "      <td>Mode-5</td>\n",
       "      <td>high potential</td>\n",
       "    </tr>\n",
       "    <tr>\n",
       "      <th>3</th>\n",
       "      <td>14-11-2018 08:46</td>\n",
       "      <td>18.0</td>\n",
       "      <td>5</td>\n",
       "      <td>XXXXXXX</td>\n",
       "      <td>wXXXXXXX@gmail.com</td>\n",
       "      <td>Sales-Agent-10</td>\n",
       "      <td>Other Locations</td>\n",
       "      <td>Mode-5</td>\n",
       "      <td>high potential</td>\n",
       "    </tr>\n",
       "    <tr>\n",
       "      <th>4</th>\n",
       "      <td>14-11-2018 07:34</td>\n",
       "      <td>18.0</td>\n",
       "      <td>5</td>\n",
       "      <td>XXXXXXX</td>\n",
       "      <td>cXXXXXXX@gmail.com</td>\n",
       "      <td>Sales-Agent-10</td>\n",
       "      <td>Other Locations</td>\n",
       "      <td>Mode-5</td>\n",
       "      <td>high potential</td>\n",
       "    </tr>\n",
       "    <tr>\n",
       "      <th>...</th>\n",
       "      <td>...</td>\n",
       "      <td>...</td>\n",
       "      <td>...</td>\n",
       "      <td>...</td>\n",
       "      <td>...</td>\n",
       "      <td>...</td>\n",
       "      <td>...</td>\n",
       "      <td>...</td>\n",
       "      <td>...</td>\n",
       "    </tr>\n",
       "    <tr>\n",
       "      <th>7417</th>\n",
       "      <td>28-04-2018 09:45</td>\n",
       "      <td>9.0</td>\n",
       "      <td>6</td>\n",
       "      <td>XXXXXXX</td>\n",
       "      <td>aXXXXXXX@gmail.com</td>\n",
       "      <td>Sales-Agent-6</td>\n",
       "      <td>Mumbai</td>\n",
       "      <td>Mode-4</td>\n",
       "      <td>low potential</td>\n",
       "    </tr>\n",
       "    <tr>\n",
       "      <th>7418</th>\n",
       "      <td>28-04-2018 09:43</td>\n",
       "      <td>15.0</td>\n",
       "      <td>6</td>\n",
       "      <td>XXXXXXX</td>\n",
       "      <td>#VALUE!</td>\n",
       "      <td>Sales-Agent-12</td>\n",
       "      <td>Other Locations</td>\n",
       "      <td>Mode-5</td>\n",
       "      <td>low potential</td>\n",
       "    </tr>\n",
       "    <tr>\n",
       "      <th>7419</th>\n",
       "      <td>28-04-2018 09:20</td>\n",
       "      <td>5.0</td>\n",
       "      <td>7</td>\n",
       "      <td>XXXXXXX</td>\n",
       "      <td>sXXXXXXX@gmail.com</td>\n",
       "      <td>Sales-Agent-11</td>\n",
       "      <td>Bangalore</td>\n",
       "      <td>Mode-1</td>\n",
       "      <td>low potential</td>\n",
       "    </tr>\n",
       "    <tr>\n",
       "      <th>7420</th>\n",
       "      <td>28-04-2018 08:04</td>\n",
       "      <td>21.0</td>\n",
       "      <td>2</td>\n",
       "      <td>XXXXXXX</td>\n",
       "      <td>YXXXXXXX@gmail.com</td>\n",
       "      <td>Sales-Agent-4</td>\n",
       "      <td>Other Locations</td>\n",
       "      <td>Mode-1</td>\n",
       "      <td>low potential</td>\n",
       "    </tr>\n",
       "    <tr>\n",
       "      <th>7421</th>\n",
       "      <td>28-04-2018 07:54</td>\n",
       "      <td>25.0</td>\n",
       "      <td>5</td>\n",
       "      <td>XXXXXXX</td>\n",
       "      <td>cXXXXXXX@gmail.com</td>\n",
       "      <td>Sales-Agent-3</td>\n",
       "      <td>Chennai</td>\n",
       "      <td>Mode-1</td>\n",
       "      <td>high potential</td>\n",
       "    </tr>\n",
       "  </tbody>\n",
       "</table>\n",
       "<p>7422 rows × 9 columns</p>\n",
       "</div>"
      ],
      "text/plain": [
       "               Created Product_ID Source      Mobile               EMAIL  \\\n",
       "0     14-11-2018 10:05       18.0      5  984XXXXXXX  aXXXXXXX@gmail.com   \n",
       "1     14-11-2018 09:22       18.0      5     XXXXXXX             #VALUE!   \n",
       "2     14-11-2018 09:21       18.0      5     XXXXXXX  dXXXXXXX@yahoo.com   \n",
       "3     14-11-2018 08:46       18.0      5     XXXXXXX  wXXXXXXX@gmail.com   \n",
       "4     14-11-2018 07:34       18.0      5     XXXXXXX  cXXXXXXX@gmail.com   \n",
       "...                ...        ...    ...         ...                 ...   \n",
       "7417  28-04-2018 09:45        9.0      6     XXXXXXX  aXXXXXXX@gmail.com   \n",
       "7418  28-04-2018 09:43       15.0      6     XXXXXXX             #VALUE!   \n",
       "7419  28-04-2018 09:20        5.0      7     XXXXXXX  sXXXXXXX@gmail.com   \n",
       "7420  28-04-2018 08:04       21.0      2     XXXXXXX  YXXXXXXX@gmail.com   \n",
       "7421  28-04-2018 07:54       25.0      5     XXXXXXX  cXXXXXXX@gmail.com   \n",
       "\n",
       "         Sales_Agent         Location Delivery_Mode          Status  \n",
       "0     Sales-Agent-11  Other Locations        Mode-5  high potential  \n",
       "1     Sales-Agent-10  Other Locations        Mode-5  high potential  \n",
       "2     Sales-Agent-10  Other Locations        Mode-5  high potential  \n",
       "3     Sales-Agent-10  Other Locations        Mode-5  high potential  \n",
       "4     Sales-Agent-10  Other Locations        Mode-5  high potential  \n",
       "...              ...              ...           ...             ...  \n",
       "7417   Sales-Agent-6           Mumbai        Mode-4   low potential  \n",
       "7418  Sales-Agent-12  Other Locations        Mode-5   low potential  \n",
       "7419  Sales-Agent-11        Bangalore        Mode-1   low potential  \n",
       "7420   Sales-Agent-4  Other Locations        Mode-1   low potential  \n",
       "7421   Sales-Agent-3          Chennai        Mode-1  high potential  \n",
       "\n",
       "[7422 rows x 9 columns]"
      ]
     },
     "execution_count": 88,
     "metadata": {},
     "output_type": "execute_result"
    }
   ],
   "source": [
    "df"
   ]
  },
  {
   "cell_type": "markdown",
   "id": "b8658f73-9829-4e53-8c59-917e12453135",
   "metadata": {},
   "source": [
    "3.Sales Agents"
   ]
  },
  {
   "cell_type": "code",
   "execution_count": 90,
   "id": "1b9b5973-8b0e-4a6f-804d-6e8de9d2661a",
   "metadata": {},
   "outputs": [
    {
     "data": {
      "text/plain": [
       "Sales_Agent\n",
       "Sales-Agent-4     1523\n",
       "Sales-Agent-11    1420\n",
       "Sales-Agent-5     1190\n",
       "Sales-Agent-9      879\n",
       "Sales-Agent-3      781\n",
       "Sales-Agent-7      736\n",
       "Sales-Agent-2      389\n",
       "Sales-Agent-12     269\n",
       "Sales-Agent-6      114\n",
       "Sales-Agent-8       68\n",
       "Sales-Agent-10      49\n",
       "Sales-Agent-1        4\n",
       "Name: count, dtype: int64"
      ]
     },
     "execution_count": 90,
     "metadata": {},
     "output_type": "execute_result"
    }
   ],
   "source": [
    "df['Sales_Agent'].value_counts()"
   ]
  },
  {
   "cell_type": "markdown",
   "id": "b95cd416-088b-4e95-87f0-14e7a14f50e7",
   "metadata": {},
   "source": [
    "- frequency encoding\n",
    "- because of maximum label and nominal data-type"
   ]
  },
  {
   "cell_type": "code",
   "execution_count": 92,
   "id": "55b55da5-04e2-4856-a7f1-90a967c702d4",
   "metadata": {},
   "outputs": [],
   "source": [
    "df.loc[df['Sales_Agent']=='Sales-Agent-4','Sales_Agent']=11\n",
    "df.loc[df['Sales_Agent']=='Sales-Agent-11','Sales_Agent']=10\n",
    "df.loc[df['Sales_Agent']=='Sales-Agent-5','Sales_Agent']=9\n",
    "df.loc[df['Sales_Agent']=='Sales-Agent-9','Sales_Agent']=8\n",
    "df.loc[df['Sales_Agent']=='Sales-Agent-3','Sales_Agent']=7\n",
    "df.loc[df['Sales_Agent']=='Sales-Agent-7','Sales_Agent']=6\n",
    "df.loc[df['Sales_Agent']=='Sales-Agent-2','Sales_Agent']=5\n",
    "df.loc[df['Sales_Agent']=='Sales-Agent-12','Sales_Agent']=4\n",
    "df.loc[df['Sales_Agent']=='Sales-Agent-6','Sales_Agent']=3\n",
    "df.loc[df['Sales_Agent']=='Sales-Agent-8','Sales_Agent']=2\n",
    "df.loc[df['Sales_Agent']=='Sales-Agent-10','Sales_Agent']=1\n",
    "df.loc[df['Sales_Agent']=='Sales-Agent-1','Sales_Agent']=0"
   ]
  },
  {
   "cell_type": "markdown",
   "id": "35aa3411-c19f-452b-b1c8-4eba584a8c71",
   "metadata": {},
   "source": [
    "4.Location"
   ]
  },
  {
   "cell_type": "code",
   "execution_count": 94,
   "id": "2407b6a1-4648-4bea-b4c2-d65c553c9b40",
   "metadata": {},
   "outputs": [
    {
     "data": {
      "text/plain": [
       "Location\n",
       "Other Locations    2672\n",
       "Bangalore          2084\n",
       "Chennai             909\n",
       "Hyderabad           528\n",
       "Delhi               471\n",
       "Mumbai              402\n",
       "Pune                142\n",
       "west country        114\n",
       "asia                100\n",
       "Name: count, dtype: int64"
      ]
     },
     "execution_count": 94,
     "metadata": {},
     "output_type": "execute_result"
    }
   ],
   "source": [
    "df['Location'].value_counts()"
   ]
  },
  {
   "cell_type": "markdown",
   "id": "4984b594-6ef0-413d-8bde-f32b66fe1afe",
   "metadata": {},
   "source": [
    "- frequency encoding\n",
    "- because of maximum label and nominal data-type"
   ]
  },
  {
   "cell_type": "code",
   "execution_count": 96,
   "id": "b83a2aae-334e-4b7d-aaa6-52d2240fe221",
   "metadata": {},
   "outputs": [],
   "source": [
    "df.loc[df['Location']=='Other Locations','Location']=8\n",
    "df.loc[df['Location']=='Bangalore','Location']=7\n",
    "df.loc[df['Location']=='Chennai','Location']=6\n",
    "df.loc[df['Location']=='Hyderabad','Location']=5\n",
    "df.loc[df['Location']=='Delhi','Location']=3\n",
    "df.loc[df['Location']=='Mumbai','Location']=3\n",
    "df.loc[df['Location']=='Pune','Location']=2\n",
    "df.loc[df['Location']=='west country','Location']=1\n",
    "df.loc[df['Location']=='asia','Location']=0"
   ]
  },
  {
   "cell_type": "markdown",
   "id": "7a6c5cd3-4a78-436b-942d-d94050111103",
   "metadata": {},
   "source": [
    "4.Delivery_Mode"
   ]
  },
  {
   "cell_type": "code",
   "execution_count": 98,
   "id": "5aeda6eb-e760-4c97-b8a0-1208b2e754f5",
   "metadata": {},
   "outputs": [
    {
     "data": {
      "text/plain": [
       "Delivery_Mode\n",
       "Mode-5    2975\n",
       "Mode-1    2627\n",
       "Mode-3    1688\n",
       "Mode-4     121\n",
       "Mode-2      11\n",
       "Name: count, dtype: int64"
      ]
     },
     "execution_count": 98,
     "metadata": {},
     "output_type": "execute_result"
    }
   ],
   "source": [
    "df['Delivery_Mode'].value_counts()"
   ]
  },
  {
   "cell_type": "markdown",
   "id": "6c4219de-2d4c-468f-8a46-3d8f6fe25cb4",
   "metadata": {},
   "source": [
    "- frequency encoding\n",
    "- because of maximum label and nominal data-type"
   ]
  },
  {
   "cell_type": "code",
   "execution_count": 100,
   "id": "20a47a3c-4607-488e-8cae-05771bd24603",
   "metadata": {},
   "outputs": [],
   "source": [
    "df.loc[df['Delivery_Mode'] == 'Mode-5','Delivery_Mode']=4\n",
    "df.loc[df['Delivery_Mode'] == 'Mode-1','Delivery_Mode']=3\n",
    "df.loc[df['Delivery_Mode'] == 'Mode-3','Delivery_Mode']=2\n",
    "df.loc[df['Delivery_Mode'] == 'Mode-4','Delivery_Mode']=1\n",
    "df.loc[df['Delivery_Mode'] == 'Mode-2','Delivery_Mode']=0"
   ]
  },
  {
   "cell_type": "markdown",
   "id": "3cd09650-4634-4066-b264-8ccd3b434618",
   "metadata": {},
   "source": [
    "5. Status"
   ]
  },
  {
   "cell_type": "code",
   "execution_count": 102,
   "id": "39c7c86b-f84b-4838-83b8-538cf9ac7373",
   "metadata": {},
   "outputs": [],
   "source": [
    "df.loc[df['Status']=='low potential','Status']=0\n",
    "df.loc[df['Status']=='high potential','Status']=1"
   ]
  },
  {
   "cell_type": "code",
   "execution_count": 103,
   "id": "7f3e0692-2a79-4902-a3a9-b35b217e0aef",
   "metadata": {},
   "outputs": [
    {
     "data": {
      "text/html": [
       "<div>\n",
       "<style scoped>\n",
       "    .dataframe tbody tr th:only-of-type {\n",
       "        vertical-align: middle;\n",
       "    }\n",
       "\n",
       "    .dataframe tbody tr th {\n",
       "        vertical-align: top;\n",
       "    }\n",
       "\n",
       "    .dataframe thead th {\n",
       "        text-align: right;\n",
       "    }\n",
       "</style>\n",
       "<table border=\"1\" class=\"dataframe\">\n",
       "  <thead>\n",
       "    <tr style=\"text-align: right;\">\n",
       "      <th></th>\n",
       "      <th>Created</th>\n",
       "      <th>Product_ID</th>\n",
       "      <th>Source</th>\n",
       "      <th>Mobile</th>\n",
       "      <th>EMAIL</th>\n",
       "      <th>Sales_Agent</th>\n",
       "      <th>Location</th>\n",
       "      <th>Delivery_Mode</th>\n",
       "      <th>Status</th>\n",
       "    </tr>\n",
       "  </thead>\n",
       "  <tbody>\n",
       "    <tr>\n",
       "      <th>0</th>\n",
       "      <td>14-11-2018 10:05</td>\n",
       "      <td>18.0</td>\n",
       "      <td>5</td>\n",
       "      <td>984XXXXXXX</td>\n",
       "      <td>aXXXXXXX@gmail.com</td>\n",
       "      <td>10</td>\n",
       "      <td>8</td>\n",
       "      <td>4</td>\n",
       "      <td>1</td>\n",
       "    </tr>\n",
       "    <tr>\n",
       "      <th>1</th>\n",
       "      <td>14-11-2018 09:22</td>\n",
       "      <td>18.0</td>\n",
       "      <td>5</td>\n",
       "      <td>XXXXXXX</td>\n",
       "      <td>#VALUE!</td>\n",
       "      <td>1</td>\n",
       "      <td>8</td>\n",
       "      <td>4</td>\n",
       "      <td>1</td>\n",
       "    </tr>\n",
       "    <tr>\n",
       "      <th>2</th>\n",
       "      <td>14-11-2018 09:21</td>\n",
       "      <td>18.0</td>\n",
       "      <td>5</td>\n",
       "      <td>XXXXXXX</td>\n",
       "      <td>dXXXXXXX@yahoo.com</td>\n",
       "      <td>1</td>\n",
       "      <td>8</td>\n",
       "      <td>4</td>\n",
       "      <td>1</td>\n",
       "    </tr>\n",
       "    <tr>\n",
       "      <th>3</th>\n",
       "      <td>14-11-2018 08:46</td>\n",
       "      <td>18.0</td>\n",
       "      <td>5</td>\n",
       "      <td>XXXXXXX</td>\n",
       "      <td>wXXXXXXX@gmail.com</td>\n",
       "      <td>1</td>\n",
       "      <td>8</td>\n",
       "      <td>4</td>\n",
       "      <td>1</td>\n",
       "    </tr>\n",
       "    <tr>\n",
       "      <th>4</th>\n",
       "      <td>14-11-2018 07:34</td>\n",
       "      <td>18.0</td>\n",
       "      <td>5</td>\n",
       "      <td>XXXXXXX</td>\n",
       "      <td>cXXXXXXX@gmail.com</td>\n",
       "      <td>1</td>\n",
       "      <td>8</td>\n",
       "      <td>4</td>\n",
       "      <td>1</td>\n",
       "    </tr>\n",
       "  </tbody>\n",
       "</table>\n",
       "</div>"
      ],
      "text/plain": [
       "            Created Product_ID Source      Mobile               EMAIL  \\\n",
       "0  14-11-2018 10:05       18.0      5  984XXXXXXX  aXXXXXXX@gmail.com   \n",
       "1  14-11-2018 09:22       18.0      5     XXXXXXX             #VALUE!   \n",
       "2  14-11-2018 09:21       18.0      5     XXXXXXX  dXXXXXXX@yahoo.com   \n",
       "3  14-11-2018 08:46       18.0      5     XXXXXXX  wXXXXXXX@gmail.com   \n",
       "4  14-11-2018 07:34       18.0      5     XXXXXXX  cXXXXXXX@gmail.com   \n",
       "\n",
       "  Sales_Agent Location Delivery_Mode Status  \n",
       "0          10        8             4      1  \n",
       "1           1        8             4      1  \n",
       "2           1        8             4      1  \n",
       "3           1        8             4      1  \n",
       "4           1        8             4      1  "
      ]
     },
     "execution_count": 103,
     "metadata": {},
     "output_type": "execute_result"
    }
   ],
   "source": [
    "df.head()"
   ]
  },
  {
   "cell_type": "markdown",
   "id": "fa267ae0-0545-4094-ab39-572d27e3de0e",
   "metadata": {
    "jp-MarkdownHeadingCollapsed": true
   },
   "source": [
    "### 5.FEATURE SELECTION."
   ]
  },
  {
   "cell_type": "markdown",
   "id": "6cce6bb8-f901-4ef8-96c8-77d88b738ddc",
   "metadata": {},
   "source": [
    "#### 1.Dropping Unique Column.\n",
    "- total 3 unique column available(created, mobile, and email) so im drop this column."
   ]
  },
  {
   "cell_type": "code",
   "execution_count": 106,
   "id": "4eedc95b-aa00-42a5-a995-2084784f3aef",
   "metadata": {},
   "outputs": [],
   "source": [
    "df.drop(['Created','Mobile','EMAIL'],axis=1,inplace=True)"
   ]
  },
  {
   "cell_type": "code",
   "execution_count": 107,
   "id": "09bc9c9a-d790-4be8-9024-886752f48d88",
   "metadata": {},
   "outputs": [
    {
     "data": {
      "text/html": [
       "<div>\n",
       "<style scoped>\n",
       "    .dataframe tbody tr th:only-of-type {\n",
       "        vertical-align: middle;\n",
       "    }\n",
       "\n",
       "    .dataframe tbody tr th {\n",
       "        vertical-align: top;\n",
       "    }\n",
       "\n",
       "    .dataframe thead th {\n",
       "        text-align: right;\n",
       "    }\n",
       "</style>\n",
       "<table border=\"1\" class=\"dataframe\">\n",
       "  <thead>\n",
       "    <tr style=\"text-align: right;\">\n",
       "      <th></th>\n",
       "      <th>Product_ID</th>\n",
       "      <th>Source</th>\n",
       "      <th>Sales_Agent</th>\n",
       "      <th>Location</th>\n",
       "      <th>Delivery_Mode</th>\n",
       "      <th>Status</th>\n",
       "    </tr>\n",
       "  </thead>\n",
       "  <tbody>\n",
       "    <tr>\n",
       "      <th>0</th>\n",
       "      <td>18.0</td>\n",
       "      <td>5</td>\n",
       "      <td>10</td>\n",
       "      <td>8</td>\n",
       "      <td>4</td>\n",
       "      <td>1</td>\n",
       "    </tr>\n",
       "    <tr>\n",
       "      <th>1</th>\n",
       "      <td>18.0</td>\n",
       "      <td>5</td>\n",
       "      <td>1</td>\n",
       "      <td>8</td>\n",
       "      <td>4</td>\n",
       "      <td>1</td>\n",
       "    </tr>\n",
       "    <tr>\n",
       "      <th>2</th>\n",
       "      <td>18.0</td>\n",
       "      <td>5</td>\n",
       "      <td>1</td>\n",
       "      <td>8</td>\n",
       "      <td>4</td>\n",
       "      <td>1</td>\n",
       "    </tr>\n",
       "    <tr>\n",
       "      <th>3</th>\n",
       "      <td>18.0</td>\n",
       "      <td>5</td>\n",
       "      <td>1</td>\n",
       "      <td>8</td>\n",
       "      <td>4</td>\n",
       "      <td>1</td>\n",
       "    </tr>\n",
       "    <tr>\n",
       "      <th>4</th>\n",
       "      <td>18.0</td>\n",
       "      <td>5</td>\n",
       "      <td>1</td>\n",
       "      <td>8</td>\n",
       "      <td>4</td>\n",
       "      <td>1</td>\n",
       "    </tr>\n",
       "  </tbody>\n",
       "</table>\n",
       "</div>"
      ],
      "text/plain": [
       "  Product_ID Source Sales_Agent Location Delivery_Mode Status\n",
       "0       18.0      5          10        8             4      1\n",
       "1       18.0      5           1        8             4      1\n",
       "2       18.0      5           1        8             4      1\n",
       "3       18.0      5           1        8             4      1\n",
       "4       18.0      5           1        8             4      1"
      ]
     },
     "execution_count": 107,
     "metadata": {},
     "output_type": "execute_result"
    }
   ],
   "source": [
    "df.head()"
   ]
  },
  {
   "cell_type": "markdown",
   "id": "c3e17cb4-cda6-4e9b-b0c7-5278cf8d2e6c",
   "metadata": {},
   "source": [
    "#### 2.Changing datatype to int"
   ]
  },
  {
   "cell_type": "markdown",
   "id": "a4103bc2-e4c2-4c9e-b6a0-b7ab822e65f0",
   "metadata": {},
   "source": [
    "- First convert product id into float because product id have values like this 18.0 ,strings that look like float.\n",
    "- Convert all columns datatype into int."
   ]
  },
  {
   "cell_type": "code",
   "execution_count": 110,
   "id": "755b967e-c797-4f55-82fb-5f5facf5c2c9",
   "metadata": {},
   "outputs": [],
   "source": [
    "df['Product_ID']=df['Product_ID'].astype(float)"
   ]
  },
  {
   "cell_type": "code",
   "execution_count": 111,
   "id": "57477646-187d-4b11-9277-b1f4d286dbdf",
   "metadata": {},
   "outputs": [],
   "source": [
    "df=df.astype('int64')"
   ]
  },
  {
   "cell_type": "code",
   "execution_count": 112,
   "id": "16f6448a-b755-4367-a2a4-960e97fbb1c8",
   "metadata": {},
   "outputs": [
    {
     "name": "stdout",
     "output_type": "stream",
     "text": [
      "<class 'pandas.core.frame.DataFrame'>\n",
      "RangeIndex: 7422 entries, 0 to 7421\n",
      "Data columns (total 6 columns):\n",
      " #   Column         Non-Null Count  Dtype\n",
      "---  ------         --------------  -----\n",
      " 0   Product_ID     7422 non-null   int64\n",
      " 1   Source         7422 non-null   int64\n",
      " 2   Sales_Agent    7422 non-null   int64\n",
      " 3   Location       7422 non-null   int64\n",
      " 4   Delivery_Mode  7422 non-null   int64\n",
      " 5   Status         7422 non-null   int64\n",
      "dtypes: int64(6)\n",
      "memory usage: 348.0 KB\n"
     ]
    }
   ],
   "source": [
    "df.info()"
   ]
  },
  {
   "cell_type": "markdown",
   "id": "889ea377-ee12-4328-ae32-4c18d745fa27",
   "metadata": {},
   "source": [
    "#### 3.Checking corelation"
   ]
  },
  {
   "cell_type": "code",
   "execution_count": 114,
   "id": "f93662c0-121c-4f40-8021-027d77e514f8",
   "metadata": {},
   "outputs": [
    {
     "data": {
      "text/html": [
       "<div>\n",
       "<style scoped>\n",
       "    .dataframe tbody tr th:only-of-type {\n",
       "        vertical-align: middle;\n",
       "    }\n",
       "\n",
       "    .dataframe tbody tr th {\n",
       "        vertical-align: top;\n",
       "    }\n",
       "\n",
       "    .dataframe thead th {\n",
       "        text-align: right;\n",
       "    }\n",
       "</style>\n",
       "<table border=\"1\" class=\"dataframe\">\n",
       "  <thead>\n",
       "    <tr style=\"text-align: right;\">\n",
       "      <th></th>\n",
       "      <th>Product_ID</th>\n",
       "      <th>Source</th>\n",
       "      <th>Sales_Agent</th>\n",
       "      <th>Location</th>\n",
       "      <th>Delivery_Mode</th>\n",
       "      <th>Status</th>\n",
       "    </tr>\n",
       "  </thead>\n",
       "  <tbody>\n",
       "    <tr>\n",
       "      <th>Product_ID</th>\n",
       "      <td>1.000000</td>\n",
       "      <td>-0.009651</td>\n",
       "      <td>0.009770</td>\n",
       "      <td>-0.027049</td>\n",
       "      <td>-0.019310</td>\n",
       "      <td>0.072811</td>\n",
       "    </tr>\n",
       "    <tr>\n",
       "      <th>Source</th>\n",
       "      <td>-0.009651</td>\n",
       "      <td>1.000000</td>\n",
       "      <td>0.020959</td>\n",
       "      <td>-0.154729</td>\n",
       "      <td>-0.035514</td>\n",
       "      <td>-0.071761</td>\n",
       "    </tr>\n",
       "    <tr>\n",
       "      <th>Sales_Agent</th>\n",
       "      <td>0.009770</td>\n",
       "      <td>0.020959</td>\n",
       "      <td>1.000000</td>\n",
       "      <td>-0.112418</td>\n",
       "      <td>0.096164</td>\n",
       "      <td>-0.134695</td>\n",
       "    </tr>\n",
       "    <tr>\n",
       "      <th>Location</th>\n",
       "      <td>-0.027049</td>\n",
       "      <td>-0.154729</td>\n",
       "      <td>-0.112418</td>\n",
       "      <td>1.000000</td>\n",
       "      <td>0.208933</td>\n",
       "      <td>-0.095659</td>\n",
       "    </tr>\n",
       "    <tr>\n",
       "      <th>Delivery_Mode</th>\n",
       "      <td>-0.019310</td>\n",
       "      <td>-0.035514</td>\n",
       "      <td>0.096164</td>\n",
       "      <td>0.208933</td>\n",
       "      <td>1.000000</td>\n",
       "      <td>-0.120836</td>\n",
       "    </tr>\n",
       "    <tr>\n",
       "      <th>Status</th>\n",
       "      <td>0.072811</td>\n",
       "      <td>-0.071761</td>\n",
       "      <td>-0.134695</td>\n",
       "      <td>-0.095659</td>\n",
       "      <td>-0.120836</td>\n",
       "      <td>1.000000</td>\n",
       "    </tr>\n",
       "  </tbody>\n",
       "</table>\n",
       "</div>"
      ],
      "text/plain": [
       "               Product_ID    Source  Sales_Agent  Location  Delivery_Mode  \\\n",
       "Product_ID       1.000000 -0.009651     0.009770 -0.027049      -0.019310   \n",
       "Source          -0.009651  1.000000     0.020959 -0.154729      -0.035514   \n",
       "Sales_Agent      0.009770  0.020959     1.000000 -0.112418       0.096164   \n",
       "Location        -0.027049 -0.154729    -0.112418  1.000000       0.208933   \n",
       "Delivery_Mode   -0.019310 -0.035514     0.096164  0.208933       1.000000   \n",
       "Status           0.072811 -0.071761    -0.134695 -0.095659      -0.120836   \n",
       "\n",
       "                 Status  \n",
       "Product_ID     0.072811  \n",
       "Source        -0.071761  \n",
       "Sales_Agent   -0.134695  \n",
       "Location      -0.095659  \n",
       "Delivery_Mode -0.120836  \n",
       "Status         1.000000  "
      ]
     },
     "execution_count": 114,
     "metadata": {},
     "output_type": "execute_result"
    }
   ],
   "source": [
    "df.corr()"
   ]
  },
  {
   "cell_type": "code",
   "execution_count": 115,
   "id": "7c6b2994-bf38-442d-8cad-ff2a3ed0bd10",
   "metadata": {},
   "outputs": [
    {
     "data": {
      "image/png": "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",
      "text/plain": [
       "<Figure size 640x480 with 2 Axes>"
      ]
     },
     "metadata": {},
     "output_type": "display_data"
    }
   ],
   "source": [
    "sns.heatmap(df.corr(),annot=True,cmap='PuOr')\n",
    "plt.show()"
   ]
  },
  {
   "cell_type": "markdown",
   "id": "f8cb86fa-f9a4-473e-be5c-cf90beae2827",
   "metadata": {},
   "source": [
    "- No highly correlated feature available."
   ]
  },
  {
   "cell_type": "markdown",
   "id": "863f5b78-744a-4661-b4a6-2a37f9219ff1",
   "metadata": {},
   "source": [
    "#### 4.Save preprocess data"
   ]
  },
  {
   "cell_type": "code",
   "execution_count": 118,
   "id": "7de7159e-a996-4224-92d0-e928cd2741cb",
   "metadata": {},
   "outputs": [],
   "source": [
    "df.to_csv(\"preprocess.csv\")"
   ]
  },
  {
   "cell_type": "markdown",
   "id": "f9c49a6b-873c-4666-8964-ffe7d99b9f48",
   "metadata": {
    "jp-MarkdownHeadingCollapsed": true
   },
   "source": [
    "### 6.MODEL CREATION."
   ]
  },
  {
   "cell_type": "markdown",
   "id": "aca512e7-d72c-4341-a417-4a78e4278b25",
   "metadata": {},
   "source": [
    "#### AIM:\n",
    "- Create a sweet spots model\n",
    "- Low bias and Low veriance model\n",
    "- Improve accuracy score"
   ]
  },
  {
   "cell_type": "markdown",
   "id": "18101e5a-9e1f-4ffc-a2a5-568c1cb0a5f3",
   "metadata": {},
   "source": [
    "#### Here we will be experimenting with seven algorithm"
   ]
  },
  {
   "cell_type": "markdown",
   "id": "8474db32-f1cf-4521-b8d1-440ec1a38bf4",
   "metadata": {},
   "source": [
    "1. Logistic regression.\n",
    "2. KNeighbourClassifier\n",
    "3. Decision Tree Classifier\n",
    "4. Random Forest Classifier\n",
    "5. Grediant Boosting Classifier\n",
    "6. XGB classifier\n",
    "7. Artifical neural network"
   ]
  },
  {
   "cell_type": "markdown",
   "id": "dd9e019d-9595-4640-bc69-3e2a83f75392",
   "metadata": {},
   "source": [
    "#### Define indepemdamt and dependant variable"
   ]
  },
  {
   "cell_type": "code",
   "execution_count": 124,
   "id": "c72824ac-986b-4105-9e0a-8038b19d04ab",
   "metadata": {},
   "outputs": [],
   "source": [
    "X=df.drop(columns=['Status'])\n",
    "y=df['Status']"
   ]
  },
  {
   "cell_type": "code",
   "execution_count": 125,
   "id": "3bf12825-4042-455a-a9c4-42bb7d3c9d72",
   "metadata": {},
   "outputs": [
    {
     "data": {
      "text/html": [
       "<div>\n",
       "<style scoped>\n",
       "    .dataframe tbody tr th:only-of-type {\n",
       "        vertical-align: middle;\n",
       "    }\n",
       "\n",
       "    .dataframe tbody tr th {\n",
       "        vertical-align: top;\n",
       "    }\n",
       "\n",
       "    .dataframe thead th {\n",
       "        text-align: right;\n",
       "    }\n",
       "</style>\n",
       "<table border=\"1\" class=\"dataframe\">\n",
       "  <thead>\n",
       "    <tr style=\"text-align: right;\">\n",
       "      <th></th>\n",
       "      <th>Product_ID</th>\n",
       "      <th>Source</th>\n",
       "      <th>Sales_Agent</th>\n",
       "      <th>Location</th>\n",
       "      <th>Delivery_Mode</th>\n",
       "    </tr>\n",
       "  </thead>\n",
       "  <tbody>\n",
       "    <tr>\n",
       "      <th>0</th>\n",
       "      <td>18</td>\n",
       "      <td>5</td>\n",
       "      <td>10</td>\n",
       "      <td>8</td>\n",
       "      <td>4</td>\n",
       "    </tr>\n",
       "    <tr>\n",
       "      <th>1</th>\n",
       "      <td>18</td>\n",
       "      <td>5</td>\n",
       "      <td>1</td>\n",
       "      <td>8</td>\n",
       "      <td>4</td>\n",
       "    </tr>\n",
       "    <tr>\n",
       "      <th>2</th>\n",
       "      <td>18</td>\n",
       "      <td>5</td>\n",
       "      <td>1</td>\n",
       "      <td>8</td>\n",
       "      <td>4</td>\n",
       "    </tr>\n",
       "    <tr>\n",
       "      <th>3</th>\n",
       "      <td>18</td>\n",
       "      <td>5</td>\n",
       "      <td>1</td>\n",
       "      <td>8</td>\n",
       "      <td>4</td>\n",
       "    </tr>\n",
       "    <tr>\n",
       "      <th>4</th>\n",
       "      <td>18</td>\n",
       "      <td>5</td>\n",
       "      <td>1</td>\n",
       "      <td>8</td>\n",
       "      <td>4</td>\n",
       "    </tr>\n",
       "  </tbody>\n",
       "</table>\n",
       "</div>"
      ],
      "text/plain": [
       "   Product_ID  Source  Sales_Agent  Location  Delivery_Mode\n",
       "0          18       5           10         8              4\n",
       "1          18       5            1         8              4\n",
       "2          18       5            1         8              4\n",
       "3          18       5            1         8              4\n",
       "4          18       5            1         8              4"
      ]
     },
     "execution_count": 125,
     "metadata": {},
     "output_type": "execute_result"
    }
   ],
   "source": [
    "X.head()"
   ]
  },
  {
   "cell_type": "code",
   "execution_count": 126,
   "id": "b6dd66a6-5783-4c68-a0e7-265f029a92f5",
   "metadata": {},
   "outputs": [
    {
     "data": {
      "text/plain": [
       "0    1\n",
       "1    1\n",
       "2    1\n",
       "3    1\n",
       "4    1\n",
       "Name: Status, dtype: int64"
      ]
     },
     "execution_count": 126,
     "metadata": {},
     "output_type": "execute_result"
    }
   ],
   "source": [
    "y.head()"
   ]
  },
  {
   "cell_type": "markdown",
   "id": "e9c2fd64-54db-443a-9979-7d94d030b8a9",
   "metadata": {},
   "source": [
    "- Balancing target and column using smote"
   ]
  },
  {
   "cell_type": "code",
   "execution_count": 128,
   "id": "e12ded43-7c7b-403f-81e9-ad261fa6149b",
   "metadata": {},
   "outputs": [
    {
     "data": {
      "text/plain": [
       "Status\n",
       "0    4508\n",
       "1    2914\n",
       "Name: count, dtype: int64"
      ]
     },
     "execution_count": 128,
     "metadata": {},
     "output_type": "execute_result"
    }
   ],
   "source": [
    "df.Status.value_counts()"
   ]
  },
  {
   "cell_type": "code",
   "execution_count": 129,
   "id": "a1fde947-58c6-4924-9391-51f4f3270afe",
   "metadata": {},
   "outputs": [
    {
     "name": "stdout",
     "output_type": "stream",
     "text": [
      "unbalanced data Counter({0: 4508, 1: 2914})\n",
      "Balanced data Counter({1: 4508, 0: 4508})\n"
     ]
    }
   ],
   "source": [
    "# balancing data\n",
    "from collections import Counter\n",
    "from imblearn.over_sampling import SMOTE\n",
    "sm = SMOTE() #object creation\n",
    "print(\"unbalanced data\",Counter(y))\n",
    "X_sm,y_sm = sm.fit_resample(X,y)\n",
    "print('Balanced data',Counter(y_sm))"
   ]
  },
  {
   "cell_type": "markdown",
   "id": "b08b85cb-9715-46df-a6e0-18feee0cbc82",
   "metadata": {},
   "source": [
    "- Splitting training and testing data"
   ]
  },
  {
   "cell_type": "code",
   "execution_count": 131,
   "id": "32689b76-cfee-48c1-bfdd-141ccee425a5",
   "metadata": {},
   "outputs": [],
   "source": [
    "from sklearn.model_selection import train_test_split\n",
    "X_train,X_test,y_train,y_test = train_test_split(X_sm,y_sm,test_size=0.2,random_state=42)"
   ]
  },
  {
   "cell_type": "code",
   "execution_count": 132,
   "id": "919a719b-7b29-4073-8fce-e97704380fc6",
   "metadata": {},
   "outputs": [
    {
     "name": "stdout",
     "output_type": "stream",
     "text": [
      "(7212, 5)\n",
      "(7212,)\n",
      "(1804, 5)\n",
      "(1804,)\n"
     ]
    }
   ],
   "source": [
    "print(X_train.shape)\n",
    "print(y_train.shape)\n",
    "print(X_test.shape)\n",
    "print(y_test.shape)"
   ]
  },
  {
   "cell_type": "markdown",
   "id": "e77fca91-626e-4f79-9933-f41ebceaa229",
   "metadata": {},
   "source": [
    "#### Logistic Regerssion"
   ]
  },
  {
   "cell_type": "code",
   "execution_count": 134,
   "id": "fc7da17e-d62d-41ef-8cad-f8e3be79e0b7",
   "metadata": {},
   "outputs": [],
   "source": [
    "# Step:1 importing library\n",
    "from sklearn.linear_model import LogisticRegression\n",
    "\n",
    "# Step:2 Object creation\n",
    "log_reg = LogisticRegression(random_state=5)\n",
    "\n",
    "# Step:3 fitting the training data\n",
    "log_reg.fit(X_train,y_train)\n",
    "\n",
    "# Step:4 Prediction on test data\n",
    "log_test_predict = log_reg.predict(X_test)\n",
    "\n",
    "# Step:5 Prediction on training data\n",
    "log_train_predict = log_reg.predict(X_train)"
   ]
  },
  {
   "cell_type": "markdown",
   "id": "9a005b5a-1417-48fc-b33e-9fd22aced7ff",
   "metadata": {},
   "source": [
    "##### Training Acuuracy"
   ]
  },
  {
   "cell_type": "code",
   "execution_count": 136,
   "id": "877732b1-abcd-4666-810e-f8d547bcf166",
   "metadata": {},
   "outputs": [
    {
     "name": "stdout",
     "output_type": "stream",
     "text": [
      "Training accuracy of Logistic regression model 60.44093178036606\n",
      "Logistic regression training Classification report: \n",
      "               precision    recall  f1-score   support\n",
      "\n",
      "           0       0.61      0.60      0.61      3674\n",
      "           1       0.59      0.61      0.60      3538\n",
      "\n",
      "    accuracy                           0.60      7212\n",
      "   macro avg       0.60      0.60      0.60      7212\n",
      "weighted avg       0.60      0.60      0.60      7212\n",
      "\n"
     ]
    }
   ],
   "source": [
    "# Import library\n",
    "from sklearn.metrics import accuracy_score,f1_score,recall_score,precision_score,classification_report,confusion_matrix\n",
    "log_train_accuracy = accuracy_score(log_train_predict,y_train)\n",
    "print(\"Training accuracy of Logistic regression model\",log_train_accuracy*100)\n",
    "print(\"Logistic regression training Classification report: \\n\",classification_report(log_train_predict,y_train))"
   ]
  },
  {
   "cell_type": "markdown",
   "id": "9bad28ed-51ea-48eb-b23f-4abd6cc61536",
   "metadata": {},
   "source": [
    "- Logistic regression model not perform well on training data."
   ]
  },
  {
   "cell_type": "markdown",
   "id": "ff796d06-214a-4d25-b67f-47fba98b5953",
   "metadata": {},
   "source": [
    "##### Testing Acuuracy"
   ]
  },
  {
   "cell_type": "code",
   "execution_count": 139,
   "id": "341ede81-57a7-42c3-b639-c05f962b21be",
   "metadata": {},
   "outputs": [
    {
     "name": "stdout",
     "output_type": "stream",
     "text": [
      "Testing accuracy of Logistic regression model 58.5920177383592\n",
      "Logistic regression testing Classification report: \n",
      "               precision    recall  f1-score   support\n",
      "\n",
      "           0       0.59      0.59      0.59       906\n",
      "           1       0.58      0.58      0.58       898\n",
      "\n",
      "    accuracy                           0.59      1804\n",
      "   macro avg       0.59      0.59      0.59      1804\n",
      "weighted avg       0.59      0.59      0.59      1804\n",
      "\n"
     ]
    }
   ],
   "source": [
    "log_test_accuracy = accuracy_score(log_test_predict,y_test)\n",
    "print(\"Testing accuracy of Logistic regression model\",log_test_accuracy*100)\n",
    "print(\"Logistic regression testing Classification report: \\n\",classification_report(log_test_predict,y_test))"
   ]
  },
  {
   "cell_type": "markdown",
   "id": "fd3461c5-7744-4bb3-91e5-34acafe47fe9",
   "metadata": {},
   "source": [
    "- Logistic regression model also not perform well on testing data"
   ]
  },
  {
   "cell_type": "markdown",
   "id": "5ab32b30-0193-40a5-b957-0ff0512b1af0",
   "metadata": {},
   "source": [
    "#### 2.KNeighboursClassifier"
   ]
  },
  {
   "cell_type": "code",
   "execution_count": 142,
   "id": "3e3194d5-fbcd-4554-a33a-df87b2493202",
   "metadata": {},
   "outputs": [
    {
     "name": "stdout",
     "output_type": "stream",
     "text": [
      "Error rate: [0.348669623059867, 0.33813747228381374, 0.34700665188470065, 0.33148558758314856, 0.32982261640798227, 0.32926829268292684, 0.32261640798226165, 0.32649667405764965, 0.32483370288248337]\n"
     ]
    }
   ],
   "source": [
    "# Step:1 Taking the optimal value of k\n",
    "from sklearn.neighbors import KNeighborsClassifier\n",
    "error_rate = [] # Creating empty list\n",
    "for i in range(2,11):\n",
    "    knn = KNeighborsClassifier(n_neighbors=i)\n",
    "    knn.fit(X_train,y_train)\n",
    "    y_knn_predict = knn.predict(X_test)\n",
    "    error_rate.append(np.mean(y_knn_predict != y_test))\n",
    "print(\"Error rate:\",error_rate)"
   ]
  },
  {
   "cell_type": "code",
   "execution_count": 143,
   "id": "bfaca2eb-57ab-4fae-b5a8-d15c3883778b",
   "metadata": {},
   "outputs": [
    {
     "data": {
      "image/png": "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",
      "text/plain": [
       "<Figure size 1000x600 with 1 Axes>"
      ]
     },
     "metadata": {},
     "output_type": "display_data"
    }
   ],
   "source": [
    "# Step:2 Plotting the error rate\n",
    "plt.figure(figsize=(10,6))\n",
    "plt.plot(range(2,11),error_rate,color='blue', linestyle='dashed',marker='o',markerfacecolor='red', markersize=10)\n",
    "plt.title('Error Rate vs. K Value')\n",
    "plt.xlabel('K')\n",
    "plt.ylabel('Error Rate')\n",
    "plt.show()"
   ]
  },
  {
   "cell_type": "code",
   "execution_count": 144,
   "id": "cacefc48-6b9d-4951-9458-56e00a672b70",
   "metadata": {},
   "outputs": [],
   "source": [
    "# Step:3 Get nearst neighbors\n",
    "knn1 = KNeighborsClassifier(n_neighbors=4)\n",
    "\n",
    "# Step:4 Fitting the training data\n",
    "knn1.fit(X_train,y_train)\n",
    "\n",
    "# Step:5 Prediction on testing data\n",
    "knn_test_predict = knn1.predict(X_test)\n",
    "\n",
    "# Step:6 Prediction on training data\n",
    "knn_train_predict = knn1.predict(X_train)"
   ]
  },
  {
   "cell_type": "markdown",
   "id": "bf0da5bf-ad81-480f-8fa3-cc65e321d137",
   "metadata": {},
   "source": [
    "#### EVALUATION"
   ]
  },
  {
   "cell_type": "markdown",
   "id": "250b2ac3-9887-43b9-a0a9-4248fc74fa00",
   "metadata": {},
   "source": [
    "##### TRAINING ACCURACY"
   ]
  },
  {
   "cell_type": "code",
   "execution_count": 147,
   "id": "1a279c6f-5ece-48a0-aec7-3fe7cea922cb",
   "metadata": {},
   "outputs": [
    {
     "name": "stdout",
     "output_type": "stream",
     "text": [
      "Training accuracy of knn model  74.19578480310594\n",
      "Training classification report:\n",
      "               precision    recall  f1-score   support\n",
      "\n",
      "           0       0.80      0.72      0.76      4018\n",
      "           1       0.68      0.77      0.73      3194\n",
      "\n",
      "    accuracy                           0.74      7212\n",
      "   macro avg       0.74      0.75      0.74      7212\n",
      "weighted avg       0.75      0.74      0.74      7212\n",
      "\n"
     ]
    }
   ],
   "source": [
    "knn_train_accuracy = accuracy_score(y_train,knn_train_predict)\n",
    "print(\"Training accuracy of knn model \",knn_train_accuracy*100)\n",
    "print(\"Training classification report:\\n\",classification_report(knn_train_predict,y_train))"
   ]
  },
  {
   "cell_type": "markdown",
   "id": "16296096-74a6-4a9f-b89b-c748cbb80ade",
   "metadata": {},
   "source": [
    "- KNN claaifier model is slightly perform well on training data"
   ]
  },
  {
   "cell_type": "markdown",
   "id": "54c1e3f8-1d39-488d-aba7-b7eb8ec88739",
   "metadata": {},
   "source": [
    "##### TESTING ACCURACY"
   ]
  },
  {
   "cell_type": "code",
   "execution_count": 150,
   "id": "e9e24533-9cdc-45a0-996c-6f2e5e2a0f69",
   "metadata": {},
   "outputs": [
    {
     "name": "stdout",
     "output_type": "stream",
     "text": [
      "Testing accuracy of knn model 65.29933481152993\n",
      "Testing classification report: \n",
      "               precision    recall  f1-score   support\n",
      "\n",
      "           0       0.64      0.70      0.67       907\n",
      "           1       0.67      0.60      0.63       897\n",
      "\n",
      "    accuracy                           0.65      1804\n",
      "   macro avg       0.65      0.65      0.65      1804\n",
      "weighted avg       0.65      0.65      0.65      1804\n",
      "\n"
     ]
    }
   ],
   "source": [
    "knn_test_accuracy = accuracy_score(y_test,knn_test_predict)\n",
    "print(\"Testing accuracy of knn model\",knn_test_accuracy*100)\n",
    "print(\"Testing classification report: \\n\",classification_report(y_test,knn_test_predict))"
   ]
  },
  {
   "cell_type": "markdown",
   "id": "d1fb0cf6-5d74-43cf-a70f-868b45894f58",
   "metadata": {},
   "source": [
    "- But testing score is still lagging so  apply bagging"
   ]
  },
  {
   "cell_type": "markdown",
   "id": "5d798e44-ddd1-4756-865b-cde8f578fa29",
   "metadata": {},
   "source": [
    "##### USE BAGGING ON KNEIGHBOURS CLASSIFIER"
   ]
  },
  {
   "cell_type": "code",
   "execution_count": 153,
   "id": "0514ab6e-1947-4546-9677-b198b1ebeeec",
   "metadata": {},
   "outputs": [],
   "source": [
    "# step:1 Create a K-neighbour classifier object\n",
    "knn1 = KNeighborsClassifier(n_neighbors=3)\n",
    "\n",
    "# Step:2 importing library and creating bagging object\n",
    "from sklearn.ensemble import BaggingClassifier\n",
    "bagg = BaggingClassifier(estimator=knn1,n_estimators=50)\n",
    "#base_estimator---> algorithm which you want to pass\n",
    "#n_estimotors-----> number of base learners\n",
    "\n",
    "# Step:3 Fitting the training data\n",
    "bagg.fit(X_train,y_train)\n",
    "\n",
    "# Step:4 Prediction on test data\n",
    "bagg_predict = bagg.predict(X_test)"
   ]
  },
  {
   "cell_type": "markdown",
   "id": "507abdad-3ee9-4800-ada5-3db6183405a4",
   "metadata": {},
   "source": [
    "#### EVALUATION"
   ]
  },
  {
   "cell_type": "code",
   "execution_count": 155,
   "id": "ad66924b-f585-41da-a879-36a2a6d18992",
   "metadata": {},
   "outputs": [
    {
     "name": "stdout",
     "output_type": "stream",
     "text": [
      "Score after bagging: 69.90022172949001\n"
     ]
    }
   ],
   "source": [
    "bagg_accuracy = accuracy_score(y_test,bagg_predict)\n",
    "print(\"Score after bagging:\",bagg_accuracy*100)"
   ]
  },
  {
   "cell_type": "markdown",
   "id": "bb90fb46-b3aa-4b06-8eaf-d25634874381",
   "metadata": {},
   "source": [
    "* After apply bagging score is slightly improve"
   ]
  },
  {
   "cell_type": "markdown",
   "id": "b219cf7e-1255-4b6c-8c2b-cc7b31728eb5",
   "metadata": {},
   "source": [
    "#### 3.Decision Tree "
   ]
  },
  {
   "cell_type": "code",
   "execution_count": 158,
   "id": "213d7e25-01c5-40ec-b781-4881b91532d1",
   "metadata": {},
   "outputs": [],
   "source": [
    "# Step:1 Importing library and object creation\n",
    "from sklearn.tree import DecisionTreeClassifier\n",
    "\n",
    "dtc = DecisionTreeClassifier()\n",
    "\n",
    "# Step:2 fitting training data\n",
    "dtc.fit(X_train,y_train)\n",
    "\n",
    "# Step:3 Prediction on test data\n",
    "dtc_test_predict = dtc.predict(X_test)\n",
    "\n",
    "# Step:4 Prediction on training data\n",
    "dtc_train_predict = dtc.predict(X_train)"
   ]
  },
  {
   "cell_type": "markdown",
   "id": "d7ab1dec-4528-4442-874a-43efabc4b7f1",
   "metadata": {},
   "source": [
    "#### EVALUATION\n",
    "##### TRAINING ACCURACY"
   ]
  },
  {
   "cell_type": "code",
   "execution_count": 160,
   "id": "73de2854-b414-4dc3-b245-9e7bfbfaac40",
   "metadata": {},
   "outputs": [
    {
     "name": "stdout",
     "output_type": "stream",
     "text": [
      "Training accuracy of Decision tree classifier: 81.68330560177482\n",
      "classification report of training:\n",
      "               precision    recall  f1-score   support\n",
      "\n",
      "           0       0.81      0.83      0.82      3601\n",
      "           1       0.83      0.80      0.81      3611\n",
      "\n",
      "    accuracy                           0.82      7212\n",
      "   macro avg       0.82      0.82      0.82      7212\n",
      "weighted avg       0.82      0.82      0.82      7212\n",
      "\n"
     ]
    }
   ],
   "source": [
    "dtc_train_accuracy = accuracy_score(y_train,dtc_train_predict)\n",
    "print(\"Training accuracy of Decision tree classifier:\",dtc_train_accuracy*100)\n",
    "print(\"classification report of training:\"'\\n',classification_report(y_train,dtc_train_predict))"
   ]
  },
  {
   "cell_type": "markdown",
   "id": "30e023f8-7409-44bf-b9c9-a7287ac81e9a",
   "metadata": {},
   "source": [
    "- Decision tree classifier well train on training data"
   ]
  },
  {
   "cell_type": "markdown",
   "id": "3937b8dc-b52e-4b2f-a73a-c8c3ec0ac4b6",
   "metadata": {},
   "source": [
    "##### TESTING ACCURACY"
   ]
  },
  {
   "cell_type": "code",
   "execution_count": 163,
   "id": "92b4f76f-c2f5-4ae9-b05f-046d41d0d40b",
   "metadata": {},
   "outputs": [
    {
     "name": "stdout",
     "output_type": "stream",
     "text": [
      "Training accuracy of Decision tree classifier: 68.56984478935698\n",
      "classification report of training:\n",
      "               precision    recall  f1-score   support\n",
      "\n",
      "           0       0.69      0.69      0.69       907\n",
      "           1       0.68      0.69      0.68       897\n",
      "\n",
      "    accuracy                           0.69      1804\n",
      "   macro avg       0.69      0.69      0.69      1804\n",
      "weighted avg       0.69      0.69      0.69      1804\n",
      "\n"
     ]
    }
   ],
   "source": [
    "dtc_test_accuracy = accuracy_score(y_test,dtc_test_predict)\n",
    "print(\"Training accuracy of Decision tree classifier:\",dtc_test_accuracy*100)\n",
    "print(\"classification report of training:\"'\\n',classification_report(y_test,dtc_test_predict))"
   ]
  },
  {
   "cell_type": "markdown",
   "id": "69592b7d-ca9c-4c2c-a1c3-1eca34b60a8c",
   "metadata": {},
   "source": [
    "- But Not perform well on testing data so  apply hyperparameter tunning"
   ]
  },
  {
   "cell_type": "markdown",
   "id": "9c2a8b8a-6473-44a8-9cc7-35f8606f1169",
   "metadata": {},
   "source": [
    "##### HYPER PARAMETER TUNNING"
   ]
  },
  {
   "cell_type": "code",
   "execution_count": 166,
   "id": "abfd25b6-3a00-4350-9357-09fb8065f022",
   "metadata": {},
   "outputs": [
    {
     "name": "stdout",
     "output_type": "stream",
     "text": [
      "Fitting 3 folds for each of 4176 candidates, totalling 12528 fits\n",
      "Best paramters: {'criterion': 'gini', 'max_depth': 2, 'min_samples_leaf': 1, 'min_samples_split': 2, 'splitter': 'best'}\n"
     ]
    }
   ],
   "source": [
    "# Step:1 importing library\n",
    "from sklearn.model_selection import GridSearchCV\n",
    "\n",
    "# Step:2 Tunning the parameter\n",
    "params = {\n",
    "    \"criterion\":(\"gini\", \"entropy\"), \n",
    "    \"splitter\":(\"best\", \"random\"), \n",
    "    \"max_depth\":(list(range(1, 30))), \n",
    "    \"min_samples_split\":[2, 3, 4,5], \n",
    "    \"min_samples_leaf\":list(range(1, 10)), \n",
    "}\n",
    "\n",
    "\n",
    "tree_c = DecisionTreeClassifier(random_state=3)\n",
    "tree_cv = GridSearchCV(tree_c, params, scoring=\"f1\", n_jobs=-1, verbose=2, cv=3)\n",
    "\n",
    "# Fitting traning data\n",
    "tree_cv.fit(X_train,y_train)\n",
    "\n",
    "# Get the best parameter\n",
    "best_params = tree_cv.best_params_\n",
    "print(f\"Best paramters: {best_params}\")\n",
    "\n"
   ]
  },
  {
   "cell_type": "code",
   "execution_count": 167,
   "id": "004178c0-2411-4e5a-8170-70db12aa2b5b",
   "metadata": {},
   "outputs": [],
   "source": [
    "# Step:3 place the parameter on decision tree classifier\n",
    "dt1=DecisionTreeClassifier(criterion='gini',\n",
    "                           max_depth=13,min_samples_leaf=1,\n",
    "                           min_samples_split=2,splitter='best')"
   ]
  },
  {
   "cell_type": "code",
   "execution_count": 168,
   "id": "bc88d8d2-36e9-4507-9a5e-b27350e1a343",
   "metadata": {},
   "outputs": [],
   "source": [
    "# Step:4 fitting training data\n",
    "dt1.fit(X_train,y_train)\n",
    "\n",
    "# Step:5 prdiction on testing data\n",
    "yhat = dt1.predict(X_test)\n"
   ]
  },
  {
   "cell_type": "markdown",
   "id": "103b34b9-913c-4c83-8e82-7419f2f71e45",
   "metadata": {},
   "source": [
    "##### EVALUATION"
   ]
  },
  {
   "cell_type": "code",
   "execution_count": 170,
   "id": "b4cfc265-7e3d-467d-9a89-7e97589c160d",
   "metadata": {},
   "outputs": [
    {
     "name": "stdout",
     "output_type": "stream",
     "text": [
      "Accuracy score: 68.73614190687361\n",
      "Classification report:\n",
      "               precision    recall  f1-score   support\n",
      "\n",
      "           0       0.69      0.67      0.68       907\n",
      "           1       0.68      0.70      0.69       897\n",
      "\n",
      "    accuracy                           0.69      1804\n",
      "   macro avg       0.69      0.69      0.69      1804\n",
      "weighted avg       0.69      0.69      0.69      1804\n",
      "\n"
     ]
    }
   ],
   "source": [
    "dt1_test_accuracy = accuracy_score(y_test,yhat)\n",
    "print(\"Accuracy score:\",dt1_test_accuracy*100)\n",
    "print(\"Classification report:\"'\\n',classification_report(y_test,yhat))"
   ]
  },
  {
   "cell_type": "markdown",
   "id": "68666c2b-b544-434f-a892-85e4a72246cd",
   "metadata": {},
   "source": [
    "- Score not impove after hyperparameter tuning."
   ]
  },
  {
   "cell_type": "markdown",
   "id": "f2911cb4-c344-4ac5-b256-0a117ba6d365",
   "metadata": {},
   "source": [
    "#### 4.RandomForestClassifier"
   ]
  },
  {
   "cell_type": "code",
   "execution_count": 173,
   "id": "6be110df-a16e-4123-a111-4378a252af50",
   "metadata": {},
   "outputs": [],
   "source": [
    "# Step:1 import library and object creation\n",
    "from sklearn.ensemble import RandomForestClassifier\n",
    "rf = RandomForestClassifier()\n",
    "\n",
    "# Step:2 fitting the training data\n",
    "rf.fit(X_train,y_train)\n",
    "\n",
    "# Step:3 Prediction on test data\n",
    "rf_test_predict = rf.predict(X_test)\n",
    "\n",
    "# Step:4 Prediction on training data\n",
    "rf_train_predict = rf.predict(X_train)"
   ]
  },
  {
   "cell_type": "markdown",
   "id": "88fdadc3-c655-4f63-949a-26dec8485cdd",
   "metadata": {},
   "source": [
    "#### EVALUATION\n",
    "##### TRAINING ACCURACY"
   ]
  },
  {
   "cell_type": "code",
   "execution_count": 175,
   "id": "8e911b43-1613-4adc-acae-9d69b6a74eba",
   "metadata": {},
   "outputs": [
    {
     "name": "stdout",
     "output_type": "stream",
     "text": [
      "Training accuracy of random forest classifier: 81.68330560177482\n",
      "Classification report of training:\n",
      "               precision    recall  f1-score   support\n",
      "\n",
      "           0       0.83      0.80      0.81      3601\n",
      "           1       0.81      0.83      0.82      3611\n",
      "\n",
      "    accuracy                           0.82      7212\n",
      "   macro avg       0.82      0.82      0.82      7212\n",
      "weighted avg       0.82      0.82      0.82      7212\n",
      "\n"
     ]
    }
   ],
   "source": [
    "rf_train_accuracy = accuracy_score(y_train,rf_train_predict)\n",
    "print(\"Training accuracy of random forest classifier:\",rf_train_accuracy*100)\n",
    "print(\"Classification report of training:\"'\\n',classification_report(y_train,rf_train_predict))"
   ]
  },
  {
   "cell_type": "markdown",
   "id": "3d2053bc-78c9-4d05-8d6f-1716b7f8f124",
   "metadata": {},
   "source": [
    "- Random forest model well train on training data."
   ]
  },
  {
   "cell_type": "markdown",
   "id": "cd09034e-c89b-413d-8f0d-0272afa37921",
   "metadata": {},
   "source": [
    "##### TESTING ACCURACY"
   ]
  },
  {
   "cell_type": "code",
   "execution_count": 178,
   "id": "2bc18dc2-1ad2-473b-b39c-4cae1703fa35",
   "metadata": {},
   "outputs": [
    {
     "name": "stdout",
     "output_type": "stream",
     "text": [
      "Testing accuracy of random forest classifier: 70.45454545454545\n",
      "Classification report of training:\n",
      "               precision    recall  f1-score   support\n",
      "\n",
      "           0       0.72      0.68      0.70       907\n",
      "           1       0.69      0.73      0.71       897\n",
      "\n",
      "    accuracy                           0.70      1804\n",
      "   macro avg       0.71      0.70      0.70      1804\n",
      "weighted avg       0.71      0.70      0.70      1804\n",
      "\n"
     ]
    }
   ],
   "source": [
    "rf_test_accuracy = accuracy_score(y_test,rf_test_predict)\n",
    "print(\"Testing accuracy of random forest classifier:\",rf_test_accuracy*100)\n",
    "print(\"Classification report of training:\"'\\n',classification_report(y_test,rf_test_predict))"
   ]
  },
  {
   "cell_type": "markdown",
   "id": "17adda02-cd90-4b62-a29a-741c187a60f7",
   "metadata": {},
   "source": [
    "- But not perform well on testing side so  need to apply hyperparmeter tunning."
   ]
  },
  {
   "cell_type": "markdown",
   "id": "2fbd1d38-d6bd-4ef1-b4db-67d4ed54f6b9",
   "metadata": {},
   "source": [
    "##### HYPER PARAMETER TUNNING"
   ]
  },
  {
   "cell_type": "code",
   "execution_count": 181,
   "id": "de4dc5f8-6514-4058-8850-910616458e86",
   "metadata": {},
   "outputs": [
    {
     "name": "stdout",
     "output_type": "stream",
     "text": [
      "Fitting 3 folds for each of 100 candidates, totalling 300 fits\n",
      "Best paramters: {'n_estimators': 1788, 'min_samples_split': 2, 'min_samples_leaf': 2, 'max_features': 'sqrt', 'max_depth': 10})\n"
     ]
    }
   ],
   "source": [
    "# Step:1 [imutation of parameter]\n",
    "from sklearn.model_selection import RandomizedSearchCV\n",
    "# not used grid search cv beacuse memory reason\n",
    "\n",
    "n_estimators = [int(x) for x in np.linspace(start=100, stop=2000, num=10)]\n",
    "max_features = ['auto', 'sqrt'] ### auto - select randomly, sqrt - \n",
    "max_depth = [int(x) for x in np.linspace(10, 110, num=10)] ### level in the tree\n",
    "max_depth.append(None)\n",
    "min_samples_split = [2, 5, 15]\n",
    "min_samples_leaf = [1, 2, 4]\n",
    "\n",
    "\n",
    "# Step:2 make a dictionary of parameter\n",
    "random_grid = {'n_estimators': n_estimators, 'max_features': max_features,\n",
    "               'max_depth': max_depth, 'min_samples_split': min_samples_split,\n",
    "               'min_samples_leaf': min_samples_leaf}\n",
    "\n",
    "# Step:3 Object creation\n",
    "rf_clf1 = RandomForestClassifier(random_state=42) \n",
    "# provide random state beacuse select row and column randomly\n",
    "\n",
    "\n",
    "# Step:4 randomized search cv with parameter\n",
    "rf_cv = RandomizedSearchCV(estimator=rf_clf1, scoring='f1',param_distributions=random_grid, n_iter=100, cv=3, \n",
    "                               verbose=3, random_state=42, n_jobs=-1)\n",
    "\n",
    "\n",
    "# Step:5 fitting the training data\n",
    "rf_cv.fit(X_train, y_train)\n",
    "\n",
    "# Step:6 Getting the best parameter\n",
    "rf_best_params = rf_cv.best_params_\n",
    "print(f\"Best paramters: {rf_best_params})\")\n",
    " \n"
   ]
  },
  {
   "cell_type": "code",
   "execution_count": 182,
   "id": "1b12856b-bd93-4e8c-9925-bfaef8e9d314",
   "metadata": {},
   "outputs": [],
   "source": [
    "# Step:7 \n",
    "rf_clf2 = RandomForestClassifier(**rf_best_params)\n",
    "\n",
    "# Step:8 Fitting the training data\n",
    "rf_clf2.fit(X_train,y_train)\n",
    "\n",
    "# Step:9 Prediction on test data\n",
    "y_predict = rf_clf2.predict(X_test)\n"
   ]
  },
  {
   "cell_type": "markdown",
   "id": "11eac14f-4dbb-400c-9c30-bd753b0b07c9",
   "metadata": {},
   "source": [
    "##### EVALUATION"
   ]
  },
  {
   "cell_type": "code",
   "execution_count": 184,
   "id": "194a1423-0b40-40a0-b7ff-6ee93709b276",
   "metadata": {},
   "outputs": [
    {
     "name": "stdout",
     "output_type": "stream",
     "text": [
      "Testing accuracy after hyper parameter tunning: 71.61862527716187\n"
     ]
    }
   ],
   "source": [
    "test_accuracy = accuracy_score(y_test,y_predict)\n",
    "print(\"Testing accuracy after hyper parameter tunning:\",test_accuracy*100)"
   ]
  },
  {
   "cell_type": "markdown",
   "id": "962a111c-a750-4a2a-b195-e97cfdab51d4",
   "metadata": {},
   "source": [
    "- Random forest testing score after hyper parameter tunning."
   ]
  },
  {
   "cell_type": "markdown",
   "id": "77d09a4c-8f0a-4210-8ab4-80be4fa22c9e",
   "metadata": {},
   "source": [
    "#### 5.Gradient Boosting Classifier"
   ]
  },
  {
   "cell_type": "code",
   "execution_count": 187,
   "id": "d9a29faa-25ae-462b-90cb-60c7dd3de207",
   "metadata": {},
   "outputs": [],
   "source": [
    "# Step:1 Object cretion\n",
    "from sklearn.ensemble import GradientBoostingClassifier\n",
    "gbm=GradientBoostingClassifier(learning_rate=0.1,n_estimators=150,random_state=42)\n",
    "\n",
    "# Step:2 fitting the training data\n",
    "gbm.fit(X_train,y_train) ## fitting the data\n",
    "\n",
    "# Step:3 prediction on test data\n",
    "gbm_test_predict=gbm.predict(X_test)\n",
    "\n",
    "# Step:4 Prediction on train data\n",
    "gbm_train_predict = gbm.predict(X_train)"
   ]
  },
  {
   "cell_type": "markdown",
   "id": "42741782-7697-4cf2-b6a1-74d5fa42a15a",
   "metadata": {},
   "source": [
    "#### EVALUATION\n",
    "##### TRAINING ACCURACY"
   ]
  },
  {
   "cell_type": "code",
   "execution_count": 189,
   "id": "0f1859bb-c7dd-4386-bf38-07a31d8672af",
   "metadata": {},
   "outputs": [
    {
     "name": "stdout",
     "output_type": "stream",
     "text": [
      "Grediant boosting classifier training accuracy: 72.32390460343872\n",
      "Classification report of training:\n",
      "               precision    recall  f1-score   support\n",
      "\n",
      "           0       0.74      0.68      0.71      3601\n",
      "           1       0.71      0.77      0.73      3611\n",
      "\n",
      "    accuracy                           0.72      7212\n",
      "   macro avg       0.72      0.72      0.72      7212\n",
      "weighted avg       0.72      0.72      0.72      7212\n",
      "\n"
     ]
    }
   ],
   "source": [
    "gbm_train_accuracy = accuracy_score(y_train,gbm_train_predict)\n",
    "print(\"Grediant boosting classifier training accuracy:\",gbm_train_accuracy*100)\n",
    "print(\"Classification report of training:\"'\\n',classification_report(y_train,gbm_train_predict))"
   ]
  },
  {
   "cell_type": "code",
   "execution_count": 190,
   "id": "a7c27529-39ed-43e6-8d00-4d11eec251a2",
   "metadata": {},
   "outputs": [
    {
     "name": "stdout",
     "output_type": "stream",
     "text": [
      "Grediant boosting classifier testing accuracy: 70.62084257206209\n",
      "Classification report of testing:\n",
      "               precision    recall  f1-score   support\n",
      "\n",
      "           0       0.72      0.67      0.70       907\n",
      "           1       0.69      0.74      0.72       897\n",
      "\n",
      "    accuracy                           0.71      1804\n",
      "   macro avg       0.71      0.71      0.71      1804\n",
      "weighted avg       0.71      0.71      0.71      1804\n",
      "\n"
     ]
    }
   ],
   "source": [
    "gbm_test_accuracy = accuracy_score(y_test,gbm_test_predict)\n",
    "print(\"Grediant boosting classifier testing accuracy:\",gbm_test_accuracy*100)\n",
    "print(\"Classification report of testing:\"'\\n',classification_report(y_test,gbm_test_predict))"
   ]
  },
  {
   "cell_type": "markdown",
   "id": "90b3a33f-1e25-4175-bc9e-08f04021cff9",
   "metadata": {},
   "source": [
    "- Grediant bossting classifier is well work on training and testing side."
   ]
  },
  {
   "cell_type": "markdown",
   "id": "3b7095d2-b11b-4068-83ae-a28886468db9",
   "metadata": {},
   "source": [
    "#### 6.XGB Classifier"
   ]
  },
  {
   "cell_type": "code",
   "execution_count": 193,
   "id": "f7a51c07-dcf2-4c5b-9f1b-e712dc4392b8",
   "metadata": {},
   "outputs": [],
   "source": [
    "# Step:1 import library and object creation\n",
    "import xgboost\n",
    "from xgboost import XGBClassifier\n",
    "xgb = XGBClassifier()\n",
    "\n",
    "# Step:2 Fitting the training data\n",
    "xgb.fit(X_train,y_train)\n",
    "\n",
    "# Step:3 Prediction on training data\n",
    "xgb_train_predict = xgb.predict(X_train)\n",
    "\n",
    "# Step:4 Prediction on testing data\n",
    "xgb_test_predict = xgb.predict(X_test)"
   ]
  },
  {
   "cell_type": "markdown",
   "id": "f6ccb8c4-8613-446b-893c-50c1f62eaadb",
   "metadata": {},
   "source": [
    "#### EVALUATION"
   ]
  },
  {
   "cell_type": "markdown",
   "id": "74b44a55-f7ce-4cf0-bcf1-b7964a446e54",
   "metadata": {},
   "source": [
    "###### TRAINING ACCURACY"
   ]
  },
  {
   "cell_type": "code",
   "execution_count": 196,
   "id": "8bdb4e22-c0d5-42f7-94ee-e1d5ba97b26a",
   "metadata": {},
   "outputs": [
    {
     "name": "stdout",
     "output_type": "stream",
     "text": [
      "Training accuracy of xgb model 77.57903494176372\n",
      "Classifiaction report on training: \n",
      "               precision    recall  f1-score   support\n",
      "\n",
      "           0       0.75      0.79      0.77      3414\n",
      "           1       0.80      0.76      0.78      3798\n",
      "\n",
      "    accuracy                           0.78      7212\n",
      "   macro avg       0.78      0.78      0.78      7212\n",
      "weighted avg       0.78      0.78      0.78      7212\n",
      "\n"
     ]
    }
   ],
   "source": [
    "xgb_train_accuracy = accuracy_score(xgb_train_predict,y_train)\n",
    "print(\"Training accuracy of xgb model\",xgb_train_accuracy*100)\n",
    "print(\"Classifiaction report on training: \\n\",classification_report(xgb_train_predict,y_train))"
   ]
  },
  {
   "cell_type": "markdown",
   "id": "cf3d446a-2274-4c78-b567-8161a39c5a49",
   "metadata": {},
   "source": [
    "- XGB classifier model is not perform well on training side"
   ]
  },
  {
   "cell_type": "markdown",
   "id": "264ede93-875e-488d-93b5-22db20c6ec0d",
   "metadata": {},
   "source": [
    "##### TEST ACCURACY"
   ]
  },
  {
   "cell_type": "code",
   "execution_count": 199,
   "id": "4b2cf7fa-1f4d-48d8-a414-97ece9ac1a52",
   "metadata": {},
   "outputs": [
    {
     "name": "stdout",
     "output_type": "stream",
     "text": [
      "Testing accuracy of xgb model 70.62084257206209\n",
      "Classification report on testing: \n",
      "               precision    recall  f1-score   support\n",
      "\n",
      "           0       0.68      0.72      0.70       851\n",
      "           1       0.74      0.69      0.71       953\n",
      "\n",
      "    accuracy                           0.71      1804\n",
      "   macro avg       0.71      0.71      0.71      1804\n",
      "weighted avg       0.71      0.71      0.71      1804\n",
      "\n"
     ]
    }
   ],
   "source": [
    "xgb_test_accuracy = accuracy_score(xgb_test_predict,y_test)\n",
    "print(\"Testing accuracy of xgb model\",xgb_test_accuracy*100)\n",
    "print(\"Classification report on testing: \\n\",classification_report(xgb_test_predict,y_test))"
   ]
  },
  {
   "cell_type": "markdown",
   "id": "e52d4929-30cb-4f9d-bc75-8d2a7c1ebd82",
   "metadata": {},
   "source": [
    "- Testing score still lagging"
   ]
  },
  {
   "cell_type": "markdown",
   "id": "4ef813b4-2248-460f-9c02-bc585b3e59fc",
   "metadata": {},
   "source": [
    "##### HYPER PARAMETER TUNNING"
   ]
  },
  {
   "cell_type": "code",
   "execution_count": 202,
   "id": "2d631604-fe74-4e1c-a193-345d25b72c0c",
   "metadata": {},
   "outputs": [
    {
     "name": "stdout",
     "output_type": "stream",
     "text": [
      "Fitting 5 folds for each of 150 candidates, totalling 750 fits\n",
      "Best parameter: {'reg_lambda': 0, 'reg_alpha': 0.1, 'n_estimators': 80, 'max_depth': 7, 'learning_rate': 0.1, 'gamma': 0.8}\n"
     ]
    }
   ],
   "source": [
    "# Step:1 import library \n",
    "from sklearn.model_selection import RandomizedSearchCV\n",
    "param_grid = {'gamma': [0,0.1,0.2,0.4,0.8,1.6,3.2,6.4,12.8,25.6,51.2,102.4, 200],\n",
    "              'learning_rate': [0.001,0.01,0.1, 0.03, 0.06, 0.1, 0.15, 0.02,0.003, 0.4, 0.5, 0.6, 0.7],\n",
    "              'max_depth': [3,5,6,7,8,10],\n",
    "              'n_estimators': [50,65,80,100,130,150],\n",
    "              'reg_alpha': [0,0.01,0.1,0.02,0.2,0.4,0.8,1.6,6.4,12.8,25.6,51.2,102.4,200],\n",
    "              'reg_lambda': [0,0.01,0.1,0.02,0.2,0.4,0.8,1.6,3.2,6.4,12.8,25.6,51.2,102.4,200]}\n",
    "\n",
    "# Step:2 Object creation with parameter\n",
    "XGB = XGBClassifier(random_state=42)\n",
    "\n",
    "# Step:3 Create randomized search cv with parameter\n",
    "rcv = RandomizedSearchCV(estimator=XGB,scoring='f1',param_distributions=param_grid,n_iter=150,\n",
    "                        cv=5,verbose=3,random_state=5,n_jobs=-1)\n",
    "\n",
    "#estimator--number of decision tree\n",
    "#scoring--->performance matrix to check performance\n",
    "#param_distribution-->hyperparametes(dictionary we created)\n",
    "#n_iter--->Number of parameter settings that are sampled. n_iter trades off runtime vs quality of the solution.default=10\n",
    "##cv------> number of flods\n",
    "#verbose=Controls the verbosity: the higher, the more messages.\n",
    "#n_jobs---->Number of jobs to run in parallel,-1 means using all processors.\n",
    "\n",
    "# Step:4 Fitting training data on randomized search cv\n",
    "rcv.fit(X_train,y_train)\n",
    "\n",
    "# Step:5 Get best parameters\n",
    "rcv_best_parameter = rcv.best_params_\n",
    "print(f\"Best parameter: {rcv_best_parameter}\")\n"
   ]
  },
  {
   "cell_type": "code",
   "execution_count": 203,
   "id": "543ee497-d794-4299-98c5-1ec869de23e2",
   "metadata": {},
   "outputs": [],
   "source": [
    "# Step:6 Place the best parameter\n",
    "XGB2 = XGBClassifier(reg_lambda=25.6,reg_alpha=0.8,n_estimators=150,max_depth=10,learning_rate=0.4,gamma=0.2)\n",
    "\n",
    "# Step:7 Fitting the training data\n",
    "XGB2.fit(X_train,y_train)\n",
    "\n",
    "# Step:8 Prediction on testing data\n",
    "XGB_prediction = XGB2.predict(X_test)"
   ]
  },
  {
   "cell_type": "code",
   "execution_count": 204,
   "id": "e33858a1-0a29-4272-b8bb-8c85816825a6",
   "metadata": {},
   "outputs": [
    {
     "name": "stdout",
     "output_type": "stream",
     "text": [
      "Accuracy score after hyperparameter tunning 70.89800443458981\n",
      "Classification report: \n",
      "               precision    recall  f1-score   support\n",
      "\n",
      "           0       0.68      0.72      0.70       852\n",
      "           1       0.74      0.70      0.72       952\n",
      "\n",
      "    accuracy                           0.71      1804\n",
      "   macro avg       0.71      0.71      0.71      1804\n",
      "weighted avg       0.71      0.71      0.71      1804\n",
      "\n"
     ]
    }
   ],
   "source": [
    "XGB_accuracy = accuracy_score(XGB_prediction,y_test)\n",
    "print(\"Accuracy score after hyperparameter tunning\",XGB_accuracy*100)\n",
    "print(\"Classification report: \\n\",classification_report(XGB_prediction,y_test))"
   ]
  },
  {
   "cell_type": "markdown",
   "id": "30e055a9-534e-4a44-adf1-ee4e9e44f629",
   "metadata": {},
   "source": [
    "- After hyper-parameter tunning score is slightly improve"
   ]
  },
  {
   "cell_type": "markdown",
   "id": "58eff31f-4b0f-427e-a016-fc7674311897",
   "metadata": {},
   "source": [
    "#### 7.Artifial Neural Network"
   ]
  },
  {
   "cell_type": "code",
   "execution_count": 207,
   "id": "2b913dc2-d043-4250-95cc-b636b21fbc6f",
   "metadata": {},
   "outputs": [
    {
     "data": {
      "text/html": [
       "<style>#sk-container-id-1 {\n",
       "  /* Definition of color scheme common for light and dark mode */\n",
       "  --sklearn-color-text: black;\n",
       "  --sklearn-color-line: gray;\n",
       "  /* Definition of color scheme for unfitted estimators */\n",
       "  --sklearn-color-unfitted-level-0: #fff5e6;\n",
       "  --sklearn-color-unfitted-level-1: #f6e4d2;\n",
       "  --sklearn-color-unfitted-level-2: #ffe0b3;\n",
       "  --sklearn-color-unfitted-level-3: chocolate;\n",
       "  /* Definition of color scheme for fitted estimators */\n",
       "  --sklearn-color-fitted-level-0: #f0f8ff;\n",
       "  --sklearn-color-fitted-level-1: #d4ebff;\n",
       "  --sklearn-color-fitted-level-2: #b3dbfd;\n",
       "  --sklearn-color-fitted-level-3: cornflowerblue;\n",
       "\n",
       "  /* Specific color for light theme */\n",
       "  --sklearn-color-text-on-default-background: var(--sg-text-color, var(--theme-code-foreground, var(--jp-content-font-color1, black)));\n",
       "  --sklearn-color-background: var(--sg-background-color, var(--theme-background, var(--jp-layout-color0, white)));\n",
       "  --sklearn-color-border-box: var(--sg-text-color, var(--theme-code-foreground, var(--jp-content-font-color1, black)));\n",
       "  --sklearn-color-icon: #696969;\n",
       "\n",
       "  @media (prefers-color-scheme: dark) {\n",
       "    /* Redefinition of color scheme for dark theme */\n",
       "    --sklearn-color-text-on-default-background: var(--sg-text-color, var(--theme-code-foreground, var(--jp-content-font-color1, white)));\n",
       "    --sklearn-color-background: var(--sg-background-color, var(--theme-background, var(--jp-layout-color0, #111)));\n",
       "    --sklearn-color-border-box: var(--sg-text-color, var(--theme-code-foreground, var(--jp-content-font-color1, white)));\n",
       "    --sklearn-color-icon: #878787;\n",
       "  }\n",
       "}\n",
       "\n",
       "#sk-container-id-1 {\n",
       "  color: var(--sklearn-color-text);\n",
       "}\n",
       "\n",
       "#sk-container-id-1 pre {\n",
       "  padding: 0;\n",
       "}\n",
       "\n",
       "#sk-container-id-1 input.sk-hidden--visually {\n",
       "  border: 0;\n",
       "  clip: rect(1px 1px 1px 1px);\n",
       "  clip: rect(1px, 1px, 1px, 1px);\n",
       "  height: 1px;\n",
       "  margin: -1px;\n",
       "  overflow: hidden;\n",
       "  padding: 0;\n",
       "  position: absolute;\n",
       "  width: 1px;\n",
       "}\n",
       "\n",
       "#sk-container-id-1 div.sk-dashed-wrapped {\n",
       "  border: 1px dashed var(--sklearn-color-line);\n",
       "  margin: 0 0.4em 0.5em 0.4em;\n",
       "  box-sizing: border-box;\n",
       "  padding-bottom: 0.4em;\n",
       "  background-color: var(--sklearn-color-background);\n",
       "}\n",
       "\n",
       "#sk-container-id-1 div.sk-container {\n",
       "  /* jupyter's `normalize.less` sets `[hidden] { display: none; }`\n",
       "     but bootstrap.min.css set `[hidden] { display: none !important; }`\n",
       "     so we also need the `!important` here to be able to override the\n",
       "     default hidden behavior on the sphinx rendered scikit-learn.org.\n",
       "     See: https://github.com/scikit-learn/scikit-learn/issues/21755 */\n",
       "  display: inline-block !important;\n",
       "  position: relative;\n",
       "}\n",
       "\n",
       "#sk-container-id-1 div.sk-text-repr-fallback {\n",
       "  display: none;\n",
       "}\n",
       "\n",
       "div.sk-parallel-item,\n",
       "div.sk-serial,\n",
       "div.sk-item {\n",
       "  /* draw centered vertical line to link estimators */\n",
       "  background-image: linear-gradient(var(--sklearn-color-text-on-default-background), var(--sklearn-color-text-on-default-background));\n",
       "  background-size: 2px 100%;\n",
       "  background-repeat: no-repeat;\n",
       "  background-position: center center;\n",
       "}\n",
       "\n",
       "/* Parallel-specific style estimator block */\n",
       "\n",
       "#sk-container-id-1 div.sk-parallel-item::after {\n",
       "  content: \"\";\n",
       "  width: 100%;\n",
       "  border-bottom: 2px solid var(--sklearn-color-text-on-default-background);\n",
       "  flex-grow: 1;\n",
       "}\n",
       "\n",
       "#sk-container-id-1 div.sk-parallel {\n",
       "  display: flex;\n",
       "  align-items: stretch;\n",
       "  justify-content: center;\n",
       "  background-color: var(--sklearn-color-background);\n",
       "  position: relative;\n",
       "}\n",
       "\n",
       "#sk-container-id-1 div.sk-parallel-item {\n",
       "  display: flex;\n",
       "  flex-direction: column;\n",
       "}\n",
       "\n",
       "#sk-container-id-1 div.sk-parallel-item:first-child::after {\n",
       "  align-self: flex-end;\n",
       "  width: 50%;\n",
       "}\n",
       "\n",
       "#sk-container-id-1 div.sk-parallel-item:last-child::after {\n",
       "  align-self: flex-start;\n",
       "  width: 50%;\n",
       "}\n",
       "\n",
       "#sk-container-id-1 div.sk-parallel-item:only-child::after {\n",
       "  width: 0;\n",
       "}\n",
       "\n",
       "/* Serial-specific style estimator block */\n",
       "\n",
       "#sk-container-id-1 div.sk-serial {\n",
       "  display: flex;\n",
       "  flex-direction: column;\n",
       "  align-items: center;\n",
       "  background-color: var(--sklearn-color-background);\n",
       "  padding-right: 1em;\n",
       "  padding-left: 1em;\n",
       "}\n",
       "\n",
       "\n",
       "/* Toggleable style: style used for estimator/Pipeline/ColumnTransformer box that is\n",
       "clickable and can be expanded/collapsed.\n",
       "- Pipeline and ColumnTransformer use this feature and define the default style\n",
       "- Estimators will overwrite some part of the style using the `sk-estimator` class\n",
       "*/\n",
       "\n",
       "/* Pipeline and ColumnTransformer style (default) */\n",
       "\n",
       "#sk-container-id-1 div.sk-toggleable {\n",
       "  /* Default theme specific background. It is overwritten whether we have a\n",
       "  specific estimator or a Pipeline/ColumnTransformer */\n",
       "  background-color: var(--sklearn-color-background);\n",
       "}\n",
       "\n",
       "/* Toggleable label */\n",
       "#sk-container-id-1 label.sk-toggleable__label {\n",
       "  cursor: pointer;\n",
       "  display: block;\n",
       "  width: 100%;\n",
       "  margin-bottom: 0;\n",
       "  padding: 0.5em;\n",
       "  box-sizing: border-box;\n",
       "  text-align: center;\n",
       "}\n",
       "\n",
       "#sk-container-id-1 label.sk-toggleable__label-arrow:before {\n",
       "  /* Arrow on the left of the label */\n",
       "  content: \"▸\";\n",
       "  float: left;\n",
       "  margin-right: 0.25em;\n",
       "  color: var(--sklearn-color-icon);\n",
       "}\n",
       "\n",
       "#sk-container-id-1 label.sk-toggleable__label-arrow:hover:before {\n",
       "  color: var(--sklearn-color-text);\n",
       "}\n",
       "\n",
       "/* Toggleable content - dropdown */\n",
       "\n",
       "#sk-container-id-1 div.sk-toggleable__content {\n",
       "  max-height: 0;\n",
       "  max-width: 0;\n",
       "  overflow: hidden;\n",
       "  text-align: left;\n",
       "  /* unfitted */\n",
       "  background-color: var(--sklearn-color-unfitted-level-0);\n",
       "}\n",
       "\n",
       "#sk-container-id-1 div.sk-toggleable__content.fitted {\n",
       "  /* fitted */\n",
       "  background-color: var(--sklearn-color-fitted-level-0);\n",
       "}\n",
       "\n",
       "#sk-container-id-1 div.sk-toggleable__content pre {\n",
       "  margin: 0.2em;\n",
       "  border-radius: 0.25em;\n",
       "  color: var(--sklearn-color-text);\n",
       "  /* unfitted */\n",
       "  background-color: var(--sklearn-color-unfitted-level-0);\n",
       "}\n",
       "\n",
       "#sk-container-id-1 div.sk-toggleable__content.fitted pre {\n",
       "  /* unfitted */\n",
       "  background-color: var(--sklearn-color-fitted-level-0);\n",
       "}\n",
       "\n",
       "#sk-container-id-1 input.sk-toggleable__control:checked~div.sk-toggleable__content {\n",
       "  /* Expand drop-down */\n",
       "  max-height: 200px;\n",
       "  max-width: 100%;\n",
       "  overflow: auto;\n",
       "}\n",
       "\n",
       "#sk-container-id-1 input.sk-toggleable__control:checked~label.sk-toggleable__label-arrow:before {\n",
       "  content: \"▾\";\n",
       "}\n",
       "\n",
       "/* Pipeline/ColumnTransformer-specific style */\n",
       "\n",
       "#sk-container-id-1 div.sk-label input.sk-toggleable__control:checked~label.sk-toggleable__label {\n",
       "  color: var(--sklearn-color-text);\n",
       "  background-color: var(--sklearn-color-unfitted-level-2);\n",
       "}\n",
       "\n",
       "#sk-container-id-1 div.sk-label.fitted input.sk-toggleable__control:checked~label.sk-toggleable__label {\n",
       "  background-color: var(--sklearn-color-fitted-level-2);\n",
       "}\n",
       "\n",
       "/* Estimator-specific style */\n",
       "\n",
       "/* Colorize estimator box */\n",
       "#sk-container-id-1 div.sk-estimator input.sk-toggleable__control:checked~label.sk-toggleable__label {\n",
       "  /* unfitted */\n",
       "  background-color: var(--sklearn-color-unfitted-level-2);\n",
       "}\n",
       "\n",
       "#sk-container-id-1 div.sk-estimator.fitted input.sk-toggleable__control:checked~label.sk-toggleable__label {\n",
       "  /* fitted */\n",
       "  background-color: var(--sklearn-color-fitted-level-2);\n",
       "}\n",
       "\n",
       "#sk-container-id-1 div.sk-label label.sk-toggleable__label,\n",
       "#sk-container-id-1 div.sk-label label {\n",
       "  /* The background is the default theme color */\n",
       "  color: var(--sklearn-color-text-on-default-background);\n",
       "}\n",
       "\n",
       "/* On hover, darken the color of the background */\n",
       "#sk-container-id-1 div.sk-label:hover label.sk-toggleable__label {\n",
       "  color: var(--sklearn-color-text);\n",
       "  background-color: var(--sklearn-color-unfitted-level-2);\n",
       "}\n",
       "\n",
       "/* Label box, darken color on hover, fitted */\n",
       "#sk-container-id-1 div.sk-label.fitted:hover label.sk-toggleable__label.fitted {\n",
       "  color: var(--sklearn-color-text);\n",
       "  background-color: var(--sklearn-color-fitted-level-2);\n",
       "}\n",
       "\n",
       "/* Estimator label */\n",
       "\n",
       "#sk-container-id-1 div.sk-label label {\n",
       "  font-family: monospace;\n",
       "  font-weight: bold;\n",
       "  display: inline-block;\n",
       "  line-height: 1.2em;\n",
       "}\n",
       "\n",
       "#sk-container-id-1 div.sk-label-container {\n",
       "  text-align: center;\n",
       "}\n",
       "\n",
       "/* Estimator-specific */\n",
       "#sk-container-id-1 div.sk-estimator {\n",
       "  font-family: monospace;\n",
       "  border: 1px dotted var(--sklearn-color-border-box);\n",
       "  border-radius: 0.25em;\n",
       "  box-sizing: border-box;\n",
       "  margin-bottom: 0.5em;\n",
       "  /* unfitted */\n",
       "  background-color: var(--sklearn-color-unfitted-level-0);\n",
       "}\n",
       "\n",
       "#sk-container-id-1 div.sk-estimator.fitted {\n",
       "  /* fitted */\n",
       "  background-color: var(--sklearn-color-fitted-level-0);\n",
       "}\n",
       "\n",
       "/* on hover */\n",
       "#sk-container-id-1 div.sk-estimator:hover {\n",
       "  /* unfitted */\n",
       "  background-color: var(--sklearn-color-unfitted-level-2);\n",
       "}\n",
       "\n",
       "#sk-container-id-1 div.sk-estimator.fitted:hover {\n",
       "  /* fitted */\n",
       "  background-color: var(--sklearn-color-fitted-level-2);\n",
       "}\n",
       "\n",
       "/* Specification for estimator info (e.g. \"i\" and \"?\") */\n",
       "\n",
       "/* Common style for \"i\" and \"?\" */\n",
       "\n",
       ".sk-estimator-doc-link,\n",
       "a:link.sk-estimator-doc-link,\n",
       "a:visited.sk-estimator-doc-link {\n",
       "  float: right;\n",
       "  font-size: smaller;\n",
       "  line-height: 1em;\n",
       "  font-family: monospace;\n",
       "  background-color: var(--sklearn-color-background);\n",
       "  border-radius: 1em;\n",
       "  height: 1em;\n",
       "  width: 1em;\n",
       "  text-decoration: none !important;\n",
       "  margin-left: 1ex;\n",
       "  /* unfitted */\n",
       "  border: var(--sklearn-color-unfitted-level-1) 1pt solid;\n",
       "  color: var(--sklearn-color-unfitted-level-1);\n",
       "}\n",
       "\n",
       ".sk-estimator-doc-link.fitted,\n",
       "a:link.sk-estimator-doc-link.fitted,\n",
       "a:visited.sk-estimator-doc-link.fitted {\n",
       "  /* fitted */\n",
       "  border: var(--sklearn-color-fitted-level-1) 1pt solid;\n",
       "  color: var(--sklearn-color-fitted-level-1);\n",
       "}\n",
       "\n",
       "/* On hover */\n",
       "div.sk-estimator:hover .sk-estimator-doc-link:hover,\n",
       ".sk-estimator-doc-link:hover,\n",
       "div.sk-label-container:hover .sk-estimator-doc-link:hover,\n",
       ".sk-estimator-doc-link:hover {\n",
       "  /* unfitted */\n",
       "  background-color: var(--sklearn-color-unfitted-level-3);\n",
       "  color: var(--sklearn-color-background);\n",
       "  text-decoration: none;\n",
       "}\n",
       "\n",
       "div.sk-estimator.fitted:hover .sk-estimator-doc-link.fitted:hover,\n",
       ".sk-estimator-doc-link.fitted:hover,\n",
       "div.sk-label-container:hover .sk-estimator-doc-link.fitted:hover,\n",
       ".sk-estimator-doc-link.fitted:hover {\n",
       "  /* fitted */\n",
       "  background-color: var(--sklearn-color-fitted-level-3);\n",
       "  color: var(--sklearn-color-background);\n",
       "  text-decoration: none;\n",
       "}\n",
       "\n",
       "/* Span, style for the box shown on hovering the info icon */\n",
       ".sk-estimator-doc-link span {\n",
       "  display: none;\n",
       "  z-index: 9999;\n",
       "  position: relative;\n",
       "  font-weight: normal;\n",
       "  right: .2ex;\n",
       "  padding: .5ex;\n",
       "  margin: .5ex;\n",
       "  width: min-content;\n",
       "  min-width: 20ex;\n",
       "  max-width: 50ex;\n",
       "  color: var(--sklearn-color-text);\n",
       "  box-shadow: 2pt 2pt 4pt #999;\n",
       "  /* unfitted */\n",
       "  background: var(--sklearn-color-unfitted-level-0);\n",
       "  border: .5pt solid var(--sklearn-color-unfitted-level-3);\n",
       "}\n",
       "\n",
       ".sk-estimator-doc-link.fitted span {\n",
       "  /* fitted */\n",
       "  background: var(--sklearn-color-fitted-level-0);\n",
       "  border: var(--sklearn-color-fitted-level-3);\n",
       "}\n",
       "\n",
       ".sk-estimator-doc-link:hover span {\n",
       "  display: block;\n",
       "}\n",
       "\n",
       "/* \"?\"-specific style due to the `<a>` HTML tag */\n",
       "\n",
       "#sk-container-id-1 a.estimator_doc_link {\n",
       "  float: right;\n",
       "  font-size: 1rem;\n",
       "  line-height: 1em;\n",
       "  font-family: monospace;\n",
       "  background-color: var(--sklearn-color-background);\n",
       "  border-radius: 1rem;\n",
       "  height: 1rem;\n",
       "  width: 1rem;\n",
       "  text-decoration: none;\n",
       "  /* unfitted */\n",
       "  color: var(--sklearn-color-unfitted-level-1);\n",
       "  border: var(--sklearn-color-unfitted-level-1) 1pt solid;\n",
       "}\n",
       "\n",
       "#sk-container-id-1 a.estimator_doc_link.fitted {\n",
       "  /* fitted */\n",
       "  border: var(--sklearn-color-fitted-level-1) 1pt solid;\n",
       "  color: var(--sklearn-color-fitted-level-1);\n",
       "}\n",
       "\n",
       "/* On hover */\n",
       "#sk-container-id-1 a.estimator_doc_link:hover {\n",
       "  /* unfitted */\n",
       "  background-color: var(--sklearn-color-unfitted-level-3);\n",
       "  color: var(--sklearn-color-background);\n",
       "  text-decoration: none;\n",
       "}\n",
       "\n",
       "#sk-container-id-1 a.estimator_doc_link.fitted:hover {\n",
       "  /* fitted */\n",
       "  background-color: var(--sklearn-color-fitted-level-3);\n",
       "}\n",
       "</style><div id=\"sk-container-id-1\" class=\"sk-top-container\"><div class=\"sk-text-repr-fallback\"><pre>MLPClassifier(hidden_layer_sizes=(50, 2), max_iter=1000, random_state=45)</pre><b>In a Jupyter environment, please rerun this cell to show the HTML representation or trust the notebook. <br />On GitHub, the HTML representation is unable to render, please try loading this page with nbviewer.org.</b></div><div class=\"sk-container\" hidden><div class=\"sk-item\"><div class=\"sk-estimator fitted sk-toggleable\"><input class=\"sk-toggleable__control sk-hidden--visually\" id=\"sk-estimator-id-1\" type=\"checkbox\" checked><label for=\"sk-estimator-id-1\" class=\"sk-toggleable__label fitted sk-toggleable__label-arrow fitted\">&nbsp;&nbsp;MLPClassifier<a class=\"sk-estimator-doc-link fitted\" rel=\"noreferrer\" target=\"_blank\" href=\"https://scikit-learn.org/1.4/modules/generated/sklearn.neural_network.MLPClassifier.html\">?<span>Documentation for MLPClassifier</span></a><span class=\"sk-estimator-doc-link fitted\">i<span>Fitted</span></span></label><div class=\"sk-toggleable__content fitted\"><pre>MLPClassifier(hidden_layer_sizes=(50, 2), max_iter=1000, random_state=45)</pre></div> </div></div></div></div>"
      ],
      "text/plain": [
       "MLPClassifier(hidden_layer_sizes=(50, 2), max_iter=1000, random_state=45)"
      ]
     },
     "execution_count": 207,
     "metadata": {},
     "output_type": "execute_result"
    }
   ],
   "source": [
    "# Step:1 Importing library and object creation\n",
    "from sklearn.neural_network import MLPClassifier\n",
    "model = MLPClassifier(hidden_layer_sizes=(50,2),\n",
    "                      learning_rate='constant',\n",
    "                      max_iter=1000,\n",
    "                      random_state=45)\n",
    "\n",
    "# Step:2 Fitting the training data\n",
    "model.fit(X_train,y_train)\n",
    "\n"
   ]
  },
  {
   "cell_type": "code",
   "execution_count": 208,
   "id": "4c7b83e0-cb72-4d47-b6c7-ddb6788f5e8b",
   "metadata": {},
   "outputs": [
    {
     "data": {
      "text/plain": [
       "array([[0.29483374, 0.70516626],\n",
       "       [0.44152516, 0.55847484],\n",
       "       [0.85677526, 0.14322474],\n",
       "       ...,\n",
       "       [0.41208944, 0.58791056],\n",
       "       [0.40728236, 0.59271764],\n",
       "       [0.47951161, 0.52048839]])"
      ]
     },
     "execution_count": 208,
     "metadata": {},
     "output_type": "execute_result"
    }
   ],
   "source": [
    "# Step:3 Predicting the probability\n",
    "mlp_prdict_probability = model.predict_proba(X_test)\n",
    "mlp_prdict_probability"
   ]
  },
  {
   "cell_type": "code",
   "execution_count": 209,
   "id": "a32e2657-faad-476f-a7a0-bf176e4a2bb4",
   "metadata": {},
   "outputs": [],
   "source": [
    "# Step:4 Prediction on test data\n",
    "mlp_test_predict = model.predict(X_test)\n",
    "\n",
    "# Step:5 Prediction on training data\n",
    "mlp_train_predict = model.predict(X_train)"
   ]
  },
  {
   "cell_type": "markdown",
   "id": "1913ea6c-f5d3-478d-81c8-63a455ad0e0f",
   "metadata": {},
   "source": [
    "##### TRAINING ACCURACY"
   ]
  },
  {
   "cell_type": "code",
   "execution_count": 211,
   "id": "b826edd3-280f-47a0-8c93-64a9cfb89b5a",
   "metadata": {},
   "outputs": [
    {
     "name": "stdout",
     "output_type": "stream",
     "text": [
      "Training accuracy of MLP model is: 66.54187465335552\n",
      "Classification report of training:\n",
      "               precision    recall  f1-score   support\n",
      "\n",
      "           0       0.62      0.68      0.65      3246\n",
      "           1       0.72      0.65      0.68      3966\n",
      "\n",
      "    accuracy                           0.67      7212\n",
      "   macro avg       0.67      0.67      0.66      7212\n",
      "weighted avg       0.67      0.67      0.67      7212\n",
      "\n"
     ]
    }
   ],
   "source": [
    "mlp_train_accuracy = accuracy_score(mlp_train_predict,y_train)\n",
    "print(\"Training accuracy of MLP model is:\",mlp_train_accuracy*100)\n",
    "print(\"Classification report of training:\"'\\n',classification_report(mlp_train_predict,y_train))"
   ]
  },
  {
   "cell_type": "markdown",
   "id": "d923d717-78b7-46c1-9914-9ffe5c7b12c0",
   "metadata": {},
   "source": [
    "##### TESTING ACCURACY"
   ]
  },
  {
   "cell_type": "code",
   "execution_count": 213,
   "id": "350966ec-b089-441f-b480-12c667276cbf",
   "metadata": {},
   "outputs": [
    {
     "name": "stdout",
     "output_type": "stream",
     "text": [
      "Testing accuracy of MLP model is: 66.29711751662971\n",
      "Classification report of testing:\n",
      "               precision    recall  f1-score   support\n",
      "\n",
      "           0       0.60      0.69      0.64       795\n",
      "           1       0.72      0.64      0.68      1009\n",
      "\n",
      "    accuracy                           0.66      1804\n",
      "   macro avg       0.66      0.67      0.66      1804\n",
      "weighted avg       0.67      0.66      0.66      1804\n",
      "\n"
     ]
    }
   ],
   "source": [
    "mlp_test_accuracy = accuracy_score(mlp_test_predict,y_test)\n",
    "print(\"Testing accuracy of MLP model is:\",mlp_test_accuracy*100)\n",
    "print(\"Classification report of testing:\"'\\n',classification_report(mlp_test_predict,y_test))"
   ]
  },
  {
   "cell_type": "markdown",
   "id": "afb40d49-00f3-4aeb-90b0-9b0f69eccaa6",
   "metadata": {},
   "source": [
    "- ANN model not perform well on training as well as testing data"
   ]
  },
  {
   "cell_type": "markdown",
   "id": "8c2a110e-cc78-470f-887b-63196b4b61d5",
   "metadata": {
    "jp-MarkdownHeadingCollapsed": true
   },
   "source": [
    "### MODEL EVALUATION."
   ]
  },
  {
   "cell_type": "code",
   "execution_count": 216,
   "id": "5e976906-fea0-4557-9576-a064801035dd",
   "metadata": {},
   "outputs": [
    {
     "data": {
      "text/html": [
       "<style type=\"text/css\">\n",
       "</style>\n",
       "<table id=\"T_97fb0\">\n",
       "  <thead>\n",
       "    <tr>\n",
       "      <th id=\"T_97fb0_level0_col0\" class=\"col_heading level0 col0\" >Model</th>\n",
       "      <th id=\"T_97fb0_level0_col1\" class=\"col_heading level0 col1\" >Accuracy(Train)</th>\n",
       "      <th id=\"T_97fb0_level0_col2\" class=\"col_heading level0 col2\" >Accuracy(Test)</th>\n",
       "    </tr>\n",
       "  </thead>\n",
       "  <tbody>\n",
       "    <tr>\n",
       "      <td id=\"T_97fb0_row0_col0\" class=\"data row0 col0\" >Logistic Regression</td>\n",
       "      <td id=\"T_97fb0_row0_col1\" class=\"data row0 col1\" >60.440932</td>\n",
       "      <td id=\"T_97fb0_row0_col2\" class=\"data row0 col2\" >58.592018</td>\n",
       "    </tr>\n",
       "    <tr>\n",
       "      <td id=\"T_97fb0_row1_col0\" class=\"data row1 col0\" >KNeighboursClassifier</td>\n",
       "      <td id=\"T_97fb0_row1_col1\" class=\"data row1 col1\" >74.195785</td>\n",
       "      <td id=\"T_97fb0_row1_col2\" class=\"data row1 col2\" >69.900222</td>\n",
       "    </tr>\n",
       "    <tr>\n",
       "      <td id=\"T_97fb0_row2_col0\" class=\"data row2 col0\" >Decision Tree</td>\n",
       "      <td id=\"T_97fb0_row2_col1\" class=\"data row2 col1\" >81.683306</td>\n",
       "      <td id=\"T_97fb0_row2_col2\" class=\"data row2 col2\" >68.736142</td>\n",
       "    </tr>\n",
       "    <tr>\n",
       "      <td id=\"T_97fb0_row3_col0\" class=\"data row3 col0\" >RandomForestClassifier</td>\n",
       "      <td id=\"T_97fb0_row3_col1\" class=\"data row3 col1\" >81.683306</td>\n",
       "      <td id=\"T_97fb0_row3_col2\" class=\"data row3 col2\" >71.618625</td>\n",
       "    </tr>\n",
       "    <tr>\n",
       "      <td id=\"T_97fb0_row4_col0\" class=\"data row4 col0\" >Gradient Boosting Classifier</td>\n",
       "      <td id=\"T_97fb0_row4_col1\" class=\"data row4 col1\" >72.323905</td>\n",
       "      <td id=\"T_97fb0_row4_col2\" class=\"data row4 col2\" >70.620843</td>\n",
       "    </tr>\n",
       "    <tr>\n",
       "      <td id=\"T_97fb0_row5_col0\" class=\"data row5 col0\" >XGB Classifier</td>\n",
       "      <td id=\"T_97fb0_row5_col1\" class=\"data row5 col1\" >77.579035</td>\n",
       "      <td id=\"T_97fb0_row5_col2\" class=\"data row5 col2\" >70.898004</td>\n",
       "    </tr>\n",
       "    <tr>\n",
       "      <td id=\"T_97fb0_row6_col0\" class=\"data row6 col0\" >Artifial Neural Network</td>\n",
       "      <td id=\"T_97fb0_row6_col1\" class=\"data row6 col1\" >66.541875</td>\n",
       "      <td id=\"T_97fb0_row6_col2\" class=\"data row6 col2\" >66.297118</td>\n",
       "    </tr>\n",
       "  </tbody>\n",
       "</table>\n"
      ],
      "text/plain": [
       "<pandas.io.formats.style.Styler at 0x293fbe1b770>"
      ]
     },
     "metadata": {},
     "output_type": "display_data"
    }
   ],
   "source": [
    "results=pd.DataFrame({'Model': ['Logistic Regression','KNeighboursClassifier','Decision Tree','RandomForestClassifier', 'Gradient Boosting Classifier','XGB Classifier','Artifial Neural Network'],\n",
    "                      'Accuracy(Train)': [log_train_accuracy*100,knn_train_accuracy*100,dtc_train_accuracy*100,rf_train_accuracy*100,gbm_train_accuracy*100,xgb_train_accuracy*100,mlp_train_accuracy*100],\n",
    "                      'Accuracy(Test)': [log_test_accuracy*100,bagg_accuracy*100,dt1_test_accuracy*100,test_accuracy*100,gbm_test_accuracy*100,XGB_accuracy*100,mlp_test_accuracy*100]})\n",
    "display(results.style.hide(axis='index'))"
   ]
  },
  {
   "cell_type": "markdown",
   "id": "5b4f1978-d2e3-45de-977f-020c2b25d218",
   "metadata": {},
   "source": [
    "In this case, the Gradient Boosting Classifier is a good choice.\n",
    "- It is not underfitting, as shown by its decent training accuracy (~71.9%).\n",
    "- It is not overfitting, since the test accuracy (~69.5%) is close to the training accuracy.\n",
    "- The small gap between train and test accuracy (~2.3%) indicates low variance.\n",
    "- The model demonstrates both low bias and low variance, which is ideal.\n",
    "- It provides stable, generalizable, and accurate predictions.\n",
    "- It avoids the problems of both overfitting and underfitting.\n",
    "- This makes it well-suited for real-world applications where consistent performance is important."
   ]
  },
  {
   "cell_type": "code",
   "execution_count": null,
   "id": "af0126a3-96c0-445f-8c32-f85bb3d7468d",
   "metadata": {},
   "outputs": [],
   "source": []
  }
 ],
 "metadata": {
  "kernelspec": {
   "display_name": "Python 3 (ipykernel)",
   "language": "python",
   "name": "python3"
  },
  "language_info": {
   "codemirror_mode": {
    "name": "ipython",
    "version": 3
   },
   "file_extension": ".py",
   "mimetype": "text/x-python",
   "name": "python",
   "nbconvert_exporter": "python",
   "pygments_lexer": "ipython3",
   "version": "3.12.4"
  }
 },
 "nbformat": 4,
 "nbformat_minor": 5
}
